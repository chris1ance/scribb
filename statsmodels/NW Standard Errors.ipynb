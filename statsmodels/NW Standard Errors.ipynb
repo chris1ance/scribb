{
 "cells": [
  {
   "cell_type": "code",
   "execution_count": 5,
   "metadata": {},
   "outputs": [],
   "source": [
    "import statsmodels.api as sm\n",
    "import numpy as np\n",
    "import pandas as pd\n",
    "\n",
    "from fredapi import Fred\n",
    "from dotenv import load_dotenv\n",
    "import os\n",
    "load_dotenv()  # take environment variables\n",
    "FREDAPIKEY = os.getenv('FREDAPIKEY')\n",
    "fred = Fred(api_key=FREDAPIKEY)"
   ]
  },
  {
   "cell_type": "code",
   "execution_count": 15,
   "metadata": {},
   "outputs": [],
   "source": [
    "gdp = fred.get_series_latest_release('GDPC1').rename(\"GDPC1\")\n",
    "pce = fred.get_series_latest_release('PCECC96').rename(\"PCECC96\")"
   ]
  },
  {
   "cell_type": "code",
   "execution_count": 16,
   "metadata": {},
   "outputs": [],
   "source": [
    "# Prepare your data\n",
    "# X should be your independent variables (add constant if needed)\n",
    "# y should be your dependent variable\n",
    "X = sm.add_constant(pce)  # Add constant term\n",
    "y = gdp.copy()\n"
   ]
  },
  {
   "cell_type": "code",
   "execution_count": 17,
   "metadata": {},
   "outputs": [
    {
     "name": "stdout",
     "output_type": "stream",
     "text": [
      "                            OLS Regression Results                            \n",
      "==============================================================================\n",
      "Dep. Variable:                  GDPC1   R-squared:                       0.999\n",
      "Model:                            OLS   Adj. R-squared:                  0.999\n",
      "Method:                 Least Squares   F-statistic:                 2.640e+05\n",
      "Date:                Thu, 19 Dec 2024   Prob (F-statistic):               0.00\n",
      "Time:                        19:39:24   Log-Likelihood:                -2105.4\n",
      "No. Observations:                 311   AIC:                             4215.\n",
      "Df Residuals:                     309   BIC:                             4222.\n",
      "Df Model:                           1                                         \n",
      "Covariance Type:            nonrobust                                         \n",
      "==============================================================================\n",
      "                 coef    std err          t      P>|t|      [0.025      0.975]\n",
      "------------------------------------------------------------------------------\n",
      "const        602.3464     22.041     27.329      0.000     558.978     645.715\n",
      "PCECC96        1.4396      0.003    513.852      0.000       1.434       1.445\n",
      "==============================================================================\n",
      "Omnibus:                        3.253   Durbin-Watson:                   0.082\n",
      "Prob(Omnibus):                  0.197   Jarque-Bera (JB):                3.321\n",
      "Skew:                          -0.243   Prob(JB):                        0.190\n",
      "Kurtosis:                       2.861   Cond. No.                     1.45e+04\n",
      "==============================================================================\n",
      "\n",
      "Notes:\n",
      "[1] Standard Errors assume that the covariance matrix of the errors is correctly specified.\n",
      "[2] The condition number is large, 1.45e+04. This might indicate that there are\n",
      "strong multicollinearity or other numerical problems.\n"
     ]
    }
   ],
   "source": [
    "# Fit OLS regression\n",
    "model = sm.OLS(y, X)\n",
    "results = model.fit()\n",
    "print(results.summary())"
   ]
  },
  {
   "cell_type": "code",
   "execution_count": 21,
   "metadata": {},
   "outputs": [
    {
     "name": "stdout",
     "output_type": "stream",
     "text": [
      "                            OLS Regression Results                            \n",
      "==============================================================================\n",
      "Dep. Variable:                  GDPC1   R-squared:                       0.999\n",
      "Model:                            OLS   Adj. R-squared:                  0.999\n",
      "Method:                 Least Squares   F-statistic:                 3.626e+04\n",
      "Date:                Thu, 19 Dec 2024   Prob (F-statistic):          2.27e-322\n",
      "Time:                        19:45:47   Log-Likelihood:                -2105.4\n",
      "No. Observations:                 311   AIC:                             4215.\n",
      "Df Residuals:                     309   BIC:                             4222.\n",
      "Df Model:                           1                                         \n",
      "Covariance Type:                  HAC                                         \n",
      "==============================================================================\n",
      "                 coef    std err          z      P>|z|      [0.025      0.975]\n",
      "------------------------------------------------------------------------------\n",
      "const        602.3464     53.334     11.294      0.000     497.814     706.878\n",
      "PCECC96        1.4396      0.008    190.423      0.000       1.425       1.454\n",
      "==============================================================================\n",
      "Omnibus:                        3.253   Durbin-Watson:                   0.082\n",
      "Prob(Omnibus):                  0.197   Jarque-Bera (JB):                3.321\n",
      "Skew:                          -0.243   Prob(JB):                        0.190\n",
      "Kurtosis:                       2.861   Cond. No.                     1.45e+04\n",
      "==============================================================================\n",
      "\n",
      "Notes:\n",
      "[1] Standard Errors are heteroscedasticity and autocorrelation robust (HAC) using 5 lags and with small sample correction\n",
      "[2] The condition number is large, 1.45e+04. This might indicate that there are\n",
      "strong multicollinearity or other numerical problems.\n"
     ]
    }
   ],
   "source": [
    "# Now with HAC standard errors\n",
    "model = sm.OLS(y, X)\n",
    "\n",
    "# Calculate optimal lag length\n",
    "T = len(y)  # Sample size\n",
    "optimal_lag = int(np.floor(4 * (T/100)**(2/9))) # Newey and West, 1994, \"Automatic Lag Selection in Covariance Matrix Estimation,\" RES\n",
    "\n",
    "results = model.fit(cov_type='HAC', cov_kwds={'maxlags': optimal_lag, 'use_correction': True})\n",
    "\n",
    "print(results.summary())"
   ]
  }
 ],
 "metadata": {
  "kernelspec": {
   "display_name": ".venv",
   "language": "python",
   "name": "python3"
  },
  "language_info": {
   "codemirror_mode": {
    "name": "ipython",
    "version": 3
   },
   "file_extension": ".py",
   "mimetype": "text/x-python",
   "name": "python",
   "nbconvert_exporter": "python",
   "pygments_lexer": "ipython3",
   "version": "3.11.11"
  }
 },
 "nbformat": 4,
 "nbformat_minor": 2
}
