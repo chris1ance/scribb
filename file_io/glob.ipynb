{
 "cells": [
  {
   "cell_type": "code",
   "execution_count": 5,
   "metadata": {},
   "outputs": [],
   "source": [
    "import glob\n",
    "import os"
   ]
  },
  {
   "cell_type": "markdown",
   "metadata": {},
   "source": [
    "# `glob.glob`\n",
    "\n",
    "* The `glob.glob` function returns a list of path names that match the given pattern.\n",
    "* Always returns a list of strings, unless no files are found, in which case returns an empty list `[]`\n",
    "* The order of the returned list is not guaranteed. If order matters, you may need to sort the list using `sorted()`."
   ]
  },
  {
   "cell_type": "markdown",
   "metadata": {},
   "source": [
    "## Examples"
   ]
  },
  {
   "cell_type": "code",
   "execution_count": 6,
   "metadata": {},
   "outputs": [
    {
     "name": "stdout",
     "output_type": "stream",
     "text": [
      "[]\n"
     ]
    }
   ],
   "source": [
    "# Match files that start with 'data_' and end with '.csv' in the current directory\n",
    "data_files = glob.glob(\"data_*.csv\")\n",
    "print(data_files)"
   ]
  },
  {
   "cell_type": "code",
   "execution_count": 7,
   "metadata": {},
   "outputs": [
    {
     "name": "stdout",
     "output_type": "stream",
     "text": [
      "['scripts/get_script_loc.py']\n"
     ]
    }
   ],
   "source": [
    "# Match files that end with '.py' in a different directory\n",
    "file_pattern = os.path.join(\"scripts\", \"*.py\")\n",
    "data_files = glob.glob(file_pattern)\n",
    "print(data_files)"
   ]
  },
  {
   "cell_type": "code",
   "execution_count": 8,
   "metadata": {},
   "outputs": [
    {
     "name": "stdout",
     "output_type": "stream",
     "text": [
      "['path_join.ipynb', 'glob.ipynb']\n"
     ]
    }
   ],
   "source": [
    "# Match files that end with '.ipynb' in the current directory\n",
    "data_files = glob.glob(\"*.ipynb\")\n",
    "print(data_files)"
   ]
  },
  {
   "cell_type": "markdown",
   "metadata": {},
   "source": []
  }
 ],
 "metadata": {
  "kernelspec": {
   "display_name": ".venv",
   "language": "python",
   "name": "python3"
  },
  "language_info": {
   "codemirror_mode": {
    "name": "ipython",
    "version": 3
   },
   "file_extension": ".py",
   "mimetype": "text/x-python",
   "name": "python",
   "nbconvert_exporter": "python",
   "pygments_lexer": "ipython3",
   "version": "3.11.11"
  }
 },
 "nbformat": 4,
 "nbformat_minor": 2
}
