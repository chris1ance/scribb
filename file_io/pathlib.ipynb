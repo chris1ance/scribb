{
 "cells": [
  {
   "cell_type": "markdown",
   "metadata": {},
   "source": [
    "# `pathlib`\n",
    "\n",
    "The `pathlib` module was introduced in Python 3.4 and provides classes representing filesystem paths with semantics appropriate for different operating systems. The `Path` class (and its subclasses) encapsulate many operations that you would otherwise perform using functions in `os` and `os.path`.\n",
    "\n",
    "A `Path` object can be created by simply instantiating it with a string representing the filesystem path. `Paths` can be relative or absolute."
   ]
  },
  {
   "cell_type": "code",
   "execution_count": 12,
   "metadata": {},
   "outputs": [],
   "source": [
    "from pathlib import Path"
   ]
  },
  {
   "cell_type": "code",
   "execution_count": 13,
   "metadata": {},
   "outputs": [
    {
     "name": "stdout",
     "output_type": "stream",
     "text": [
      "example.txt\n",
      "/usr/local/bin\n"
     ]
    }
   ],
   "source": [
    "relative_path = Path(\"example.txt\")\n",
    "print(relative_path)\n",
    "\n",
    "absolute_path = Path(\"/usr/local/bin\")\n",
    "print(absolute_path)"
   ]
  },
  {
   "cell_type": "markdown",
   "metadata": {},
   "source": [
    "Calling `Path()` on `None` raises an error."
   ]
  },
  {
   "cell_type": "markdown",
   "metadata": {},
   "source": [
    "Calling `Path()` again on a `Path` object does not change the object:"
   ]
  },
  {
   "cell_type": "code",
   "execution_count": 17,
   "metadata": {},
   "outputs": [
    {
     "data": {
      "text/plain": [
       "True"
      ]
     },
     "execution_count": 17,
     "metadata": {},
     "output_type": "execute_result"
    }
   ],
   "source": [
    "print(\n",
    "    relative_path == Path(relative_path),\n",
    "    absolute_path == Path(absolute_path),\n",
    ")"
   ]
  },
  {
   "cell_type": "markdown",
   "metadata": {},
   "source": [
    "Python's `pathlib.Path` objects can easily be converted to strings using the built-in `str()` function... "
   ]
  },
  {
   "cell_type": "code",
   "execution_count": 14,
   "metadata": {},
   "outputs": [
    {
     "name": "stdout",
     "output_type": "stream",
     "text": [
      "example.txt\n",
      "/usr/local/bin\n"
     ]
    }
   ],
   "source": [
    "print(str(relative_path))\n",
    "print(str(absolute_path))"
   ]
  },
  {
   "cell_type": "markdown",
   "metadata": {},
   "source": [
    "...or used directly in an f-string:"
   ]
  },
  {
   "cell_type": "code",
   "execution_count": 15,
   "metadata": {},
   "outputs": [
    {
     "name": "stdout",
     "output_type": "stream",
     "text": [
      "example.txt\n",
      "/usr/local/bin\n"
     ]
    }
   ],
   "source": [
    "print(f\"{relative_path}\")\n",
    "print(f\"{absolute_path}\")"
   ]
  },
  {
   "cell_type": "markdown",
   "metadata": {},
   "source": [
    "You can also join paths using the division operator `/`, which is overloaded to handle path concatenation."
   ]
  },
  {
   "cell_type": "code",
   "execution_count": 16,
   "metadata": {},
   "outputs": [
    {
     "name": "stdout",
     "output_type": "stream",
     "text": [
      "/usr/local/bin/subfolder/file.txt\n"
     ]
    }
   ],
   "source": [
    "# Joining paths using the '/' operator\n",
    "sub_path = Path(\"/usr/local/bin\") / \"subfolder\" / \"file.txt\"\n",
    "print(sub_path)"
   ]
  },
  {
   "cell_type": "markdown",
   "metadata": {},
   "source": [
    "# Common Path Operations\n",
    "\n",
    "```python\n",
    "#### Create a Path object pointing to the current working directory.\n",
    "\n",
    "current_directory = Path.cwd()\n",
    "\n",
    "#### Checking existence\n",
    "\n",
    "print(sub_path.exists())  # Returns True if the path exists\n",
    "\n",
    "#### Determining type\n",
    "\n",
    "print(sub_path.is_file())  # Returns True if the path is a file\n",
    "print(sub_path.is_dir())   # Returns True if the path is a directory\n",
    "\n",
    "#### Retrieving Parts of the Path\n",
    "\n",
    "print(sub_path.name)       # File name (e.g., 'file.txt')\n",
    "print(sub_path.stem)       # File name without suffix (e.g., 'file')\n",
    "print(sub_path.suffix)     # File extension (e.g., '.txt')\n",
    "print(sub_path.parent)     # Parent directory\n",
    "\n",
    "#### Getting the absolute path\n",
    "\n",
    "print(sub_path.resolve())  # Returns the absolute path\n",
    "\n",
    "#### Listing directory contents\n",
    "\n",
    "for item in current_directory.iterdir():\n",
    "    print(item)\n",
    "\n",
    "#### Pattern matching with `glob`\n",
    "\n",
    "# Lists all Python files in the current directory\n",
    "for py_file in current_directory.glob(\"*.py\"):\n",
    "    print(py_file)\n",
    "\n",
    "# Recursively lists all Python files in the current directory and subdirectories\n",
    "for py_file in current_directory.rglob(\"*.py\"):\n",
    "    print(py_file)\n",
    "\n",
    "#### Create a single directory\n",
    "\n",
    "# Create a Path object for the directory\n",
    "directory = Path('my_directory')\n",
    "\n",
    "# Create the directory.\n",
    "# exist_ok=True ensures that no error is raised if the directory already exists.\n",
    "directory.mkdir(exist_ok=True)\n",
    "\n",
    "#### Creating a Nested Directory Structure\n",
    "\n",
    "# Create a Path object for the nested directories.\n",
    "nested_directory = Path('parent_dir/child_dir/grandchild_dir')\n",
    "\n",
    "# Create all the intermediate directories if they don't exist.\n",
    "nested_directory.mkdir(parents=True, exist_ok=True)\n",
    "```"
   ]
  }
 ],
 "metadata": {
  "kernelspec": {
   "display_name": ".venv",
   "language": "python",
   "name": "python3"
  },
  "language_info": {
   "codemirror_mode": {
    "name": "ipython",
    "version": 3
   },
   "file_extension": ".py",
   "mimetype": "text/x-python",
   "name": "python",
   "nbconvert_exporter": "python",
   "pygments_lexer": "ipython3",
   "version": "3.11.11"
  }
 },
 "nbformat": 4,
 "nbformat_minor": 2
}
