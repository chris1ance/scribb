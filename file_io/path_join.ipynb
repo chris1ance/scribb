{
 "cells": [
  {
   "cell_type": "markdown",
   "metadata": {},
   "source": [
    "# `os.path.join`\n",
    "\n",
    "`os.path.join` intelligently joins one or more path components into a single path string. It ensures that the correct path separators are used for the operating system on which the code is running (e.g., / for UNIX/Linux/macOS and \\ for Windows). This makes your code more portable and readable."
   ]
  },
  {
   "cell_type": "markdown",
   "metadata": {},
   "source": [
    "__Syntax:__\n",
    "\n",
    "```python\n",
    "os.path.join(path, *paths)\n",
    "```\n",
    "\n",
    "* `path`: The initial path component.\n",
    "* `*paths`: Additional path components to be joined."
   ]
  },
  {
   "cell_type": "markdown",
   "metadata": {},
   "source": [
    "__Notes:__\n",
    "\n",
    "If any component in `*paths` is an absolute path, all previous components are discarded, and joining continues from the absolute path component.\n",
    "\n",
    "```python\n",
    "path1 = \"/home/user\"\n",
    "path2 = \"/etc/config\"\n",
    "\n",
    "full_path = os.path.join(path1, path2)\n",
    "print(full_path)  # Outputs: '/etc/config' on UNIX/Linux/macOS\n",
    "```"
   ]
  },
  {
   "cell_type": "markdown",
   "metadata": {},
   "source": [
    "__Common Use Cases:__\n",
    "\n",
    "Using `os.path.join` with `__file__`:\n",
    "* A common use case is constructing paths relative to the current script’s location:\n",
    "* See `get_script_loc.py` for an example."
   ]
  },
  {
   "cell_type": "markdown",
   "metadata": {},
   "source": [
    "__Examples:__\n",
    "\n",
    "Two components:\n",
    "\n",
    "```python\n",
    "import os\n",
    "folder = \"documents\"\n",
    "filename = \"report.txt\"\n",
    "full_path = os.path.join(folder, filename)\n",
    "print(full_path)  # Outputs: 'documents/report.txt' on UNIX/Linux/macOS or 'documents\\report.txt' on Windows\n",
    "```\n",
    "\n",
    "Multiple components:\n",
    "\n",
    "```python\n",
    "import os\n",
    "base_dir = \"/home/user\" # If using Windows: base_dir = r\"C:\\Users\\Username\"\n",
    "                        # If you need to define absolute paths in Windows, use raw strings to avoid escape sequence issues.\n",
    "sub_dir = \"projects\"\n",
    "project_name = \"my_project\"\n",
    "filename = \"main.py\"\n",
    "\n",
    "full_path = os.path.join(base_dir, sub_dir, project_name, filename)\n",
    "print(full_path)\n",
    "# Outputs:\n",
    "# '/home/user/projects/my_project/main.py' on UNIX/Linux/macOS\n",
    "# or \n",
    "# 'C:\\Users\\Username\\projects\\my_project\\main.py' on Windows (assuming base_dir was adjusted for Windows)\n",
    "```"
   ]
  }
 ],
 "metadata": {
  "kernelspec": {
   "display_name": ".venv",
   "language": "python",
   "name": "python3"
  },
  "language_info": {
   "codemirror_mode": {
    "name": "ipython",
    "version": 3
   },
   "file_extension": ".py",
   "mimetype": "text/x-python",
   "name": "python",
   "nbconvert_exporter": "python",
   "pygments_lexer": "ipython3",
   "version": "3.11.11"
  }
 },
 "nbformat": 4,
 "nbformat_minor": 2
}
