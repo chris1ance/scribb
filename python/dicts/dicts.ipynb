{
 "cells": [
  {
   "cell_type": "markdown",
   "metadata": {},
   "source": [
    "# dicts\n",
    "\n",
    "* `dict.keys()` returns a `dict_keys` object\n",
    "* `dict.values()` returns a `dict_values` object\n",
    "* `dict_keys` and `dict_values` are __not__subscriptable\n",
    "    * So, something like `dict_keys[0]` will fail\n",
    "\n",
    "```python\n",
    "\n",
    "# This will fail\n",
    "mydict.keys()[0]\n",
    "\n",
    "# This will also fail\n",
    "mydict.values()[0]\n",
    "\n",
    "```"
   ]
  },
  {
   "cell_type": "code",
   "execution_count": 2,
   "metadata": {},
   "outputs": [],
   "source": [
    "mydict = {\"Monthly\": \"M\", \"Quarterly\": \"Q\", \"Annual\": \"A\", \"Weekly\": \"W\", \"Daily\": \"D\"}"
   ]
  },
  {
   "cell_type": "markdown",
   "metadata": {},
   "source": [
    "# Keys or Values as a List"
   ]
  },
  {
   "cell_type": "code",
   "execution_count": 3,
   "metadata": {},
   "outputs": [
    {
     "data": {
      "text/plain": [
       "['Monthly', 'Quarterly', 'Annual', 'Weekly', 'Daily']"
      ]
     },
     "execution_count": 3,
     "metadata": {},
     "output_type": "execute_result"
    }
   ],
   "source": [
    "# Option 1\n",
    "[key for key in mydict.keys()]"
   ]
  },
  {
   "cell_type": "code",
   "execution_count": 4,
   "metadata": {},
   "outputs": [
    {
     "data": {
      "text/plain": [
       "['Monthly', 'Quarterly', 'Annual', 'Weekly', 'Daily']"
      ]
     },
     "execution_count": 4,
     "metadata": {},
     "output_type": "execute_result"
    }
   ],
   "source": [
    "# Option 2\n",
    "list(mydict.keys())"
   ]
  }
 ],
 "metadata": {
  "kernelspec": {
   "display_name": ".venv",
   "language": "python",
   "name": "python3"
  },
  "language_info": {
   "codemirror_mode": {
    "name": "ipython",
    "version": 3
   },
   "file_extension": ".py",
   "mimetype": "text/x-python",
   "name": "python",
   "nbconvert_exporter": "python",
   "pygments_lexer": "ipython3",
   "version": "3.11.9"
  }
 },
 "nbformat": 4,
 "nbformat_minor": 2
}
