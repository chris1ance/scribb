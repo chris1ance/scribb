{
 "cells": [
  {
   "cell_type": "markdown",
   "metadata": {},
   "source": [
    "# Arguments"
   ]
  },
  {
   "cell_type": "markdown",
   "metadata": {},
   "source": [
    "## Not allowed\n",
    "\n",
    "### Same kwarg to be passed twice\n",
    "\n",
    "```python\n",
    "def func(x):\n",
    "    print(x)\n",
    "\n",
    "def wrapper(**kwargs):\n",
    "    func(x=1,**kwargs)\n",
    "\n",
    "wrapper(x=2)\n",
    "# TypeError: __main__.func() got multiple values for keyword argument 'x'\n",
    "\n",
    "```"
   ]
  }
 ],
 "metadata": {
  "kernelspec": {
   "display_name": ".venv",
   "language": "python",
   "name": "python3"
  },
  "language_info": {
   "codemirror_mode": {
    "name": "ipython",
    "version": 3
   },
   "file_extension": ".py",
   "mimetype": "text/x-python",
   "name": "python",
   "nbconvert_exporter": "python",
   "pygments_lexer": "ipython3",
   "version": "3.11.9"
  }
 },
 "nbformat": 4,
 "nbformat_minor": 2
}
