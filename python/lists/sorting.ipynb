{
 "cells": [
  {
   "cell_type": "code",
   "execution_count": null,
   "metadata": {},
   "outputs": [],
   "source": []
  },
  {
   "cell_type": "markdown",
   "metadata": {},
   "source": [
    "# `sorted()`\n",
    "\n",
    "* The `sorted()` function is a built-in function that returns a new sorted list from the elements of any iterable (e.g., lists, tuples, strings).\n",
    "* Can sort any iterable, not just lists.\n",
    "* Does not modify the original iterable; returns a new sorted list.\n",
    "\n",
    "Syntax:\n",
    "\n",
    "```python\n",
    "sorted(iterable, key=None, reverse=False)\n",
    "```\n",
    "\n",
    "- __iterable__: The collection to sort.\n",
    "- __key__: (Optional) A function that serves as a key for the sort comparison.\n",
    "- __reverse__: (Optional) If `True`, the list elements are sorted as if each comparison were reversed."
   ]
  },
  {
   "cell_type": "code",
   "execution_count": 1,
   "metadata": {},
   "outputs": [
    {
     "name": "stdout",
     "output_type": "stream",
     "text": [
      "[1970, 1980, 1990, 2000, 2010, 2020]\n"
     ]
    }
   ],
   "source": [
    "numbers = [2020, 1970, 1980, 2000, 2010, 1990]\n",
    "sorted_numbers = sorted(numbers)\n",
    "print(sorted_numbers)  # Output: [1970, 1980, 1990, 2000, 2010, 2020]"
   ]
  },
  {
   "cell_type": "code",
   "execution_count": 2,
   "metadata": {},
   "outputs": [
    {
     "name": "stdout",
     "output_type": "stream",
     "text": [
      "['1970', '1980', '1990', '2000', '2010', '2020']\n"
     ]
    }
   ],
   "source": [
    "strings = [\"2020\", \"1970\", \"1980\", \"2000\", \"2010\", \"1990\"]\n",
    "sorted_strings = sorted(strings)\n",
    "print(sorted_strings)  # Output: ['1970', '1980', '1990', '2000', '2010', '2020']"
   ]
  },
  {
   "cell_type": "markdown",
   "metadata": {},
   "source": [
    "# `list.sort()`\n",
    "\n",
    "* sorts the list in place, meaning it modifies the original list and returns `None`\n",
    "\n",
    "Syntax:\n",
    "\n",
    "```python\n",
    "list.sort(key=None, reverse=False)\n",
    "```\n",
    "\n",
    "- __key__: (Optional) A function that serves as a key for the sort comparison.\n",
    "- __reverse__: (Optional) If `True`, the list elements are sorted as if each comparison were reversed."
   ]
  },
  {
   "cell_type": "code",
   "execution_count": 3,
   "metadata": {},
   "outputs": [
    {
     "name": "stdout",
     "output_type": "stream",
     "text": [
      "[1970, 1980, 1990, 2000, 2010, 2020]\n"
     ]
    }
   ],
   "source": [
    "numbers = [2020, 1970, 1980, 2000, 2010, 1990]\n",
    "numbers.sort()\n",
    "print(numbers)  # Output: [1970, 1980, 1990, 2000, 2010, 2020]"
   ]
  },
  {
   "cell_type": "code",
   "execution_count": 4,
   "metadata": {},
   "outputs": [
    {
     "name": "stdout",
     "output_type": "stream",
     "text": [
      "['1970', '1980', '1990', '2000', '2010', '2020']\n"
     ]
    }
   ],
   "source": [
    "strings = [\"2020\", \"1970\", \"1980\", \"2000\", \"2010\", \"1990\"]\n",
    "strings.sort()\n",
    "print(strings)  # Output: ['1970', '1980', '1990', '2000', '2010', '2020']"
   ]
  },
  {
   "cell_type": "code",
   "execution_count": null,
   "metadata": {},
   "outputs": [],
   "source": []
  }
 ],
 "metadata": {
  "kernelspec": {
   "display_name": ".venv",
   "language": "python",
   "name": "python3"
  },
  "language_info": {
   "codemirror_mode": {
    "name": "ipython",
    "version": 3
   },
   "file_extension": ".py",
   "mimetype": "text/x-python",
   "name": "python",
   "nbconvert_exporter": "python",
   "pygments_lexer": "ipython3",
   "version": "3.11.11"
  }
 },
 "nbformat": 4,
 "nbformat_minor": 2
}
