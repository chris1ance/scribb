{
 "cells": [
  {
   "cell_type": "code",
   "execution_count": 7,
   "metadata": {},
   "outputs": [],
   "source": [
    "from datetime import datetime, date, time"
   ]
  },
  {
   "cell_type": "markdown",
   "metadata": {},
   "source": [
    "# Common format codes\n",
    "\n",
    "- `%Y`: Year with century (2024)\n",
    "- `%m`: Month as zero-padded number (01-12)\n",
    "- `%d`: Day as zero-padded number (01-31)"
   ]
  },
  {
   "cell_type": "markdown",
   "metadata": {},
   "source": [
    "# datetime vs. date\n",
    "\n",
    "- `datetime` objects store both date AND time information\n",
    "    - Type: `datetime.datetime`\n",
    "- `date` objects ONLY store date information (no time)\n",
    "    - Type: `datetime.date`"
   ]
  },
  {
   "cell_type": "markdown",
   "metadata": {},
   "source": [
    "# Creation"
   ]
  },
  {
   "cell_type": "markdown",
   "metadata": {},
   "source": [
    "## datetime"
   ]
  },
  {
   "cell_type": "code",
   "execution_count": 8,
   "metadata": {},
   "outputs": [
    {
     "name": "stdout",
     "output_type": "stream",
     "text": [
      "2025-02-18 11:23:22.374517\n"
     ]
    }
   ],
   "source": [
    "now = datetime.now() # Current date and time\n",
    "print(now)"
   ]
  },
  {
   "cell_type": "markdown",
   "metadata": {},
   "source": [
    "## date"
   ]
  },
  {
   "cell_type": "code",
   "execution_count": 9,
   "metadata": {},
   "outputs": [
    {
     "name": "stdout",
     "output_type": "stream",
     "text": [
      "2025-02-18\n"
     ]
    }
   ],
   "source": [
    "today = date.today() # Current date\n",
    "print(today)"
   ]
  },
  {
   "cell_type": "code",
   "execution_count": 10,
   "metadata": {},
   "outputs": [
    {
     "name": "stdout",
     "output_type": "stream",
     "text": [
      "Specific date: 2024-12-25\n"
     ]
    }
   ],
   "source": [
    "specific_day = date(2024, 12, 25)  # Year, Month, Day\n",
    "print(\"Specific date:\", specific_day)"
   ]
  },
  {
   "cell_type": "markdown",
   "metadata": {},
   "source": [
    "# Type Checking\n",
    "\n",
    "- `datetime` is a subclass of `date`, so a `datetime` object will return `True` when checked with `isinstance(obj, date)`\n",
    "- For strict type checking of `datetime` only, use `isinstance(obj, datetime)`\n",
    "- For date checking that allows both `date` and `datetime`, use `isinstance(obj, date)`"
   ]
  },
  {
   "cell_type": "code",
   "execution_count": 11,
   "metadata": {},
   "outputs": [
    {
     "name": "stdout",
     "output_type": "stream",
     "text": [
      "type(datetime): <class 'datetime.datetime'>\n",
      "type(date): <class 'datetime.date'>\n",
      "\n",
      "Checking with isinstance():\n",
      "Is dt a datetime? True\n",
      "Is dt a date? True\n",
      "Is d a datetime? False\n",
      "Is d a date? True\n"
     ]
    }
   ],
   "source": [
    "# Create example objects\n",
    "dt = datetime.now()\n",
    "d = date.today()\n",
    "\n",
    "# 1. Using type()\n",
    "print(\"type(datetime):\", type(dt))  # <class 'datetime.datetime'>\n",
    "print(\"type(date):\", type(d))       # <class 'datetime.date'>\n",
    "\n",
    "# 2. Using isinstance()\n",
    "print(\"\\nChecking with isinstance():\")\n",
    "print(\"Is dt a datetime?\", isinstance(dt, datetime)) # True\n",
    "print(\"Is dt a date?\", isinstance(dt, date))         # True (datetime inherits from date)\n",
    "print(\"Is d a datetime?\", isinstance(d, datetime))   # False\n",
    "print(\"Is d a date?\", isinstance(d, date)) "
   ]
  },
  {
   "cell_type": "markdown",
   "metadata": {},
   "source": [
    "# Coercion\n",
    "\n",
    "## datetime to date\n",
    "\n",
    "- `datetime` objects can be converted to `date` objects using the `.date()` method"
   ]
  },
  {
   "cell_type": "code",
   "execution_count": 12,
   "metadata": {},
   "outputs": [
    {
     "name": "stdout",
     "output_type": "stream",
     "text": [
      "Original datetime: 2025-02-18 11:23:22.393816\n",
      "Converted to date: 2025-02-18\n"
     ]
    }
   ],
   "source": [
    "# 1. Converting datetime to date using .date()\n",
    "dt = datetime.now()\n",
    "print(\"Original datetime:\", dt)           # e.g., 2024-03-15 14:30:45\n",
    "d = dt.date()\n",
    "print(\"Converted to date:\", d)           # e.g., 2024-03-15"
   ]
  },
  {
   "cell_type": "markdown",
   "metadata": {},
   "source": [
    "## date to datetime\n",
    "\n",
    "- `date` objects can be converted to `datetime` objects using the `datetime.combine(date_obj, time_obj)` method\n",
    "    - You must provide both a date and a time object"
   ]
  },
  {
   "cell_type": "code",
   "execution_count": 13,
   "metadata": {},
   "outputs": [
    {
     "name": "stdout",
     "output_type": "stream",
     "text": [
      "\n",
      "Original date: 2025-02-18\n",
      "Combined with midnight: 2025-02-18 00:00:00\n",
      "Combined with 2:30 PM: 2025-02-18 14:30:00\n"
     ]
    }
   ],
   "source": [
    "# 2. Converting date to datetime using .combine()\n",
    "today = date.today()\n",
    "print(\"\\nOriginal date:\", today)         # e.g., 2024-03-15\n",
    "\n",
    "# Combine with midnight (00:00:00)\n",
    "dt_midnight = datetime.combine(today, time())\n",
    "print(\"Combined with midnight:\", dt_midnight)  # e.g., 2024-03-15 00:00:00\n",
    "\n",
    "# Combine with specific time\n",
    "specific_time = time(14, 30, 0)  # 2:30 PM\n",
    "dt_specific = datetime.combine(today, specific_time)\n",
    "print(\"Combined with 2:30 PM:\", dt_specific)  # e.g., 2024-03-15 14:30:00"
   ]
  },
  {
   "cell_type": "markdown",
   "metadata": {},
   "source": [
    "## string to datetime\n",
    "\n",
    "- `datetime.strptime(date_str, format_str)` converts a string to a datetime object using a specified format\n"
   ]
  },
  {
   "cell_type": "code",
   "execution_count": 14,
   "metadata": {},
   "outputs": [
    {
     "name": "stdout",
     "output_type": "stream",
     "text": [
      "\n",
      "Common Format Examples:\n",
      "String: 2024-03-15\n",
      "Format: %Y-%m-%d\n",
      "Parsed: 2024-03-15 00:00:00\n",
      "\n",
      "String: 15/03/2024\n",
      "Format: %d/%m/%Y\n",
      "Parsed: 2024-03-15 00:00:00\n",
      "\n",
      "String: 03/15/2024\n",
      "Format: %m/%d/%Y\n",
      "Parsed: 2024-03-15 00:00:00\n",
      "\n",
      "String: 15-Mar-2024\n",
      "Format: %d-%b-%Y\n",
      "Parsed: 2024-03-15 00:00:00\n",
      "\n",
      "String: March 15, 2024\n",
      "Format: %B %d, %Y\n",
      "Parsed: 2024-03-15 00:00:00\n",
      "\n",
      "String: Fri, March 15\n",
      "Format: %a, %B %d\n",
      "Parsed: 1900-03-15 00:00:00\n",
      "\n",
      "String: 14:30:00\n",
      "Format: %H:%M:%S\n",
      "Parsed: 1900-01-01 14:30:00\n",
      "\n",
      "String: 02:30 PM\n",
      "Format: %I:%M %p\n",
      "Parsed: 1900-01-01 14:30:00\n",
      "\n",
      "String: 2024-03-15 14:30\n",
      "Format: %Y-%m-%d %H:%M\n",
      "Parsed: 2024-03-15 14:30:00\n",
      "\n",
      "String: 15/03/24 14:30:00\n",
      "Format: %d/%m/%y %H:%M:%S\n",
      "Parsed: 2024-03-15 14:30:00\n",
      "\n"
     ]
    }
   ],
   "source": [
    "# Fully specified dates\n",
    "examples = {\n",
    "    \"2024-03-15\": \"%Y-%m-%d\",                   # Standard date\n",
    "    \"15/03/2024\": \"%d/%m/%Y\",                   # European date\n",
    "    \"03/15/2024\": \"%m/%d/%Y\",                   # US date\n",
    "    \"15-Mar-2024\": \"%d-%b-%Y\",                  # Date with abbreviated month\n",
    "    \"March 15, 2024\": \"%B %d, %Y\",              # Date with full month name\n",
    "    \"Fri, March 15\": \"%a, %B %d\",               # Date with weekday\n",
    "    \"14:30:00\": \"%H:%M:%S\",                     # Time (24-hour)\n",
    "    \"02:30 PM\": \"%I:%M %p\",                     # Time (12-hour)\n",
    "    \"2024-03-15 14:30\": \"%Y-%m-%d %H:%M\",       # Date and time\n",
    "    \"15/03/24 14:30:00\": \"%d/%m/%y %H:%M:%S\"    # Short year\n",
    "}\n",
    "\n",
    "print(\"\\nCommon Format Examples:\")\n",
    "for date_string, format_string in examples.items():\n",
    "    try:\n",
    "        parsed_date = datetime.strptime(date_string, format_string)\n",
    "        print(f\"String: {date_string}\")\n",
    "        print(f\"Parsed: {parsed_date}\\n\")\n",
    "    except ValueError as e:\n",
    "        print(f\"Error parsing {date_string}: {e}\\n\")"
   ]
  },
  {
   "cell_type": "code",
   "execution_count": 16,
   "metadata": {},
   "outputs": [
    {
     "name": "stdout",
     "output_type": "stream",
     "text": [
      "\n",
      "Common Format Examples:\n",
      "String: 2024-03\n",
      "Parsed: 2024-03-01 00:00:00\n",
      "\n",
      "String: 2024\n",
      "Parsed: 2024-01-01 00:00:00\n",
      "\n"
     ]
    }
   ],
   "source": [
    "# Partially specified dates\n",
    "examples = {\n",
    "    \"2024-03\": \"%Y-%m\",          # Month, parsed to first day of the month\n",
    "    \"2024\": \"%Y\",                # Year, parsed to first day of the year\n",
    "}\n",
    "\n",
    "print(\"\\nCommon Format Examples:\")\n",
    "for date_string, format_string in examples.items():\n",
    "    try:\n",
    "        parsed_date = datetime.strptime(date_string, format_string)\n",
    "        print(f\"String: {date_string}\")\n",
    "        print(f\"Parsed: {parsed_date}\\n\")\n",
    "    except ValueError as e:\n",
    "        print(f\"Error parsing {date_string}: {e}\\n\")"
   ]
  }
 ],
 "metadata": {
  "kernelspec": {
   "display_name": ".venv",
   "language": "python",
   "name": "python3"
  },
  "language_info": {
   "codemirror_mode": {
    "name": "ipython",
    "version": 3
   },
   "file_extension": ".py",
   "mimetype": "text/x-python",
   "name": "python",
   "nbconvert_exporter": "python",
   "pygments_lexer": "ipython3",
   "version": "3.11.9"
  }
 },
 "nbformat": 4,
 "nbformat_minor": 2
}
