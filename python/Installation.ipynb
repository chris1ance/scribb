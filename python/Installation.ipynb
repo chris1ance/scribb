{
 "cells": [
  {
   "cell_type": "markdown",
   "metadata": {},
   "source": [
    "# Windows\n",
    "\n",
    "- Go to `https://www.python.org/downloads/` and download the latest version for Windows\n",
    "\n",
    "- For Python 3.13, this creates the following directory on your local machine: `C:\\Users\\<USERID>\\AppData\\Local\\Programs\\Python\\Python313`\n",
    "\n",
    "- Update the following PATH variables:\n",
    "    - `C:\\Users\\<USERID>\\AppData\\Local\\Programs\\Python\\Python313\\Scripts\\`\n",
    "    - `C:\\Users\\<USERID>\\AppData\\Local\\Programs\\Python\\Python313\\`\n",
    "    \n",
    "- `C:\\Users\\<USERID>\\AppData\\Local\\Programs\\Python\\Python313\\Scripts\\` should be the first PATH variable and `C:\\Users\\<USERID>\\AppData\\Local\\Programs\\Python\\Python313\\` the second\n",
    "\n",
    "- Confirm installation with the following Bash commands:\n",
    "\n",
    "    ```bash\n",
    "    python --version\n",
    "    where python\n",
    "    ```\n",
    "\n",
    "- Upgrade Pip using the Bash command:\n",
    "\n",
    "    ```bash\n",
    "    python -m pip install --upgrade pip\n",
    "    ```\n",
    "\n",
    "- Install `uv`:\n",
    "\n",
    "    ```bash\n",
    "    pip install uv\n",
    "    ```\n",
    "\n",
    "- Confirm `uv` installation:\n",
    "\n",
    "    ```bash\n",
    "    pip list\n",
    "    ```"
   ]
  },
  {
   "cell_type": "markdown",
   "metadata": {},
   "source": [
    "# Ubuntu\n",
    "\n",
    "Install Python:\n",
    "\n",
    "```bash\n",
    "sudo apt update && sudo apt upgrade -y\n",
    "sudo apt install software-properties-common\n",
    "sudo add-apt-repository ppa:deadsnakes/ppa\n",
    "sudo apt install python3.11-full\n",
    "python3.11 --version\n",
    "```\n",
    "\n",
    "Install pip:\n",
    "\n",
    "```bash\n",
    "python3.11 -m ensurepip --upgrade\n",
    "python3.11 -m pip install --upgrade pip\n",
    "```\n",
    "\n",
    "Install uv:\n",
    "\n",
    "```bash\n",
    "python3.11 -m pip install uv\n",
    "python3.11 -m pip list\n",
    "```"
   ]
  }
 ],
 "metadata": {
  "kernelspec": {
   "display_name": ".venv",
   "language": "python",
   "name": "python3"
  },
  "language_info": {
   "name": "python",
   "version": "3.11.11"
  }
 },
 "nbformat": 4,
 "nbformat_minor": 2
}
