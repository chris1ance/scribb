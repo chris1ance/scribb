{
 "cells": [
  {
   "cell_type": "markdown",
   "metadata": {},
   "source": [
    "# Iterables and Iterators\n",
    "\n",
    "* An iterable is an object that can return an iterator, e.g., lists, strings, and ranges.\n",
    "\n",
    "* An iterator is an object with a `__next__()` method, which returns the next item in the sequence or raises `StopIteration` when the sequence is exhausted."
   ]
  },
  {
   "cell_type": "markdown",
   "metadata": {},
   "source": [
    "# The `iter()` Function\n",
    "\n",
    "* The `iter()` function is used to create an iterator object from an iterable. \n",
    "\n",
    "* An iterator is an object that represents a stream of data and provides a mechanism to iterate through the elements of a collection, one at a time.\n",
    "\n",
    "* If you pass an iterable (like a list, tuple, dictionary, set, or string) to `iter()`, it returns an iterator object.\n",
    "\n",
    "* This iterator can be used to traverse the elements of the iterable one at a time using the `next()` function."
   ]
  },
  {
   "cell_type": "code",
   "execution_count": null,
   "metadata": {},
   "outputs": [],
   "source": [
    "# Example:\n",
    "my_list = [1, 2, 3]\n",
    "iterator = iter(my_list)\n",
    "print(next(iterator))  # Output: 1\n",
    "print(next(iterator))  # Output: 2\n",
    "print(next(iterator))  # Output: 3"
   ]
  },
  {
   "cell_type": "markdown",
   "metadata": {},
   "source": [
    "# Unpacking Iterables\n",
    "\n",
    "```python\n",
    "\n",
    "# Unpacking a list\n",
    "numbers = [1, 2, 3]\n",
    "a, b, c = numbers\n",
    "print(a, b, c)  # Output: 1 2 3\n",
    "\n",
    "# Unpacking a string\n",
    "letters = \"xyz\"\n",
    "x, y, z = letters\n",
    "print(x, y, z)  # Output: \"x\" \"y\" \"z\"\n",
    "\n",
    "```"
   ]
  }
 ],
 "metadata": {
  "kernelspec": {
   "display_name": ".venv",
   "language": "python",
   "name": "python3"
  },
  "language_info": {
   "name": "python",
   "version": "3.11.11"
  }
 },
 "nbformat": 4,
 "nbformat_minor": 2
}
