{
 "cells": [
  {
   "cell_type": "markdown",
   "metadata": {},
   "source": [
    "# Append a single element\n",
    "\n",
    "The `.append()` method adds a single element to the end of a list."
   ]
  },
  {
   "cell_type": "code",
   "execution_count": 1,
   "metadata": {},
   "outputs": [
    {
     "name": "stdout",
     "output_type": "stream",
     "text": [
      "['apple', 'banana', 'cherry']\n"
     ]
    }
   ],
   "source": [
    "# Initialize an empty list\n",
    "fruits = []\n",
    "\n",
    "# Append single elements\n",
    "fruits.append('apple')\n",
    "fruits.append(['banana']) # Note: If you use .append() with a list, it will add the entire list as a single element.\n",
    "fruits.append('cherry')\n",
    "\n",
    "print(fruits)"
   ]
  },
  {
   "cell_type": "markdown",
   "metadata": {},
   "source": [
    "# Append multiple non-list elements\n",
    "\n",
    "While `.append()` adds its argument as a single element to the end of a list, `.extend()` iterates over its argument and adds each element to the list. This is useful when you want to add multiple elements at once."
   ]
  },
  {
   "cell_type": "code",
   "execution_count": 5,
   "metadata": {},
   "outputs": [
    {
     "name": "stdout",
     "output_type": "stream",
     "text": [
      "['apple', 'banana', 'cherry', 'date']\n"
     ]
    }
   ],
   "source": [
    "# Initialize a list with some elements\n",
    "fruits = ['apple', 'banana']\n",
    "\n",
    "# Extend the list with another list\n",
    "fruits.extend(['cherry', 'date'])\n",
    "\n",
    "print(fruits)"
   ]
  }
 ],
 "metadata": {
  "kernelspec": {
   "display_name": ".venv",
   "language": "python",
   "name": "python3"
  },
  "language_info": {
   "codemirror_mode": {
    "name": "ipython",
    "version": 3
   },
   "file_extension": ".py",
   "mimetype": "text/x-python",
   "name": "python",
   "nbconvert_exporter": "python",
   "pygments_lexer": "ipython3",
   "version": "3.11.11"
  }
 },
 "nbformat": 4,
 "nbformat_minor": 2
}
