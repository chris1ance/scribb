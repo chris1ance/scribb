{
 "cells": [
  {
   "cell_type": "code",
   "execution_count": 20,
   "metadata": {},
   "outputs": [],
   "source": [
    "import pandas as pd\n",
    "import numpy as np\n",
    "\n",
    "pd.set_option(\"mode.copy_on_write\", True)"
   ]
  },
  {
   "cell_type": "markdown",
   "metadata": {},
   "source": [
    "# Period Aliases\n",
    "\n",
    "See: https://pandas.pydata.org/docs/user_guide/timeseries.html#timeseries-period-aliases"
   ]
  },
  {
   "cell_type": "markdown",
   "metadata": {},
   "source": [
    "# Creating a Sequence of Periods"
   ]
  },
  {
   "cell_type": "code",
   "execution_count": 21,
   "metadata": {},
   "outputs": [
    {
     "data": {
      "text/plain": [
       "PeriodIndex(['2023-01', '2023-02', '2023-03', '2023-04', '2023-05', '2023-06',\n",
       "             '2023-07', '2023-08', '2023-09', '2023-10', '2023-11', '2023-12'],\n",
       "            dtype='period[M]')"
      ]
     },
     "execution_count": 21,
     "metadata": {},
     "output_type": "execute_result"
    }
   ],
   "source": [
    "pd.period_range(start='2023-01', end='2023-12', freq='M')"
   ]
  },
  {
   "cell_type": "code",
   "execution_count": 22,
   "metadata": {},
   "outputs": [
    {
     "data": {
      "text/plain": [
       "PeriodIndex(['2023-01', '2023-02', '2023-03', '2023-04', '2023-05', '2023-06',\n",
       "             '2023-07', '2023-08', '2023-09', '2023-10', '2023-11', '2023-12'],\n",
       "            dtype='period[M]')"
      ]
     },
     "execution_count": 22,
     "metadata": {},
     "output_type": "execute_result"
    }
   ],
   "source": [
    "pd.period_range(start='2023-01-01', end='2023-12-01', freq='M')"
   ]
  },
  {
   "cell_type": "code",
   "execution_count": 23,
   "metadata": {},
   "outputs": [
    {
     "data": {
      "text/plain": [
       "PeriodIndex(['2023Q1', '2023Q2', '2023Q3', '2023Q4'], dtype='period[Q-DEC]')"
      ]
     },
     "execution_count": 23,
     "metadata": {},
     "output_type": "execute_result"
    }
   ],
   "source": [
    "pd.period_range(start='2023-01', end='2023-12', freq='Q')"
   ]
  },
  {
   "cell_type": "code",
   "execution_count": 24,
   "metadata": {},
   "outputs": [
    {
     "data": {
      "text/plain": [
       "PeriodIndex(['2023Q1', '2023Q2', '2023Q3', '2023Q4'], dtype='period[Q-DEC]')"
      ]
     },
     "execution_count": 24,
     "metadata": {},
     "output_type": "execute_result"
    }
   ],
   "source": [
    "pd.period_range(start='2023-01-01', end='2023-12-01', freq='Q')"
   ]
  },
  {
   "cell_type": "code",
   "execution_count": 25,
   "metadata": {},
   "outputs": [
    {
     "data": {
      "text/plain": [
       "PeriodIndex(['2023-01-01', '2023-01-02', '2023-01-03', '2023-01-04',\n",
       "             '2023-01-05', '2023-01-06', '2023-01-07', '2023-01-08',\n",
       "             '2023-01-09', '2023-01-10',\n",
       "             ...\n",
       "             '2023-11-22', '2023-11-23', '2023-11-24', '2023-11-25',\n",
       "             '2023-11-26', '2023-11-27', '2023-11-28', '2023-11-29',\n",
       "             '2023-11-30', '2023-12-01'],\n",
       "            dtype='period[D]', length=335)"
      ]
     },
     "execution_count": 25,
     "metadata": {},
     "output_type": "execute_result"
    }
   ],
   "source": [
    "# Note: The last day in the period index is 2023-12-01, not 2023-12-31\n",
    "pd.period_range(start='2023-01', end='2023-12', freq='D')"
   ]
  },
  {
   "cell_type": "code",
   "execution_count": 26,
   "metadata": {},
   "outputs": [
    {
     "data": {
      "text/plain": [
       "PeriodIndex(['2023-01-01', '2023-01-02', '2023-01-03', '2023-01-04',\n",
       "             '2023-01-05', '2023-01-06', '2023-01-07', '2023-01-08',\n",
       "             '2023-01-09', '2023-01-10',\n",
       "             ...\n",
       "             '2023-11-22', '2023-11-23', '2023-11-24', '2023-11-25',\n",
       "             '2023-11-26', '2023-11-27', '2023-11-28', '2023-11-29',\n",
       "             '2023-11-30', '2023-12-01'],\n",
       "            dtype='period[D]', length=335)"
      ]
     },
     "execution_count": 26,
     "metadata": {},
     "output_type": "execute_result"
    }
   ],
   "source": [
    "pd.period_range(start='2023-01-01', end='2023-12-01', freq='D')"
   ]
  },
  {
   "cell_type": "markdown",
   "metadata": {},
   "source": [
    "# Column Conversions"
   ]
  },
  {
   "cell_type": "markdown",
   "metadata": {},
   "source": [
    "## String Column to Datetime Column\n",
    "\n",
    "* Convert string column to datetime using `pd.to_datetime()` function"
   ]
  },
  {
   "cell_type": "code",
   "execution_count": 27,
   "metadata": {},
   "outputs": [
    {
     "data": {
      "text/plain": [
       "array(['2023-01-15T00:00:00.000000000', '2023-02-20T00:00:00.000000000',\n",
       "       '2023-03-10T00:00:00.000000000', '2023-04-25T00:00:00.000000000'],\n",
       "      dtype='datetime64[ns]')"
      ]
     },
     "execution_count": 27,
     "metadata": {},
     "output_type": "execute_result"
    }
   ],
   "source": [
    "# Example\n",
    "data = {\n",
    "    'date': ['2023-01-15', '2023-02-20', '2023-03-10', '2023-04-25'],\n",
    "    'value': [10, 20, 30, 40]\n",
    "}\n",
    "\n",
    "df = pd.DataFrame(data)\n",
    "\n",
    "# Convert 'date' column to datetime dtype\n",
    "df['date'] = pd.to_datetime(df['date'])\n",
    "\n",
    "df['date'].values"
   ]
  },
  {
   "cell_type": "markdown",
   "metadata": {},
   "source": [
    "## Datetime Column to Period Column\n",
    "\n",
    "* Convert datetime column to period using `.dt.to_period(freq=<freq_code>)`"
   ]
  },
  {
   "cell_type": "code",
   "execution_count": 28,
   "metadata": {},
   "outputs": [
    {
     "data": {
      "text/plain": [
       "array([Period('2023-01', 'M'), Period('2023-01', 'M'),\n",
       "       Period('2023-01', 'M'), Period('2023-02', 'M'),\n",
       "       Period('2023-02', 'M'), Period('2023-02', 'M'),\n",
       "       Period('2023-03', 'M'), Period('2023-03', 'M'),\n",
       "       Period('2023-03', 'M')], dtype=object)"
      ]
     },
     "execution_count": 28,
     "metadata": {},
     "output_type": "execute_result"
    }
   ],
   "source": [
    "# Sample data with daily dates\n",
    "data = {\n",
    "    'date': [\n",
    "        '2023-01-05', '2023-01-15', '2023-01-25',\n",
    "        '2023-02-05', '2023-02-15', '2023-02-25',\n",
    "        '2023-03-05', '2023-03-15', '2023-03-25'\n",
    "    ],\n",
    "    'sales': [100, 150, 200, 110, 160, 210, 120, 170, 220]\n",
    "}\n",
    "\n",
    "# Create DataFrame\n",
    "df = pd.DataFrame(data)\n",
    "\n",
    "# Convert 'date' column to datetime dtype\n",
    "df['date'] = pd.to_datetime(df['date'])\n",
    "\n",
    "# Convert 'date' column to a monthly period\n",
    "df['month_period'] = df['date'].dt.to_period('M')\n",
    "\n",
    "df['month_period'].values"
   ]
  },
  {
   "cell_type": "markdown",
   "metadata": {},
   "source": [
    "## String Column to Period Column\n",
    "\n",
    "* Step 1: Convert string column to datetime using `pd.to_datetime()` function\n",
    "* Step 2: Convert datetime column to period using `.dt.to_period(freq=<freq_code>)` accessor"
   ]
  },
  {
   "cell_type": "code",
   "execution_count": 29,
   "metadata": {},
   "outputs": [
    {
     "data": {
      "text/html": [
       "<div>\n",
       "<style scoped>\n",
       "    .dataframe tbody tr th:only-of-type {\n",
       "        vertical-align: middle;\n",
       "    }\n",
       "\n",
       "    .dataframe tbody tr th {\n",
       "        vertical-align: top;\n",
       "    }\n",
       "\n",
       "    .dataframe thead th {\n",
       "        text-align: right;\n",
       "    }\n",
       "</style>\n",
       "<table border=\"1\" class=\"dataframe\">\n",
       "  <thead>\n",
       "    <tr style=\"text-align: right;\">\n",
       "      <th></th>\n",
       "      <th>date_str</th>\n",
       "      <th>date_datetime</th>\n",
       "      <th>date_period_daily</th>\n",
       "      <th>date_period_monthly</th>\n",
       "    </tr>\n",
       "  </thead>\n",
       "  <tbody>\n",
       "    <tr>\n",
       "      <th>0</th>\n",
       "      <td>2023-01-01</td>\n",
       "      <td>2023-01-01</td>\n",
       "      <td>2023-01-01</td>\n",
       "      <td>2023-01</td>\n",
       "    </tr>\n",
       "    <tr>\n",
       "      <th>1</th>\n",
       "      <td>2023-01-02</td>\n",
       "      <td>2023-01-02</td>\n",
       "      <td>2023-01-02</td>\n",
       "      <td>2023-01</td>\n",
       "    </tr>\n",
       "    <tr>\n",
       "      <th>2</th>\n",
       "      <td>2023-01-03</td>\n",
       "      <td>2023-01-03</td>\n",
       "      <td>2023-01-03</td>\n",
       "      <td>2023-01</td>\n",
       "    </tr>\n",
       "  </tbody>\n",
       "</table>\n",
       "</div>"
      ],
      "text/plain": [
       "     date_str date_datetime date_period_daily date_period_monthly\n",
       "0  2023-01-01    2023-01-01        2023-01-01             2023-01\n",
       "1  2023-01-02    2023-01-02        2023-01-02             2023-01\n",
       "2  2023-01-03    2023-01-03        2023-01-03             2023-01"
      ]
     },
     "execution_count": 29,
     "metadata": {},
     "output_type": "execute_result"
    }
   ],
   "source": [
    "# Sample data\n",
    "data = {'date_str': ['2023-01-01', '2023-01-02', '2023-01-03']}\n",
    "df = pd.DataFrame(data)\n",
    "\n",
    "# Convert 'date_str' from string to datetime\n",
    "df['date_datetime'] = pd.to_datetime(df['date_str'])\n",
    "\n",
    "# Convert 'date_datetime' to period (daily)\n",
    "df['date_period_daily'] = df['date_datetime'].dt.to_period(freq='D')\n",
    "\n",
    "# Convert 'date_datetime' to period (monthly)\n",
    "df['date_period_monthly'] = df['date_datetime'].dt.to_period(freq='M')\n",
    "\n",
    "df"
   ]
  }
 ],
 "metadata": {
  "kernelspec": {
   "display_name": ".venv",
   "language": "python",
   "name": "python3"
  },
  "language_info": {
   "codemirror_mode": {
    "name": "ipython",
    "version": 3
   },
   "file_extension": ".py",
   "mimetype": "text/x-python",
   "name": "python",
   "nbconvert_exporter": "python",
   "pygments_lexer": "ipython3",
   "version": "3.11.11"
  }
 },
 "nbformat": 4,
 "nbformat_minor": 2
}
