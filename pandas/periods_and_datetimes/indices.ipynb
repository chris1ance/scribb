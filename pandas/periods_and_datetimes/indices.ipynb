{
 "cells": [
  {
   "cell_type": "code",
   "execution_count": 11,
   "metadata": {},
   "outputs": [],
   "source": [
    "import pandas as pd\n",
    "import numpy as np\n",
    "\n",
    "pd.set_option(\"mode.copy_on_write\", True)"
   ]
  },
  {
   "cell_type": "markdown",
   "metadata": {},
   "source": [
    "# Check Index Type\n",
    "\n",
    "* Use the `isinstance` function to check if the index is an instance of `pd.DatetimeIndex` or `pd.PeriodIndex`."
   ]
  },
  {
   "cell_type": "code",
   "execution_count": 12,
   "metadata": {},
   "outputs": [
    {
     "name": "stdout",
     "output_type": "stream",
     "text": [
      "The index is a DatetimeIndex.\n",
      "The index is a PeriodIndex.\n"
     ]
    }
   ],
   "source": [
    "# Example DataFrame with DatetimeIndex\n",
    "df_datetime = pd.DataFrame({\n",
    "    'value': [1, 2, 3]\n",
    "}, index=pd.date_range('2023-01-01', periods=3))\n",
    "\n",
    "# Example DataFrame with PeriodIndex\n",
    "df_period = pd.DataFrame({\n",
    "    'value': [4, 5, 6]\n",
    "}, index=pd.period_range('2023-01', periods=3, freq='M'))\n",
    "\n",
    "# Function to check index type\n",
    "def check_index_type(df):\n",
    "    if isinstance(df.index, pd.DatetimeIndex):\n",
    "        print(\"The index is a DatetimeIndex.\")\n",
    "    elif isinstance(df.index, pd.PeriodIndex):\n",
    "        print(\"The index is a PeriodIndex.\")\n",
    "    else:\n",
    "        print(f\"The index is of type {type(df.index)}.\")\n",
    "\n",
    "# Check the indexes\n",
    "check_index_type(df_datetime)  # Output: The index is a DatetimeIndex.\n",
    "check_index_type(df_period)    # Output: The index is a PeriodIndex."
   ]
  },
  {
   "cell_type": "markdown",
   "metadata": {},
   "source": [
    "# Get freq of a PeriodIndex"
   ]
  },
  {
   "cell_type": "code",
   "execution_count": 13,
   "metadata": {},
   "outputs": [
    {
     "data": {
      "text/plain": [
       "'D'"
      ]
     },
     "execution_count": 13,
     "metadata": {},
     "output_type": "execute_result"
    }
   ],
   "source": [
    "pd.period_range(start='2023-01', end='2023-12', freq='D').freqstr"
   ]
  },
  {
   "cell_type": "code",
   "execution_count": 14,
   "metadata": {},
   "outputs": [
    {
     "data": {
      "text/plain": [
       "'W-SUN'"
      ]
     },
     "execution_count": 14,
     "metadata": {},
     "output_type": "execute_result"
    }
   ],
   "source": [
    "pd.period_range(start='2023-01', end='2023-12', freq='W').freqstr"
   ]
  },
  {
   "cell_type": "code",
   "execution_count": 15,
   "metadata": {},
   "outputs": [
    {
     "data": {
      "text/plain": [
       "'M'"
      ]
     },
     "execution_count": 15,
     "metadata": {},
     "output_type": "execute_result"
    }
   ],
   "source": [
    "pd.period_range(start='2023-01', end='2023-12', freq='M').freqstr"
   ]
  },
  {
   "cell_type": "code",
   "execution_count": 16,
   "metadata": {},
   "outputs": [
    {
     "data": {
      "text/plain": [
       "'Q-DEC'"
      ]
     },
     "execution_count": 16,
     "metadata": {},
     "output_type": "execute_result"
    }
   ],
   "source": [
    "pd.period_range(start='2023-01', end='2023-12', freq='Q').freqstr"
   ]
  },
  {
   "cell_type": "code",
   "execution_count": 17,
   "metadata": {},
   "outputs": [
    {
     "data": {
      "text/plain": [
       "'Y-DEC'"
      ]
     },
     "execution_count": 17,
     "metadata": {},
     "output_type": "execute_result"
    }
   ],
   "source": [
    "pd.period_range(start='2023-01', end='2023-12', freq='Y').freqstr"
   ]
  },
  {
   "cell_type": "markdown",
   "metadata": {},
   "source": [
    "# Index Conversions"
   ]
  },
  {
   "cell_type": "markdown",
   "metadata": {},
   "source": [
    "## Datetime Index to Period Index\n",
    "\n",
    "* If your DataFrame or Series has a `DatetimeIndex`, you can convert it to a `PeriodIndex` using either:\n",
    "    * Method 1: the `.to_period(<freq-code>)` method.\n",
    "    * Method 2: `df.index = pd.PeriodIndex(df.index, freq=<freq-code>)`"
   ]
  },
  {
   "cell_type": "markdown",
   "metadata": {},
   "source": [
    "### Method 1"
   ]
  },
  {
   "cell_type": "code",
   "execution_count": 18,
   "metadata": {},
   "outputs": [
    {
     "data": {
      "text/plain": [
       "DatetimeIndex(['2023-01-15', '2023-02-20', '2023-03-10', '2023-04-25'], dtype='datetime64[ns]', freq=None)"
      ]
     },
     "execution_count": 18,
     "metadata": {},
     "output_type": "execute_result"
    }
   ],
   "source": [
    "# Sample DataFrame with DatetimeIndex\n",
    "dates = pd.to_datetime(['2023-01-15', '2023-02-20', '2023-03-10', '2023-04-25'])\n",
    "df = pd.DataFrame({'value': [10, 20, 30, 40]}, index=dates)\n",
    "\n",
    "df.index"
   ]
  },
  {
   "cell_type": "code",
   "execution_count": 19,
   "metadata": {},
   "outputs": [
    {
     "data": {
      "text/plain": [
       "PeriodIndex(['2023-01', '2023-02', '2023-03', '2023-04'], dtype='period[M]')"
      ]
     },
     "execution_count": 19,
     "metadata": {},
     "output_type": "execute_result"
    }
   ],
   "source": [
    "df.index = df.index.to_period('M')\n",
    "\n",
    "df.index"
   ]
  },
  {
   "cell_type": "markdown",
   "metadata": {},
   "source": [
    "### Method 2"
   ]
  },
  {
   "cell_type": "code",
   "execution_count": 20,
   "metadata": {},
   "outputs": [
    {
     "data": {
      "text/plain": [
       "PeriodIndex(['2023-01', '2023-02', '2023-03', '2023-04'], dtype='period[M]')"
      ]
     },
     "execution_count": 20,
     "metadata": {},
     "output_type": "execute_result"
    }
   ],
   "source": [
    "# Convert datetime index to Period index\n",
    "dates = pd.to_datetime(['2023-01-15', '2023-02-20', '2023-03-10', '2023-04-25'])\n",
    "df = pd.DataFrame({'value': [10, 20, 30, 40]}, index=dates)\n",
    "\n",
    "df.index = pd.PeriodIndex(df.index, freq=\"M\")\n",
    "\n",
    "df.index"
   ]
  }
 ],
 "metadata": {
  "kernelspec": {
   "display_name": ".venv",
   "language": "python",
   "name": "python3"
  },
  "language_info": {
   "codemirror_mode": {
    "name": "ipython",
    "version": 3
   },
   "file_extension": ".py",
   "mimetype": "text/x-python",
   "name": "python",
   "nbconvert_exporter": "python",
   "pygments_lexer": "ipython3",
   "version": "3.11.11"
  }
 },
 "nbformat": 4,
 "nbformat_minor": 2
}
