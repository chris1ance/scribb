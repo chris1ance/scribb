{
 "cells": [
  {
   "cell_type": "code",
   "execution_count": 1,
   "metadata": {},
   "outputs": [],
   "source": [
    "import pandas as pd\n",
    "\n",
    "pd.set_option(\"mode.copy_on_write\", True)"
   ]
  },
  {
   "cell_type": "markdown",
   "metadata": {},
   "source": [
    "# Mutation\n",
    "\n",
    "`pd.Index.shift`"
   ]
  },
  {
   "cell_type": "markdown",
   "metadata": {},
   "source": [
    "## Get Period freqstr\n",
    "\n",
    "```python\n",
    "### PeriodIndex\n",
    "\n",
    "df.index.freqstr\n",
    "\n",
    "### Period Column\n",
    "\n",
    "# Method 1:\n",
    "df[col].iloc[0].freqstr\n",
    "\n",
    "# Method 2:\n",
    "pd.PeriodIndex(df[col]).freqstr\n",
    "```"
   ]
  },
  {
   "cell_type": "markdown",
   "metadata": {},
   "source": [
    "# Selection\n",
    "\n",
    "- You can use string representations of periods (`'2023-01'`)\n",
    "- Period objects must match the frequency of your index\n",
    "- Slicing works similar to regular indexes, but respects the period frequency\n",
    "- The string format should match your period frequency (e.g., 'YYYY-MM' for monthly)"
   ]
  },
  {
   "cell_type": "markdown",
   "metadata": {},
   "source": [
    "# Type Checks"
   ]
  },
  {
   "cell_type": "markdown",
   "metadata": {},
   "source": [
    "## Column"
   ]
  },
  {
   "cell_type": "markdown",
   "metadata": {},
   "source": [
    "```python\n",
    "\n",
    "isinstance(df[col].dtype, pd.PeriodDtype)\n",
    "\n",
    "```"
   ]
  },
  {
   "cell_type": "markdown",
   "metadata": {},
   "source": [
    "## Index"
   ]
  },
  {
   "cell_type": "markdown",
   "metadata": {},
   "source": [
    "```python\n",
    "\n",
    "# Method 1:\n",
    "isinstance(df.index, pd.PeriodIndex)\n",
    "\n",
    "# Method 2:\n",
    "isinstance(df.index.dtype, pd.PeriodDtype)\n",
    "\n",
    "```"
   ]
  },
  {
   "cell_type": "markdown",
   "metadata": {},
   "source": [
    "# Conversions"
   ]
  },
  {
   "cell_type": "markdown",
   "metadata": {},
   "source": [
    "## Index\n",
    "\n",
    "```python\n",
    "\n",
    "### Datetime --> Period\n",
    "\n",
    "# Method 1: \n",
    "df.index.to_period(freq=\"M\") # More generally: df.index.to_period(freq=<freq_code>)\n",
    "\n",
    "# Method 2:\n",
    "pd.PeriodIndex(df.index, freq=\"M\") \n",
    "\n",
    "```\n",
    "\n",
    "```python\n",
    "\n",
    "### Period --> Datetime\n",
    "\n",
    "df.index.to_timestamp()\n",
    "\n",
    "# NOTE: to_timestamp() converts periods to the start of the period by default\n",
    "#       You can specify 'end' to get end of period: to_timestamp(how='end')\n",
    "df.index.to_timestamp(how='end')\n",
    "\n",
    "```"
   ]
  },
  {
   "cell_type": "markdown",
   "metadata": {},
   "source": [
    "## Column\n",
    "\n",
    "```python\n",
    "\n",
    "### String --> Datetime\n",
    "pd.to_datetime(df[col])  # Assumes string is YYYY-MM-DD format\n",
    "\n",
    "### Datetime --> Period\n",
    "df[col].dt.to_period(freq=\"M\") # More generally: df[col].dt.to_period(freq=<freq_code>)\n",
    "\n",
    "### Period --> Datetime\n",
    "df[col].dt.to_timestamp()\n",
    "\n",
    "### String --> Period\n",
    "pd.to_datetime(df[col]).dt.to_period(freq=\"M\")\n",
    "\n",
    "```"
   ]
  }
 ],
 "metadata": {
  "kernelspec": {
   "display_name": ".venv",
   "language": "python",
   "name": "python3"
  },
  "language_info": {
   "codemirror_mode": {
    "name": "ipython",
    "version": 3
   },
   "file_extension": ".py",
   "mimetype": "text/x-python",
   "name": "python",
   "nbconvert_exporter": "python",
   "pygments_lexer": "ipython3",
   "version": "3.11.9"
  }
 },
 "nbformat": 4,
 "nbformat_minor": 2
}
