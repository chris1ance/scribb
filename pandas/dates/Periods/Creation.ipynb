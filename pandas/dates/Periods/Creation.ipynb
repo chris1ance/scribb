{
 "cells": [
  {
   "cell_type": "code",
   "execution_count": 1,
   "metadata": {},
   "outputs": [],
   "source": [
    "import pandas as pd\n",
    "\n",
    "pd.set_option(\"mode.copy_on_write\", True)"
   ]
  },
  {
   "cell_type": "markdown",
   "metadata": {},
   "source": [
    "# `pd.Period`"
   ]
  },
  {
   "cell_type": "markdown",
   "metadata": {},
   "source": [
    "## Creation from string\n",
    "\n",
    "Preferred Formats:\n",
    "- Daily: `yyyy-mm-dd` (Example: `2023-07-01`)\n",
    "- Monthly: `yyyy-mm` (Example: `2023-07`)\n",
    "- Quarterly: `yyyyQq` (Example: `2023Q3`)"
   ]
  },
  {
   "cell_type": "markdown",
   "metadata": {},
   "source": [
    "### Daily"
   ]
  },
  {
   "cell_type": "markdown",
   "metadata": {},
   "source": [
    "```python\n",
    "# These fail\n",
    "(\n",
    ")\n",
    "```"
   ]
  },
  {
   "cell_type": "code",
   "execution_count": 2,
   "metadata": {},
   "outputs": [
    {
     "data": {
      "text/plain": [
       "(Period('2023-07-01', 'D'),\n",
       " Period('2023-07-01', 'D'),\n",
       " Period('2023-07-01', 'D'),\n",
       " Period('2023-07-01', 'D'),\n",
       " Period('2023-07-01', 'D'))"
      ]
     },
     "execution_count": 2,
     "metadata": {},
     "output_type": "execute_result"
    }
   ],
   "source": [
    "# These succeed\n",
    "(\n",
    "    pd.Period('2023-07-01', freq='D'),\n",
    "    pd.Period('2023-07-1', freq='D'),\n",
    "    pd.Period('2023-7-01', freq='D'),\n",
    "    pd.Period('2023-7-1', freq='D'),\n",
    "    pd.Period('2023-07', freq='D'),  # Months get assigned to the first day of the month\n",
    ")"
   ]
  },
  {
   "cell_type": "markdown",
   "metadata": {},
   "source": [
    "### Monthly"
   ]
  },
  {
   "cell_type": "markdown",
   "metadata": {},
   "source": [
    "```python\n",
    "# These fail\n",
    "(\n",
    "    pd.Period('2023M7', freq='M'),\n",
    "    pd.Period('2023M07', freq='M'),\n",
    "    pd.Period('2023m7', freq='M'),\n",
    "    pd.Period('2023m07', freq='M'),\n",
    ")\n",
    "```"
   ]
  },
  {
   "cell_type": "code",
   "execution_count": 3,
   "metadata": {},
   "outputs": [
    {
     "data": {
      "text/plain": [
       "(Period('2023-07', 'M'), Period('2023-07', 'M'), Period('2023-07', 'M'))"
      ]
     },
     "execution_count": 3,
     "metadata": {},
     "output_type": "execute_result"
    }
   ],
   "source": [
    "# These succeed\n",
    "(\n",
    "    pd.Period('2023-07', freq='M'),\n",
    "    pd.Period('2023-07-01', freq='M'),  # Days get assigned to their correct months\n",
    "    pd.Period('2023-07-1', freq='M'),\n",
    ")"
   ]
  },
  {
   "cell_type": "markdown",
   "metadata": {},
   "source": [
    "### Quarterly"
   ]
  },
  {
   "cell_type": "markdown",
   "metadata": {},
   "source": [
    "```python\n",
    "# These fail\n",
    "(\n",
    ")\n",
    "```"
   ]
  },
  {
   "cell_type": "code",
   "execution_count": 4,
   "metadata": {},
   "outputs": [
    {
     "data": {
      "text/plain": [
       "(Period('2005Q4', 'Q-DEC'),\n",
       " Period('2005Q4', 'Q-DEC'),\n",
       " Period('2005Q4', 'Q-DEC'),\n",
       " Period('2005Q4', 'Q-DEC'),\n",
       " Period('2005Q4', 'Q-DEC'))"
      ]
     },
     "execution_count": 4,
     "metadata": {},
     "output_type": "execute_result"
    }
   ],
   "source": [
    "# These succeed\n",
    "(\n",
    "    pd.Period('2005Q4', freq='Q'),\n",
    "    pd.Period('2005-Q4', freq='Q'),\n",
    "    pd.Period('4Q2005', freq='Q'),\n",
    "    pd.Period('2005q4', freq='Q'),\n",
    "    pd.Period('4q2005', freq='Q'),\n",
    ")"
   ]
  },
  {
   "cell_type": "code",
   "execution_count": 5,
   "metadata": {},
   "outputs": [
    {
     "data": {
      "text/plain": [
       "(Period('2005Q1', 'Q-DEC'),\n",
       " Period('2005Q1', 'Q-DEC'),\n",
       " Period('2005Q1', 'Q-DEC'),\n",
       " Period('2005Q2', 'Q-DEC'),\n",
       " Period('2005Q2', 'Q-DEC'),\n",
       " Period('2005Q2', 'Q-DEC'),\n",
       " Period('2005Q3', 'Q-DEC'),\n",
       " Period('2005Q3', 'Q-DEC'),\n",
       " Period('2005Q3', 'Q-DEC'),\n",
       " Period('2005Q4', 'Q-DEC'),\n",
       " Period('2005Q4', 'Q-DEC'),\n",
       " Period('2005Q4', 'Q-DEC'))"
      ]
     },
     "execution_count": 5,
     "metadata": {},
     "output_type": "execute_result"
    }
   ],
   "source": [
    "# Months get assigned to the correct quarters\n",
    "\n",
    "(\n",
    "    pd.Period('2005-01', freq='Q'),\n",
    "    pd.Period('2005-02', freq='Q'),\n",
    "    pd.Period('2005-03', freq='Q'),\n",
    "    pd.Period('2005-04', freq='Q'),\n",
    "    pd.Period('2005-05', freq='Q'),\n",
    "    pd.Period('2005-06', freq='Q'),\n",
    "    pd.Period('2005-07', freq='Q'),\n",
    "    pd.Period('2005-08', freq='Q'),\n",
    "    pd.Period('2005-09', freq='Q'),\n",
    "    pd.Period('2005-10', freq='Q'),\n",
    "    pd.Period('2005-11', freq='Q'),\n",
    "    pd.Period('2005-12', freq='Q'),\n",
    ")"
   ]
  },
  {
   "cell_type": "markdown",
   "metadata": {},
   "source": [
    "# `pd.PeriodIndex`"
   ]
  },
  {
   "cell_type": "markdown",
   "metadata": {},
   "source": [
    "```python\n",
    "\n",
    "### Daily\n",
    "\n",
    "pd.period_range(start=\"2023-01\", end=\"2023-12\", freq=\"D\")\n",
    "# Output: PeriodIndex(['2023-01-01', ..., '2023-12-01'], dtype=dtype='period[D]')\n",
    "# Note: The last day in the period index is 2023-12-01, not 2023-12-31\n",
    "\n",
    "pd.period_range(start=\"2023-01-01\", end=\"2023-12-01\", freq=\"D\")\n",
    "# Output: PeriodIndex(['2023-01-01', ..., '2023-12-01'], dtype=dtype='period[D]')\n",
    "\n",
    "### Monthly\n",
    "\n",
    "pd.period_range(start=\"2023-01\", end=\"2023-03\", freq=\"M\")\n",
    "# Output: PeriodIndex(['2023-01', '2023-02', '2023-03'], dtype='period[M]')\n",
    "\n",
    "pd.period_range(start=\"2023-01-01\", end=\"2023-03-01\", freq=\"M\")\n",
    "# Output: PeriodIndex(['2023-01', '2023-02', '2023-03'], dtype='period[M]')\n",
    "\n",
    "### Quarterly\n",
    "\n",
    "pd.period_range(start=\"2023-01\", end=\"2023-12\", freq=\"Q\")\n",
    "# Output: PeriodIndex(['2023Q1', '2023Q2', '2023Q3', '2023Q4'], dtype='period[Q-DEC]')\n",
    "\n",
    "pd.period_range(start=\"2023-01-01\", end=\"2023-12-01\", freq=\"Q\")\n",
    "# Output: PeriodIndex(['2023Q1', '2023Q2', '2023Q3', '2023Q4'], dtype='period[Q-DEC]')\n",
    "\n",
    "```"
   ]
  },
  {
   "cell_type": "markdown",
   "metadata": {},
   "source": [
    "# DataFrames\n",
    "\n",
    "## Create a df with a pd.PeriodIndex\n",
    "\n",
    "```python\n",
    "\n",
    "# Example DataFrame with PeriodIndex\n",
    "df_period = pd.DataFrame(\n",
    "    {\"value\": [4, 5, 6]}, \n",
    "    index=pd.period_range(\"2023-01\", periods=3, freq=\"M\")\n",
    ")\n",
    "\n",
    "```\n",
    "\n",
    "## Creating a df with a period column\n",
    "\n",
    "```python\n",
    "\n",
    "# Example DataFrame with Period column\n",
    "df_period = pd.DataFrame({\n",
    "    \"date\": pd.period_range(start=\"2023-01\", end=\"2023-03\", freq=\"M\"),\n",
    "    \"value\": [10, 20, 30]\n",
    "})\n",
    "\n",
    "```"
   ]
  }
 ],
 "metadata": {
  "kernelspec": {
   "display_name": ".venv",
   "language": "python",
   "name": "python3"
  },
  "language_info": {
   "codemirror_mode": {
    "name": "ipython",
    "version": 3
   },
   "file_extension": ".py",
   "mimetype": "text/x-python",
   "name": "python",
   "nbconvert_exporter": "python",
   "pygments_lexer": "ipython3",
   "version": "3.11.9"
  }
 },
 "nbformat": 4,
 "nbformat_minor": 2
}
