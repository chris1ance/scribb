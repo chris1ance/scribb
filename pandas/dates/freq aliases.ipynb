{
 "cells": [
  {
   "cell_type": "markdown",
   "metadata": {},
   "source": [
    "# Period Freq Aliases\n",
    "\n",
    "See: https://pandas.pydata.org/docs/user_guide/timeseries.html#timeseries-period-aliases"
   ]
  },
  {
   "cell_type": "markdown",
   "metadata": {},
   "source": [
    "# Datetime Freq Aliases\n",
    "\n",
    "See: https://pandas.pydata.org/pandas-docs/stable/user_guide/timeseries.html#offset-aliases\n",
    "\n",
    "Notes:\n",
    "- `M` is not an available freq for datetimes\n"
   ]
  }
 ],
 "metadata": {
  "language_info": {
   "name": "python"
  }
 },
 "nbformat": 4,
 "nbformat_minor": 2
}
