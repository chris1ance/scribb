{
 "cells": [
  {
   "cell_type": "code",
   "execution_count": 1,
   "metadata": {},
   "outputs": [],
   "source": [
    "import pandas as pd\n",
    "\n",
    "pd.set_option(\"mode.copy_on_write\", True)"
   ]
  },
  {
   "cell_type": "markdown",
   "metadata": {},
   "source": [
    "# `DatetimeIndex` to `PeriodIndex`\n",
    "\n",
    "**Method 1**: `DatetimeIndex.to_period(freq=None)`\n",
    "- If `freq=None` when calling `to_period()`, and if `DatetimeIndex` has a frequency, then `to_period()` inferrs the frequency from `DatetimeIndex`\n",
    "- Raises `ValueError` if `DatetimeIndex.freq` is `None` and if `freq=None` when calling `to_period()`\n",
    "- All datetimes within the same period `freq` are converted to the same period (i.e. no datetimes are dropped as a result of conversion)\n",
    "\n",
    "**Method 2**: `pd.PeriodIndex(DatetimeIndex, freq=None)`\n",
    "- Same notes apply, except that it raises `AttributeError` if `DatetimeIndex.freq` is `None` and if `freq=None`"
   ]
  },
  {
   "cell_type": "markdown",
   "metadata": {},
   "source": [
    "## Examples"
   ]
  },
  {
   "cell_type": "code",
   "execution_count": 2,
   "metadata": {},
   "outputs": [],
   "source": [
    "def DatetimeIndex_to_PeriodIndex(datetime_index):\n",
    "    # Keep track of initial length\n",
    "    initial_len = len(datetime_index)\n",
    "\n",
    "    try:\n",
    "        default_conversion = datetime_index.to_period()\n",
    "    except ValueError as e:\n",
    "        print(f\"Method 1 ValueError: {e}\")\n",
    "        default_conversion = None\n",
    "\n",
    "    d_conversion = datetime_index.to_period('D')\n",
    "    m_conversion = datetime_index.to_period('M')\n",
    "    q_conversion = datetime_index.to_period('Q')\n",
    "\n",
    "    # Verify no data loss occurred\n",
    "    assert len(d_conversion) == initial_len\n",
    "    assert len(m_conversion) == initial_len\n",
    "    assert len(q_conversion) == initial_len\n",
    "\n",
    "    # Verify alternative method produces same results\n",
    "    try:\n",
    "        default_conversion_2 = pd.PeriodIndex(datetime_index)\n",
    "    except ValueError as e:\n",
    "        print(f\"Method 2 ValueError: {e}\")\n",
    "        default_conversion_2 = None\n",
    "    except AttributeError as e:\n",
    "        print(f\"Method 2 AttributeError: {e}\")\n",
    "        default_conversion_2 = None\n",
    "        \n",
    "    d_conversion_2 = pd.PeriodIndex(datetime_index, freq='D') \n",
    "    m_conversion_2 = pd.PeriodIndex(datetime_index, freq='M')                            \n",
    "    q_conversion_2 = pd.PeriodIndex(datetime_index, freq='Q')\n",
    "\n",
    "    assert d_conversion.equals(d_conversion_2)\n",
    "    assert m_conversion.equals(m_conversion_2)\n",
    "    assert q_conversion.equals(q_conversion_2)\n",
    "\n",
    "    # Only assert if both default conversions succeeded\n",
    "    if default_conversion is not None and default_conversion_2 is not None:\n",
    "        assert default_conversion.equals(default_conversion_2)\n",
    "        assert len(default_conversion) == initial_len\n",
    "\n",
    "    return default_conversion, d_conversion, m_conversion, q_conversion"
   ]
  },
  {
   "cell_type": "markdown",
   "metadata": {},
   "source": [
    "### freq=D `DatetimeIndex`"
   ]
  },
  {
   "cell_type": "code",
   "execution_count": 3,
   "metadata": {},
   "outputs": [],
   "source": [
    "default_, d_, m_, q_ = DatetimeIndex_to_PeriodIndex(\n",
    "    pd.date_range(start=\"2024-01-01\", end=\"2024-12-31\",freq='D')\n",
    "    )"
   ]
  },
  {
   "cell_type": "code",
   "execution_count": 4,
   "metadata": {},
   "outputs": [
    {
     "data": {
      "text/plain": [
       "PeriodIndex(['2024-01-01', '2024-01-02', '2024-01-03', '2024-01-04',\n",
       "             '2024-01-05', '2024-01-06', '2024-01-07', '2024-01-08',\n",
       "             '2024-01-09', '2024-01-10',\n",
       "             ...\n",
       "             '2024-12-22', '2024-12-23', '2024-12-24', '2024-12-25',\n",
       "             '2024-12-26', '2024-12-27', '2024-12-28', '2024-12-29',\n",
       "             '2024-12-30', '2024-12-31'],\n",
       "            dtype='period[D]', length=366)"
      ]
     },
     "execution_count": 4,
     "metadata": {},
     "output_type": "execute_result"
    }
   ],
   "source": [
    "default_"
   ]
  },
  {
   "cell_type": "code",
   "execution_count": 5,
   "metadata": {},
   "outputs": [
    {
     "data": {
      "text/plain": [
       "PeriodIndex(['2024-01-01', '2024-01-02', '2024-01-03', '2024-01-04',\n",
       "             '2024-01-05', '2024-01-06', '2024-01-07', '2024-01-08',\n",
       "             '2024-01-09', '2024-01-10',\n",
       "             ...\n",
       "             '2024-12-22', '2024-12-23', '2024-12-24', '2024-12-25',\n",
       "             '2024-12-26', '2024-12-27', '2024-12-28', '2024-12-29',\n",
       "             '2024-12-30', '2024-12-31'],\n",
       "            dtype='period[D]', length=366)"
      ]
     },
     "execution_count": 5,
     "metadata": {},
     "output_type": "execute_result"
    }
   ],
   "source": [
    "d_"
   ]
  },
  {
   "cell_type": "code",
   "execution_count": 6,
   "metadata": {},
   "outputs": [
    {
     "data": {
      "text/plain": [
       "PeriodIndex(['2024-01', '2024-01', '2024-01', '2024-01', '2024-01', '2024-01',\n",
       "             '2024-01', '2024-01', '2024-01', '2024-01',\n",
       "             ...\n",
       "             '2024-12', '2024-12', '2024-12', '2024-12', '2024-12', '2024-12',\n",
       "             '2024-12', '2024-12', '2024-12', '2024-12'],\n",
       "            dtype='period[M]', length=366)"
      ]
     },
     "execution_count": 6,
     "metadata": {},
     "output_type": "execute_result"
    }
   ],
   "source": [
    "m_"
   ]
  },
  {
   "cell_type": "code",
   "execution_count": 7,
   "metadata": {},
   "outputs": [
    {
     "data": {
      "text/plain": [
       "PeriodIndex(['2024Q1', '2024Q1', '2024Q1', '2024Q1', '2024Q1', '2024Q1',\n",
       "             '2024Q1', '2024Q1', '2024Q1', '2024Q1',\n",
       "             ...\n",
       "             '2024Q4', '2024Q4', '2024Q4', '2024Q4', '2024Q4', '2024Q4',\n",
       "             '2024Q4', '2024Q4', '2024Q4', '2024Q4'],\n",
       "            dtype='period[Q-DEC]', length=366)"
      ]
     },
     "execution_count": 7,
     "metadata": {},
     "output_type": "execute_result"
    }
   ],
   "source": [
    "q_"
   ]
  },
  {
   "cell_type": "markdown",
   "metadata": {},
   "source": [
    "### freq=ME `DatetimeIndex`"
   ]
  },
  {
   "cell_type": "code",
   "execution_count": 8,
   "metadata": {},
   "outputs": [],
   "source": [
    "default_, d_, m_, q_ = DatetimeIndex_to_PeriodIndex(\n",
    "    pd.date_range(start=\"2024-01-01\", end=\"2024-12-31\",freq='ME')\n",
    "    )"
   ]
  },
  {
   "cell_type": "code",
   "execution_count": 9,
   "metadata": {},
   "outputs": [
    {
     "data": {
      "text/plain": [
       "PeriodIndex(['2024-01', '2024-02', '2024-03', '2024-04', '2024-05', '2024-06',\n",
       "             '2024-07', '2024-08', '2024-09', '2024-10', '2024-11', '2024-12'],\n",
       "            dtype='period[M]')"
      ]
     },
     "execution_count": 9,
     "metadata": {},
     "output_type": "execute_result"
    }
   ],
   "source": [
    "default_"
   ]
  },
  {
   "cell_type": "code",
   "execution_count": 10,
   "metadata": {},
   "outputs": [
    {
     "data": {
      "text/plain": [
       "PeriodIndex(['2024-01-31', '2024-02-29', '2024-03-31', '2024-04-30',\n",
       "             '2024-05-31', '2024-06-30', '2024-07-31', '2024-08-31',\n",
       "             '2024-09-30', '2024-10-31', '2024-11-30', '2024-12-31'],\n",
       "            dtype='period[D]')"
      ]
     },
     "execution_count": 10,
     "metadata": {},
     "output_type": "execute_result"
    }
   ],
   "source": [
    "d_"
   ]
  },
  {
   "cell_type": "code",
   "execution_count": 11,
   "metadata": {},
   "outputs": [
    {
     "data": {
      "text/plain": [
       "PeriodIndex(['2024-01', '2024-02', '2024-03', '2024-04', '2024-05', '2024-06',\n",
       "             '2024-07', '2024-08', '2024-09', '2024-10', '2024-11', '2024-12'],\n",
       "            dtype='period[M]')"
      ]
     },
     "execution_count": 11,
     "metadata": {},
     "output_type": "execute_result"
    }
   ],
   "source": [
    "m_"
   ]
  },
  {
   "cell_type": "code",
   "execution_count": 12,
   "metadata": {},
   "outputs": [
    {
     "data": {
      "text/plain": [
       "PeriodIndex(['2024Q1', '2024Q1', '2024Q1', '2024Q2', '2024Q2', '2024Q2',\n",
       "             '2024Q3', '2024Q3', '2024Q3', '2024Q4', '2024Q4', '2024Q4'],\n",
       "            dtype='period[Q-DEC]')"
      ]
     },
     "execution_count": 12,
     "metadata": {},
     "output_type": "execute_result"
    }
   ],
   "source": [
    "q_"
   ]
  },
  {
   "cell_type": "markdown",
   "metadata": {},
   "source": [
    "### freq=None `DatetimeIndex`"
   ]
  },
  {
   "cell_type": "code",
   "execution_count": 13,
   "metadata": {},
   "outputs": [
    {
     "name": "stdout",
     "output_type": "stream",
     "text": [
      "Method 1 ValueError: You must pass a freq argument as current index has none.\n",
      "Method 2 AttributeError: 'NoneType' object has no attribute 'n'\n"
     ]
    }
   ],
   "source": [
    "default_, d_, m_, q_ = DatetimeIndex_to_PeriodIndex(\n",
    "    pd.to_datetime([\"2024-01-15\", \"2025-03-31\", \"2026-03-01\", \"2026-12-31\"])\n",
    "    )"
   ]
  },
  {
   "cell_type": "code",
   "execution_count": 14,
   "metadata": {},
   "outputs": [
    {
     "data": {
      "text/plain": [
       "PeriodIndex(['2024-01-15', '2025-03-31', '2026-03-01', '2026-12-31'], dtype='period[D]')"
      ]
     },
     "execution_count": 14,
     "metadata": {},
     "output_type": "execute_result"
    }
   ],
   "source": [
    "d_"
   ]
  },
  {
   "cell_type": "code",
   "execution_count": 15,
   "metadata": {},
   "outputs": [
    {
     "data": {
      "text/plain": [
       "PeriodIndex(['2024-01', '2025-03', '2026-03', '2026-12'], dtype='period[M]')"
      ]
     },
     "execution_count": 15,
     "metadata": {},
     "output_type": "execute_result"
    }
   ],
   "source": [
    "m_"
   ]
  },
  {
   "cell_type": "code",
   "execution_count": 16,
   "metadata": {},
   "outputs": [
    {
     "data": {
      "text/plain": [
       "PeriodIndex(['2024Q1', '2025Q1', '2026Q1', '2026Q4'], dtype='period[Q-DEC]')"
      ]
     },
     "execution_count": 16,
     "metadata": {},
     "output_type": "execute_result"
    }
   ],
   "source": [
    "q_"
   ]
  },
  {
   "cell_type": "markdown",
   "metadata": {},
   "source": [
    "# `PeriodIndex` to `DatetimeIndex`\n",
    "\n",
    "**Method 1**: `PeriodIndex.to_timestamp(freq=None, how='start')`\n",
    "- The `how` parameter controls which point in the period to convert to a timestamp:\n",
    "    1. `'start'` - converts to the timestamp at the beginning of each period\n",
    "    2. `'end'` - converts to the timestamp at the end of each period\n",
    "- Unlike `DatetimeIndex` to `PeriodIndex` conversion, there's no `freq` inference issue"
   ]
  },
  {
   "cell_type": "code",
   "execution_count": null,
   "metadata": {},
   "outputs": [
    {
     "name": "stdout",
     "output_type": "stream",
     "text": [
      "\n",
      "D_start:\n",
      "DatetimeIndex(['2023-01-01', '2023-01-02', '2023-01-03', '2023-01-04',\n",
      "               '2023-01-05'],\n",
      "              dtype='datetime64[ns]', freq='D')\n",
      "\n",
      "D_end:\n",
      "DatetimeIndex(['2023-01-01 23:59:59.999999999',\n",
      "               '2023-01-02 23:59:59.999999999',\n",
      "               '2023-01-03 23:59:59.999999999',\n",
      "               '2023-01-04 23:59:59.999999999',\n",
      "               '2023-01-05 23:59:59.999999999'],\n",
      "              dtype='datetime64[ns]', freq='D')\n",
      "\n",
      "M_start:\n",
      "DatetimeIndex(['2023-01-01', '2023-02-01', '2023-03-01', '2023-04-01',\n",
      "               '2023-05-01'],\n",
      "              dtype='datetime64[ns]', freq='MS')\n",
      "\n",
      "M_end:\n",
      "DatetimeIndex(['2023-01-31 23:59:59.999999999',\n",
      "               '2023-02-28 23:59:59.999999999',\n",
      "               '2023-03-31 23:59:59.999999999',\n",
      "               '2023-04-30 23:59:59.999999999',\n",
      "               '2023-05-31 23:59:59.999999999'],\n",
      "              dtype='datetime64[ns]', freq=None)\n",
      "\n",
      "Q_start:\n",
      "DatetimeIndex(['2023-01-01', '2023-04-01', '2023-07-01', '2023-10-01'], dtype='datetime64[ns]', freq='QS-OCT')\n",
      "\n",
      "Q_end:\n",
      "DatetimeIndex(['2023-03-31 23:59:59.999999999',\n",
      "               '2023-06-30 23:59:59.999999999',\n",
      "               '2023-09-30 23:59:59.999999999',\n",
      "               '2023-12-31 23:59:59.999999999'],\n",
      "              dtype='datetime64[ns]', freq=None)\n"
     ]
    }
   ],
   "source": [
    "# Create example PeriodIndex objects with different frequencies\n",
    "daily_periods = pd.period_range(start='2023-01-01', periods=5, freq='D')\n",
    "month_periods = pd.period_range(start='2023-01-01', periods=5, freq='M')\n",
    "quarter_periods = pd.period_range(start='2023-01-01', periods=4, freq='Q')\n",
    "\n",
    "examples = {}\n",
    "# Convert each to DatetimeIndex with 'start' and 'end'\n",
    "examples['D_start'] = daily_periods.to_timestamp(how='start')   # Result: DatetimeIndex has freq='D'\n",
    "examples['D_end'] = daily_periods.to_timestamp(how='end')       # Result: DatetimeIndex has freq='D'\n",
    "\n",
    "examples['M_start'] = month_periods.to_timestamp(how='start')   # Result: DatetimeIndex has freq='MS'\n",
    "examples['M_end'] = month_periods.to_timestamp(how='end')       # Result: DatetimeIndex has freq=None\n",
    "\n",
    "examples['Q_start'] = quarter_periods.to_timestamp(how='start') # Result: DatetimeIndex has freq='QS-OCT'\n",
    "examples['Q_end'] = quarter_periods.to_timestamp(how='end')     # Result: DatetimeIndex has freq=None\n",
    "\n",
    "# Print examples\n",
    "for name, idx in examples.items():\n",
    "    print(f\"\\n{name}:\")\n",
    "    print(idx)"
   ]
  }
 ],
 "metadata": {
  "kernelspec": {
   "display_name": ".venv",
   "language": "python",
   "name": "python3"
  },
  "language_info": {
   "codemirror_mode": {
    "name": "ipython",
    "version": 3
   },
   "file_extension": ".py",
   "mimetype": "text/x-python",
   "name": "python",
   "nbconvert_exporter": "python",
   "pygments_lexer": "ipython3",
   "version": "3.11.9"
  }
 },
 "nbformat": 4,
 "nbformat_minor": 2
}
