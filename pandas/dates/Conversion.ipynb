{
 "cells": [
  {
   "cell_type": "code",
   "execution_count": 32,
   "metadata": {},
   "outputs": [],
   "source": [
    "import pandas as pd\n",
    "import numpy as np\n",
    "\n",
    "pd.set_option(\"mode.copy_on_write\", True)"
   ]
  },
  {
   "cell_type": "markdown",
   "metadata": {},
   "source": [
    "# Indexes"
   ]
  },
  {
   "cell_type": "markdown",
   "metadata": {},
   "source": [
    "## `DatetimeIndex` to `PeriodIndex`\n",
    "\n",
    "**Method 1**: `DatetimeIndex.to_period(freq=None)`\n",
    "- If `freq=None` when calling `to_period()`, and if `DatetimeIndex` has a frequency, then `to_period()` inferrs the frequency from `DatetimeIndex`\n",
    "- Raises `ValueError` if `DatetimeIndex.freq` is `None` and if `freq=None` when calling `to_period()`\n",
    "- All datetimes within the same period `freq` are converted to the same period (i.e. no datetimes are dropped as a result of conversion)\n",
    "\n",
    "**Method 2**: `pd.PeriodIndex(DatetimeIndex, freq=None)`\n",
    "- Same notes apply, except that it raises `AttributeError` if `DatetimeIndex.freq` is `None` and if `freq=None`"
   ]
  },
  {
   "cell_type": "markdown",
   "metadata": {},
   "source": [
    "### Examples"
   ]
  },
  {
   "cell_type": "code",
   "execution_count": 33,
   "metadata": {},
   "outputs": [],
   "source": [
    "def DatetimeIndex_to_PeriodIndex(datetime_index):\n",
    "    # Keep track of initial length\n",
    "    initial_len = len(datetime_index)\n",
    "\n",
    "    try:\n",
    "        default_conversion = datetime_index.to_period()\n",
    "    except ValueError as e:\n",
    "        print(f\"Method 1 ValueError: {e}\")\n",
    "        default_conversion = None\n",
    "\n",
    "    d_conversion = datetime_index.to_period('D')\n",
    "    m_conversion = datetime_index.to_period('M')\n",
    "    q_conversion = datetime_index.to_period('Q')\n",
    "\n",
    "    # Verify no data loss occurred\n",
    "    assert len(d_conversion) == initial_len\n",
    "    assert len(m_conversion) == initial_len\n",
    "    assert len(q_conversion) == initial_len\n",
    "\n",
    "    # Verify alternative method produces same results\n",
    "    try:\n",
    "        default_conversion_2 = pd.PeriodIndex(datetime_index)\n",
    "    except ValueError as e:\n",
    "        print(f\"Method 2 ValueError: {e}\")\n",
    "        default_conversion_2 = None\n",
    "    except AttributeError as e:\n",
    "        print(f\"Method 2 AttributeError: {e}\")\n",
    "        default_conversion_2 = None\n",
    "        \n",
    "    d_conversion_2 = pd.PeriodIndex(datetime_index, freq='D') \n",
    "    m_conversion_2 = pd.PeriodIndex(datetime_index, freq='M')                            \n",
    "    q_conversion_2 = pd.PeriodIndex(datetime_index, freq='Q')\n",
    "\n",
    "    assert d_conversion.equals(d_conversion_2)\n",
    "    assert m_conversion.equals(m_conversion_2)\n",
    "    assert q_conversion.equals(q_conversion_2)\n",
    "\n",
    "    # Only assert if both default conversions succeeded\n",
    "    if default_conversion is not None and default_conversion_2 is not None:\n",
    "        assert default_conversion.equals(default_conversion_2)\n",
    "        assert len(default_conversion) == initial_len\n",
    "\n",
    "    return default_conversion, d_conversion, m_conversion, q_conversion"
   ]
  },
  {
   "cell_type": "markdown",
   "metadata": {},
   "source": [
    "#### freq=D `DatetimeIndex`"
   ]
  },
  {
   "cell_type": "code",
   "execution_count": 34,
   "metadata": {},
   "outputs": [],
   "source": [
    "default_, d_, m_, q_ = DatetimeIndex_to_PeriodIndex(\n",
    "    pd.date_range(start=\"2024-01-01\", end=\"2024-12-31\",freq='D')\n",
    "    )"
   ]
  },
  {
   "cell_type": "code",
   "execution_count": 35,
   "metadata": {},
   "outputs": [
    {
     "data": {
      "text/plain": [
       "PeriodIndex(['2024-01-01', '2024-01-02', '2024-01-03', '2024-01-04',\n",
       "             '2024-01-05', '2024-01-06', '2024-01-07', '2024-01-08',\n",
       "             '2024-01-09', '2024-01-10',\n",
       "             ...\n",
       "             '2024-12-22', '2024-12-23', '2024-12-24', '2024-12-25',\n",
       "             '2024-12-26', '2024-12-27', '2024-12-28', '2024-12-29',\n",
       "             '2024-12-30', '2024-12-31'],\n",
       "            dtype='period[D]', length=366)"
      ]
     },
     "execution_count": 35,
     "metadata": {},
     "output_type": "execute_result"
    }
   ],
   "source": [
    "default_"
   ]
  },
  {
   "cell_type": "code",
   "execution_count": 36,
   "metadata": {},
   "outputs": [
    {
     "data": {
      "text/plain": [
       "PeriodIndex(['2024-01-01', '2024-01-02', '2024-01-03', '2024-01-04',\n",
       "             '2024-01-05', '2024-01-06', '2024-01-07', '2024-01-08',\n",
       "             '2024-01-09', '2024-01-10',\n",
       "             ...\n",
       "             '2024-12-22', '2024-12-23', '2024-12-24', '2024-12-25',\n",
       "             '2024-12-26', '2024-12-27', '2024-12-28', '2024-12-29',\n",
       "             '2024-12-30', '2024-12-31'],\n",
       "            dtype='period[D]', length=366)"
      ]
     },
     "execution_count": 36,
     "metadata": {},
     "output_type": "execute_result"
    }
   ],
   "source": [
    "d_"
   ]
  },
  {
   "cell_type": "code",
   "execution_count": 37,
   "metadata": {},
   "outputs": [
    {
     "data": {
      "text/plain": [
       "PeriodIndex(['2024-01', '2024-01', '2024-01', '2024-01', '2024-01', '2024-01',\n",
       "             '2024-01', '2024-01', '2024-01', '2024-01',\n",
       "             ...\n",
       "             '2024-12', '2024-12', '2024-12', '2024-12', '2024-12', '2024-12',\n",
       "             '2024-12', '2024-12', '2024-12', '2024-12'],\n",
       "            dtype='period[M]', length=366)"
      ]
     },
     "execution_count": 37,
     "metadata": {},
     "output_type": "execute_result"
    }
   ],
   "source": [
    "m_"
   ]
  },
  {
   "cell_type": "code",
   "execution_count": 38,
   "metadata": {},
   "outputs": [
    {
     "data": {
      "text/plain": [
       "PeriodIndex(['2024Q1', '2024Q1', '2024Q1', '2024Q1', '2024Q1', '2024Q1',\n",
       "             '2024Q1', '2024Q1', '2024Q1', '2024Q1',\n",
       "             ...\n",
       "             '2024Q4', '2024Q4', '2024Q4', '2024Q4', '2024Q4', '2024Q4',\n",
       "             '2024Q4', '2024Q4', '2024Q4', '2024Q4'],\n",
       "            dtype='period[Q-DEC]', length=366)"
      ]
     },
     "execution_count": 38,
     "metadata": {},
     "output_type": "execute_result"
    }
   ],
   "source": [
    "q_"
   ]
  },
  {
   "cell_type": "markdown",
   "metadata": {},
   "source": [
    "#### freq=ME `DatetimeIndex`"
   ]
  },
  {
   "cell_type": "code",
   "execution_count": 39,
   "metadata": {},
   "outputs": [],
   "source": [
    "default_, d_, m_, q_ = DatetimeIndex_to_PeriodIndex(\n",
    "    pd.date_range(start=\"2024-01-01\", end=\"2024-12-31\",freq='ME')\n",
    "    )"
   ]
  },
  {
   "cell_type": "code",
   "execution_count": 40,
   "metadata": {},
   "outputs": [
    {
     "data": {
      "text/plain": [
       "PeriodIndex(['2024-01', '2024-02', '2024-03', '2024-04', '2024-05', '2024-06',\n",
       "             '2024-07', '2024-08', '2024-09', '2024-10', '2024-11', '2024-12'],\n",
       "            dtype='period[M]')"
      ]
     },
     "execution_count": 40,
     "metadata": {},
     "output_type": "execute_result"
    }
   ],
   "source": [
    "default_"
   ]
  },
  {
   "cell_type": "code",
   "execution_count": 41,
   "metadata": {},
   "outputs": [
    {
     "data": {
      "text/plain": [
       "PeriodIndex(['2024-01-31', '2024-02-29', '2024-03-31', '2024-04-30',\n",
       "             '2024-05-31', '2024-06-30', '2024-07-31', '2024-08-31',\n",
       "             '2024-09-30', '2024-10-31', '2024-11-30', '2024-12-31'],\n",
       "            dtype='period[D]')"
      ]
     },
     "execution_count": 41,
     "metadata": {},
     "output_type": "execute_result"
    }
   ],
   "source": [
    "d_"
   ]
  },
  {
   "cell_type": "code",
   "execution_count": 42,
   "metadata": {},
   "outputs": [
    {
     "data": {
      "text/plain": [
       "PeriodIndex(['2024-01', '2024-02', '2024-03', '2024-04', '2024-05', '2024-06',\n",
       "             '2024-07', '2024-08', '2024-09', '2024-10', '2024-11', '2024-12'],\n",
       "            dtype='period[M]')"
      ]
     },
     "execution_count": 42,
     "metadata": {},
     "output_type": "execute_result"
    }
   ],
   "source": [
    "m_"
   ]
  },
  {
   "cell_type": "code",
   "execution_count": 43,
   "metadata": {},
   "outputs": [
    {
     "data": {
      "text/plain": [
       "PeriodIndex(['2024Q1', '2024Q1', '2024Q1', '2024Q2', '2024Q2', '2024Q2',\n",
       "             '2024Q3', '2024Q3', '2024Q3', '2024Q4', '2024Q4', '2024Q4'],\n",
       "            dtype='period[Q-DEC]')"
      ]
     },
     "execution_count": 43,
     "metadata": {},
     "output_type": "execute_result"
    }
   ],
   "source": [
    "q_"
   ]
  },
  {
   "cell_type": "markdown",
   "metadata": {},
   "source": [
    "#### freq=None `DatetimeIndex`"
   ]
  },
  {
   "cell_type": "code",
   "execution_count": 44,
   "metadata": {},
   "outputs": [
    {
     "name": "stdout",
     "output_type": "stream",
     "text": [
      "Method 1 ValueError: You must pass a freq argument as current index has none.\n",
      "Method 2 AttributeError: 'NoneType' object has no attribute 'n'\n"
     ]
    }
   ],
   "source": [
    "default_, d_, m_, q_ = DatetimeIndex_to_PeriodIndex(\n",
    "    pd.to_datetime([\"2024-01-15\", \"2025-03-31\", \"2026-03-01\", \"2026-12-31\"])\n",
    "    )"
   ]
  },
  {
   "cell_type": "code",
   "execution_count": 45,
   "metadata": {},
   "outputs": [
    {
     "data": {
      "text/plain": [
       "PeriodIndex(['2024-01-15', '2025-03-31', '2026-03-01', '2026-12-31'], dtype='period[D]')"
      ]
     },
     "execution_count": 45,
     "metadata": {},
     "output_type": "execute_result"
    }
   ],
   "source": [
    "d_"
   ]
  },
  {
   "cell_type": "code",
   "execution_count": 46,
   "metadata": {},
   "outputs": [
    {
     "data": {
      "text/plain": [
       "PeriodIndex(['2024-01', '2025-03', '2026-03', '2026-12'], dtype='period[M]')"
      ]
     },
     "execution_count": 46,
     "metadata": {},
     "output_type": "execute_result"
    }
   ],
   "source": [
    "m_"
   ]
  },
  {
   "cell_type": "code",
   "execution_count": 47,
   "metadata": {},
   "outputs": [
    {
     "data": {
      "text/plain": [
       "PeriodIndex(['2024Q1', '2025Q1', '2026Q1', '2026Q4'], dtype='period[Q-DEC]')"
      ]
     },
     "execution_count": 47,
     "metadata": {},
     "output_type": "execute_result"
    }
   ],
   "source": [
    "q_"
   ]
  },
  {
   "cell_type": "markdown",
   "metadata": {},
   "source": [
    "## `PeriodIndex` to `DatetimeIndex`\n",
    "\n",
    "**Method 1**: `PeriodIndex.to_timestamp(freq=None, how='start')`\n",
    "- The `how` parameter controls which point in the period to convert to a timestamp:\n",
    "    1. `'start'` - converts to the timestamp at the beginning of each period\n",
    "    2. `'end'` - converts to the timestamp at the end of each period\n",
    "- Unlike `DatetimeIndex` to `PeriodIndex` conversion, there's no `freq` inference issue"
   ]
  },
  {
   "cell_type": "code",
   "execution_count": 48,
   "metadata": {},
   "outputs": [
    {
     "name": "stdout",
     "output_type": "stream",
     "text": [
      "\n",
      "D_start:\n",
      "DatetimeIndex(['2023-01-01', '2023-01-02', '2023-01-03', '2023-01-04',\n",
      "               '2023-01-05'],\n",
      "              dtype='datetime64[ns]', freq='D')\n",
      "\n",
      "D_end:\n",
      "DatetimeIndex(['2023-01-01 23:59:59.999999999',\n",
      "               '2023-01-02 23:59:59.999999999',\n",
      "               '2023-01-03 23:59:59.999999999',\n",
      "               '2023-01-04 23:59:59.999999999',\n",
      "               '2023-01-05 23:59:59.999999999'],\n",
      "              dtype='datetime64[ns]', freq='D')\n",
      "\n",
      "M_start:\n",
      "DatetimeIndex(['2023-01-01', '2023-02-01', '2023-03-01', '2023-04-01',\n",
      "               '2023-05-01'],\n",
      "              dtype='datetime64[ns]', freq='MS')\n",
      "\n",
      "M_end:\n",
      "DatetimeIndex(['2023-01-31 23:59:59.999999999',\n",
      "               '2023-02-28 23:59:59.999999999',\n",
      "               '2023-03-31 23:59:59.999999999',\n",
      "               '2023-04-30 23:59:59.999999999',\n",
      "               '2023-05-31 23:59:59.999999999'],\n",
      "              dtype='datetime64[ns]', freq=None)\n",
      "\n",
      "Q_start:\n",
      "DatetimeIndex(['2023-01-01', '2023-04-01', '2023-07-01', '2023-10-01'], dtype='datetime64[ns]', freq='QS-OCT')\n",
      "\n",
      "Q_end:\n",
      "DatetimeIndex(['2023-03-31 23:59:59.999999999',\n",
      "               '2023-06-30 23:59:59.999999999',\n",
      "               '2023-09-30 23:59:59.999999999',\n",
      "               '2023-12-31 23:59:59.999999999'],\n",
      "              dtype='datetime64[ns]', freq=None)\n"
     ]
    }
   ],
   "source": [
    "# Create example PeriodIndex objects with different frequencies\n",
    "daily_periods = pd.period_range(start='2023-01-01', periods=5, freq='D')\n",
    "month_periods = pd.period_range(start='2023-01-01', periods=5, freq='M')\n",
    "quarter_periods = pd.period_range(start='2023-01-01', periods=4, freq='Q')\n",
    "\n",
    "examples = {}\n",
    "# Convert each to DatetimeIndex with 'start' and 'end'\n",
    "examples['D_start'] = daily_periods.to_timestamp(how='start')   # Result: DatetimeIndex has freq='D'\n",
    "examples['D_end'] = daily_periods.to_timestamp(how='end')       # Result: DatetimeIndex has freq='D'\n",
    "\n",
    "examples['M_start'] = month_periods.to_timestamp(how='start')   # Result: DatetimeIndex has freq='MS'\n",
    "examples['M_end'] = month_periods.to_timestamp(how='end')       # Result: DatetimeIndex has freq=None\n",
    "\n",
    "examples['Q_start'] = quarter_periods.to_timestamp(how='start') # Result: DatetimeIndex has freq='QS-OCT'\n",
    "examples['Q_end'] = quarter_periods.to_timestamp(how='end')     # Result: DatetimeIndex has freq=None\n",
    "\n",
    "# Print examples\n",
    "for name, idx in examples.items():\n",
    "    print(f\"\\n{name}:\")\n",
    "    print(idx)"
   ]
  },
  {
   "cell_type": "markdown",
   "metadata": {},
   "source": [
    "# Columns"
   ]
  },
  {
   "cell_type": "markdown",
   "metadata": {},
   "source": [
    "## `str` to `datetime`\n",
    "\n",
    "**Method 1:** `pd.to_datetime(series)`\n",
    "- Flexible with date formats and can infer formats automatically\n",
    "- Accepts a `format` parameter to specify exact string format for better performance"
   ]
  },
  {
   "cell_type": "code",
   "execution_count": 49,
   "metadata": {},
   "outputs": [
    {
     "name": "stdout",
     "output_type": "stream",
     "text": [
      "DataFrame with datetime columns:\n",
      "     date_str  values   datetime\n",
      "0  2024-01-15     100 2024-01-15\n",
      "1  2024-02-29     150 2024-02-29\n",
      "2  2024-03-31     200 2024-03-31\n",
      "3  2024-12-31     250 2024-12-31\n",
      "\n",
      "Column types:\n",
      "date_str            object\n",
      "values               int64\n",
      "datetime    datetime64[ns]\n",
      "dtype: object\n"
     ]
    }
   ],
   "source": [
    "# Create sample DataFrame with string dates\n",
    "df_datetime = pd.DataFrame({\n",
    "    'date_str': ['2024-01-15', '2024-02-29', '2024-03-31', '2024-12-31'],\n",
    "    'values': [100, 150, 200, 250]\n",
    "})\n",
    "\n",
    "# Method 1: Using pd.to_datetime()\n",
    "df_datetime['datetime'] = pd.to_datetime(df_datetime['date_str'])\n",
    "\n",
    "# Display results\n",
    "print(\"DataFrame with datetime columns:\")\n",
    "print(df_datetime)\n",
    "\n",
    "# Show dtypes\n",
    "print(\"\\nColumn types:\")\n",
    "print(df_datetime.dtypes)"
   ]
  },
  {
   "cell_type": "code",
   "execution_count": 50,
   "metadata": {},
   "outputs": [
    {
     "name": "stdout",
     "output_type": "stream",
     "text": [
      "\n",
      "DataFrame with various string formats converted to datetime:\n",
      "     date_mdy    date_dmy       date_with_time  values datetime_from_mdy  \\\n",
      "0  01/15/2024  15-01-2024  2024-01-15 08:30:00     100        2024-01-15   \n",
      "1  02/29/2024  29-02-2024  2024-02-29 12:15:45     150        2024-02-29   \n",
      "2  03/31/2024  31-03-2024  2024-03-31 16:20:30     200        2024-03-31   \n",
      "3  12/31/2024  31-12-2024  2024-12-31 23:59:59     250        2024-12-31   \n",
      "\n",
      "  datetime_from_dmy  datetime_with_time  \n",
      "0        2024-01-15 2024-01-15 08:30:00  \n",
      "1        2024-02-29 2024-02-29 12:15:45  \n",
      "2        2024-03-31 2024-03-31 16:20:30  \n",
      "3        2024-12-31 2024-12-31 23:59:59  \n",
      "\n",
      "Datatypes:\n",
      "date_mdy                      object\n",
      "date_dmy                      object\n",
      "date_with_time                object\n",
      "values                         int64\n",
      "datetime_from_mdy     datetime64[ns]\n",
      "datetime_from_dmy     datetime64[ns]\n",
      "datetime_with_time    datetime64[ns]\n",
      "dtype: object\n"
     ]
    }
   ],
   "source": [
    "# Create DataFrame with different date formats\n",
    "df_datetime_formats = pd.DataFrame({\n",
    "    'date_mdy': ['01/15/2024', '02/29/2024', '03/31/2024', '12/31/2024'],\n",
    "    'date_dmy': ['15-01-2024', '29-02-2024', '31-03-2024', '31-12-2024'],\n",
    "    'date_with_time': ['2024-01-15 08:30:00', '2024-02-29 12:15:45', \n",
    "                        '2024-03-31 16:20:30', '2024-12-31 23:59:59'],\n",
    "    'values': [100, 150, 200, 250]\n",
    "})\n",
    "\n",
    "# Convert to datetime with format specification\n",
    "df_datetime_formats['datetime_from_mdy'] = pd.to_datetime(df_datetime_formats['date_mdy'], format='%m/%d/%Y')\n",
    "df_datetime_formats['datetime_from_dmy'] = pd.to_datetime(df_datetime_formats['date_dmy'], format='%d-%m-%Y')\n",
    "df_datetime_formats['datetime_with_time'] = pd.to_datetime(df_datetime_formats['date_with_time'])\n",
    "\n",
    "print(\"\\nDataFrame with various string formats converted to datetime:\")\n",
    "print(df_datetime_formats)\n",
    "print(\"\\nDatatypes:\")\n",
    "print(df_datetime_formats.dtypes)"
   ]
  },
  {
   "cell_type": "markdown",
   "metadata": {},
   "source": [
    "## `str` to Period\n",
    "\n",
    "**Method 1:** `pd.PeriodIndex(series, freq=None)`\n",
    "\n",
    "**Method 2:** Two-step conversion with `pd.to_datetime()` and `.dt.to_period()`"
   ]
  },
  {
   "cell_type": "code",
   "execution_count": 51,
   "metadata": {},
   "outputs": [
    {
     "name": "stdout",
     "output_type": "stream",
     "text": [
      "Original DataFrame with period columns:\n",
      "     date_str  values period_daily period_monthly period_quarterly  \\\n",
      "0  2024-01-15     100   2024-01-15        2024-01           2024Q1   \n",
      "1  2024-02-29     150   2024-02-29        2024-02           2024Q1   \n",
      "2  2024-03-31     200   2024-03-31        2024-03           2024Q1   \n",
      "3  2024-12-31     250   2024-12-31        2024-12           2024Q4   \n",
      "\n",
      "  period_daily_2 period_monthly_2 period_quarterly_2  \n",
      "0     2024-01-15          2024-01             2024Q1  \n",
      "1     2024-02-29          2024-02             2024Q1  \n",
      "2     2024-03-31          2024-03             2024Q1  \n",
      "3     2024-12-31          2024-12             2024Q4  \n",
      "\n",
      "Column types:\n",
      "date_str                     object\n",
      "values                        int64\n",
      "period_daily              period[D]\n",
      "period_monthly            period[M]\n",
      "period_quarterly      period[Q-DEC]\n",
      "period_daily_2            period[D]\n",
      "period_monthly_2          period[M]\n",
      "period_quarterly_2    period[Q-DEC]\n",
      "dtype: object\n"
     ]
    }
   ],
   "source": [
    "# Create sample DataFrame with string dates\n",
    "df = pd.DataFrame({\n",
    "    'date_str': ['2024-01-15', '2024-02-29', '2024-03-31', '2024-12-31'],\n",
    "    'values': [100, 150, 200, 250]\n",
    "})\n",
    "\n",
    "# Method 1: Using pd.to_period()\n",
    "df['period_daily'] = pd.PeriodIndex(df['date_str'], freq='D')\n",
    "df['period_monthly'] = pd.PeriodIndex(df['date_str'], freq='M')\n",
    "df['period_quarterly'] = pd.PeriodIndex(df['date_str'], freq='Q')\n",
    "\n",
    "# Method 2: Two-step conversion\n",
    "df['period_daily_2'] = pd.to_datetime(df['date_str']).dt.to_period('D')\n",
    "df['period_monthly_2'] = pd.to_datetime(df['date_str']).dt.to_period('M')\n",
    "df['period_quarterly_2'] = pd.to_datetime(df['date_str']).dt.to_period('Q')\n",
    "\n",
    "# Display results\n",
    "print(\"Original DataFrame with period columns:\")\n",
    "print(df)\n",
    "\n",
    "# Verify both methods produce the same results\n",
    "assert (df['period_daily'] == df['period_daily_2']).all()\n",
    "assert (df['period_monthly'] == df['period_monthly_2']).all()\n",
    "assert (df['period_quarterly'] == df['period_quarterly_2']).all()\n",
    "\n",
    "# Show dtypes\n",
    "print(\"\\nColumn types:\")\n",
    "print(df.dtypes)"
   ]
  },
  {
   "cell_type": "markdown",
   "metadata": {},
   "source": [
    "### Handling Different String Formats"
   ]
  },
  {
   "cell_type": "code",
   "execution_count": 52,
   "metadata": {},
   "outputs": [
    {
     "name": "stdout",
     "output_type": "stream",
     "text": [
      "\n",
      "DataFrame with various string formats converted to periods:\n",
      "     date_mdy    date_dmy date_yq  values period_from_mdy period_from_dmy  \\\n",
      "0  01/15/2024  15-01-2024  2024Q1     100      2024-01-15      2024-01-15   \n",
      "1  02/29/2024  29-02-2024  2024Q1     150      2024-02-29      2024-02-29   \n",
      "2  03/31/2024  31-03-2024  2024Q1     200      2024-03-31      2024-03-31   \n",
      "3  12/31/2024  31-12-2024  2024Q4     250      2024-12-31      2024-12-31   \n",
      "\n",
      "  period_from_yq  \n",
      "0         2024Q1  \n",
      "1         2024Q1  \n",
      "2         2024Q1  \n",
      "3         2024Q4  \n",
      "\n",
      "Column types:\n",
      "date_mdy                  object\n",
      "date_dmy                  object\n",
      "date_yq                   object\n",
      "values                     int64\n",
      "period_from_mdy        period[D]\n",
      "period_from_dmy        period[D]\n",
      "period_from_yq     period[Q-DEC]\n",
      "dtype: object\n"
     ]
    }
   ],
   "source": [
    "# Create DataFrame with different date formats\n",
    "df_formats = pd.DataFrame({\n",
    "    'date_mdy': ['01/15/2024', '02/29/2024', '03/31/2024', '12/31/2024'],\n",
    "    'date_dmy': ['15-01-2024', '29-02-2024', '31-03-2024', '31-12-2024'],\n",
    "    'date_yq': ['2024Q1', '2024Q1', '2024Q1', '2024Q4'],\n",
    "    'values': [100, 150, 200, 250]\n",
    "})\n",
    "\n",
    "# Convert to period with format specification\n",
    "df_formats['period_from_mdy'] = pd.to_datetime(df_formats['date_mdy'], format='%m/%d/%Y').dt.to_period('D')\n",
    "df_formats['period_from_dmy'] = pd.to_datetime(df_formats['date_dmy'], format='%d-%m-%Y').dt.to_period('D')\n",
    "\n",
    "# For quarter strings, we need a special approach\n",
    "df_formats['period_from_yq'] = pd.PeriodIndex(df_formats['date_yq'], freq='Q')\n",
    "\n",
    "print(\"\\nDataFrame with various string formats converted to periods:\")\n",
    "print(df_formats)\n",
    "\n",
    "# Show dtypes\n",
    "print(\"\\nColumn types:\")\n",
    "print(df_formats.dtypes)"
   ]
  },
  {
   "cell_type": "markdown",
   "metadata": {},
   "source": [
    "## `datetime.date` to period\n",
    "\n",
    "**Method 1**: Convert to datetime64 first, then use `.dt.to_period()`\n",
    "- Python's `datetime.date` objects in a DataFrame column have `dtype=object`\n",
    "- We need to convert to pandas datetime64 using `pd.to_datetime()` first\n",
    "- Then we can use the `.dt.to_period()` accessor\n",
    "\n",
    "**Method 2**: Apply `pd.Period` directly to each element"
   ]
  },
  {
   "cell_type": "code",
   "execution_count": 53,
   "metadata": {},
   "outputs": [
    {
     "name": "stdout",
     "output_type": "stream",
     "text": [
      "Original DataFrame with datetime.date objects:\n",
      "  date_column  values\n",
      "0  2024-01-15     100\n",
      "1  2024-02-29     150\n",
      "2  2024-03-31     200\n",
      "3  2024-12-31     250\n",
      "\n",
      "Column types:\n",
      "date_column    object\n",
      "values          int64\n",
      "dtype: object\n",
      "\n",
      "DataFrame with period columns:\n",
      "  date_column  values period_daily period_monthly period_quarterly  \\\n",
      "0  2024-01-15     100   2024-01-15        2024-01           2024Q1   \n",
      "1  2024-02-29     150   2024-02-29        2024-02           2024Q1   \n",
      "2  2024-03-31     200   2024-03-31        2024-03           2024Q1   \n",
      "3  2024-12-31     250   2024-12-31        2024-12           2024Q4   \n",
      "\n",
      "  period_daily_2 period_monthly_2 period_quarterly_2  \n",
      "0     2024-01-15          2024-01             2024Q1  \n",
      "1     2024-02-29          2024-02             2024Q1  \n",
      "2     2024-03-31          2024-03             2024Q1  \n",
      "3     2024-12-31          2024-12             2024Q4  \n",
      "\n",
      "Column types:\n",
      "date_column                  object\n",
      "values                        int64\n",
      "period_daily              period[D]\n",
      "period_monthly            period[M]\n",
      "period_quarterly      period[Q-DEC]\n",
      "period_daily_2            period[D]\n",
      "period_monthly_2          period[M]\n",
      "period_quarterly_2    period[Q-DEC]\n",
      "dtype: object\n"
     ]
    }
   ],
   "source": [
    "import datetime as dt\n",
    "\n",
    "# Create sample DataFrame with datetime.date objects in a column\n",
    "date_objects = [\n",
    "    dt.date(2024, 1, 15),\n",
    "    dt.date(2024, 2, 29),\n",
    "    dt.date(2024, 3, 31),\n",
    "    dt.date(2024, 12, 31)\n",
    "]\n",
    "\n",
    "df_dates = pd.DataFrame({\n",
    "    'date_column': date_objects,\n",
    "    'values': [100, 150, 200, 250]\n",
    "})\n",
    "\n",
    "print(\"Original DataFrame with datetime.date objects:\")\n",
    "print(df_dates)\n",
    "print(\"\\nColumn types:\")\n",
    "print(df_dates.dtypes)  # date_column will be 'object' dtype\n",
    "\n",
    "# Method 1: Convert to datetime64 first, then to period\n",
    "df_dates['period_daily'] = pd.to_datetime(df_dates['date_column']).dt.to_period('D')\n",
    "df_dates['period_monthly'] = pd.to_datetime(df_dates['date_column']).dt.to_period('M')\n",
    "df_dates['period_quarterly'] = pd.to_datetime(df_dates['date_column']).dt.to_period('Q')\n",
    "\n",
    "# Method 2: Apply pd.Period directly to each element\n",
    "df_dates['period_daily_2'] = df_dates['date_column'].apply(lambda x: pd.Period(x, freq='D'))\n",
    "df_dates['period_monthly_2'] = df_dates['date_column'].apply(lambda x: pd.Period(x, freq='M'))\n",
    "df_dates['period_quarterly_2'] = df_dates['date_column'].apply(lambda x: pd.Period(x, freq='Q'))\n",
    "\n",
    "# Display results\n",
    "print(\"\\nDataFrame with period columns:\")\n",
    "print(df_dates)\n",
    "\n",
    "# Verify both methods produce the same results\n",
    "assert (df_dates['period_daily'] == df_dates['period_daily_2']).all()\n",
    "assert (df_dates['period_monthly'] == df_dates['period_monthly_2']).all()\n",
    "assert (df_dates['period_quarterly'] == df_dates['period_quarterly_2']).all()\n",
    "\n",
    "# Show dtypes\n",
    "print(\"\\nColumn types:\")\n",
    "print(df_dates.dtypes)"
   ]
  }
 ],
 "metadata": {
  "kernelspec": {
   "display_name": ".venv",
   "language": "python",
   "name": "python3"
  },
  "language_info": {
   "codemirror_mode": {
    "name": "ipython",
    "version": 3
   },
   "file_extension": ".py",
   "mimetype": "text/x-python",
   "name": "python",
   "nbconvert_exporter": "python",
   "pygments_lexer": "ipython3",
   "version": "3.11.9"
  }
 },
 "nbformat": 4,
 "nbformat_minor": 2
}
