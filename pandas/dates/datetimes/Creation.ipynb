{
 "cells": [
  {
   "cell_type": "code",
   "execution_count": 1,
   "metadata": {},
   "outputs": [],
   "source": [
    "import pandas as pd\n",
    "\n",
    "pd.set_option(\"mode.copy_on_write\", True)"
   ]
  },
  {
   "cell_type": "markdown",
   "metadata": {},
   "source": [
    "# Creation"
   ]
  },
  {
   "cell_type": "markdown",
   "metadata": {},
   "source": [
    "## `pd.date_range`\n",
    "\n",
    "- Returns a `DatetimeIndex`.\n",
    "\n",
    "- Basic Syntax: \n",
    "```python\n",
    "pd.date_range(start=None, end=None, periods=None, freq=None)\n",
    "```\n",
    "\n",
    "- Notes:\n",
    "    - by default, uses a daily frequency (`'D'`)\n",
    "    - Of the four parameters `start`, `end`, `periods`, and `freq`, exactly three must be specified."
   ]
  },
  {
   "cell_type": "code",
   "execution_count": 2,
   "metadata": {},
   "outputs": [
    {
     "data": {
      "text/plain": [
       "DatetimeIndex(['2024-01-01', '2024-01-02', '2024-01-03', '2024-01-04',\n",
       "               '2024-01-05', '2024-01-06', '2024-01-07', '2024-01-08',\n",
       "               '2024-01-09', '2024-01-10',\n",
       "               ...\n",
       "               '2024-12-22', '2024-12-23', '2024-12-24', '2024-12-25',\n",
       "               '2024-12-26', '2024-12-27', '2024-12-28', '2024-12-29',\n",
       "               '2024-12-30', '2024-12-31'],\n",
       "              dtype='datetime64[ns]', length=366, freq='D')"
      ]
     },
     "execution_count": 2,
     "metadata": {},
     "output_type": "execute_result"
    }
   ],
   "source": [
    "# Daily\n",
    "pd.date_range(start=\"2024-01-01\", end=\"2024-12-31\",freq='D')"
   ]
  },
  {
   "cell_type": "code",
   "execution_count": 3,
   "metadata": {},
   "outputs": [
    {
     "data": {
      "text/plain": [
       "DatetimeIndex(['2024-01-31', '2024-02-29', '2024-03-31', '2024-04-30',\n",
       "               '2024-05-31', '2024-06-30', '2024-07-31', '2024-08-31',\n",
       "               '2024-09-30', '2024-10-31', '2024-11-30', '2024-12-31'],\n",
       "              dtype='datetime64[ns]', freq='ME')"
      ]
     },
     "execution_count": 3,
     "metadata": {},
     "output_type": "execute_result"
    }
   ],
   "source": [
    "# Monthly End\n",
    "pd.date_range(start=\"2024-01-01\", end=\"2024-12-31\",freq='ME')"
   ]
  },
  {
   "cell_type": "code",
   "execution_count": 4,
   "metadata": {},
   "outputs": [
    {
     "data": {
      "text/plain": [
       "DatetimeIndex(['2024-01-01', '2024-02-01', '2024-03-01', '2024-04-01',\n",
       "               '2024-05-01', '2024-06-01', '2024-07-01', '2024-08-01',\n",
       "               '2024-09-01', '2024-10-01', '2024-11-01', '2024-12-01'],\n",
       "              dtype='datetime64[ns]', freq='MS')"
      ]
     },
     "execution_count": 4,
     "metadata": {},
     "output_type": "execute_result"
    }
   ],
   "source": [
    "# Monthly Start\n",
    "pd.date_range(start=\"2024-01-01\", end=\"2024-12-31\",freq='MS')"
   ]
  },
  {
   "cell_type": "code",
   "execution_count": 5,
   "metadata": {},
   "outputs": [
    {
     "data": {
      "text/plain": [
       "DatetimeIndex(['2024-03-31', '2024-06-30', '2024-09-30', '2024-12-31'], dtype='datetime64[ns]', freq='QE-DEC')"
      ]
     },
     "execution_count": 5,
     "metadata": {},
     "output_type": "execute_result"
    }
   ],
   "source": [
    "# Quarter End\n",
    "pd.date_range(start=\"2024-01-01\", end=\"2024-12-31\",freq='QE')"
   ]
  },
  {
   "cell_type": "code",
   "execution_count": 6,
   "metadata": {},
   "outputs": [
    {
     "data": {
      "text/plain": [
       "DatetimeIndex(['2024-01-01', '2024-04-01', '2024-07-01', '2024-10-01'], dtype='datetime64[ns]', freq='QS-JAN')"
      ]
     },
     "execution_count": 6,
     "metadata": {},
     "output_type": "execute_result"
    }
   ],
   "source": [
    "# Quarter Start\n",
    "pd.date_range(start=\"2024-01-01\", end=\"2024-12-31\",freq='QS')"
   ]
  },
  {
   "cell_type": "markdown",
   "metadata": {},
   "source": [
    "## `pd.to_datetime()`\n",
    "\n",
    "- Converts various formats to datetime objects\n",
    "- Returns a `datetime64[ns]` dtype Series/Index if given a Series/Index/list-like\n",
    "- Returns a `Timestamp` if given a scalar value\n",
    "- Year-month or year-only dates are parsed to first day of the Year-month or year, respectively, as with regular `datetime`."
   ]
  },
  {
   "cell_type": "code",
   "execution_count": 7,
   "metadata": {},
   "outputs": [
    {
     "data": {
      "text/plain": [
       "Timestamp('2024-01-15 00:00:00')"
      ]
     },
     "execution_count": 7,
     "metadata": {},
     "output_type": "execute_result"
    }
   ],
   "source": [
    "# scalar input\n",
    "pd.to_datetime(\"2024-01-15\")"
   ]
  },
  {
   "cell_type": "code",
   "execution_count": 8,
   "metadata": {},
   "outputs": [
    {
     "data": {
      "text/plain": [
       "(DatetimeIndex(['2024-01-15', '2025-03-31', '2026-03-01'], dtype='datetime64[ns]', freq=None),\n",
       " DatetimeIndex(['2024-01-01', '2025-02-01'], dtype='datetime64[ns]', freq=None),\n",
       " DatetimeIndex(['2024-01-01', '2025-01-01'], dtype='datetime64[ns]', freq=None))"
      ]
     },
     "execution_count": 8,
     "metadata": {},
     "output_type": "execute_result"
    }
   ],
   "source": [
    "# List input\n",
    "# Note: No `freq` is assigned\n",
    "\n",
    "(\n",
    "    pd.to_datetime([\"2024-01-15\", \"2025-03-31\", \"2026-03-01\"]),\n",
    "    pd.to_datetime([\"2024-01\", \"2025-02\"]),\n",
    "    pd.to_datetime([\"2024\", \"2025\"]),\n",
    ")"
   ]
  },
  {
   "cell_type": "markdown",
   "metadata": {},
   "source": [
    "# DataFrames"
   ]
  },
  {
   "cell_type": "markdown",
   "metadata": {},
   "source": [
    "## Create a df with a pd.DatetimeIndex\n",
    "\n",
    "```python\n",
    "# Example DataFrame with DatetimeIndex\n",
    "df_datetime = pd.DataFrame(\n",
    "    {\"value\": [1, 2, 3]}, \n",
    "    index=pd.date_range(start=\"2023-01-01\", periods=3)\n",
    ")\n",
    "# Output index: DatetimeIndex(['2023-01-01', '2023-01-02', '2023-01-03'], dtype='datetime64[ns]', freq='D')\n",
    "\n",
    "# Equivalently: \n",
    "df_datetime = pd.DataFrame(\n",
    "    {\"value\": [1, 2, 3]}, \n",
    "    index=pd.date_range(start=\"2023-01-01\", end=\"2023-01-03\")\n",
    ")\n",
    "```"
   ]
  },
  {
   "cell_type": "markdown",
   "metadata": {},
   "source": [
    "## Create a df with a datetime column\n",
    "\n",
    "```python\n",
    "\n",
    "# Example DataFrame with Datetime column\n",
    "df_datetime = pd.DataFrame({\n",
    "    \"date\": pd.to_datetime([\"2025-01-01\", \"2025-01-02\", \"2025-01-03\"]),\n",
    "    \"value\": [10, 20, 30]\n",
    "})\n",
    "\n",
    "```"
   ]
  }
 ],
 "metadata": {
  "kernelspec": {
   "display_name": ".venv",
   "language": "python",
   "name": "python3"
  },
  "language_info": {
   "codemirror_mode": {
    "name": "ipython",
    "version": 3
   },
   "file_extension": ".py",
   "mimetype": "text/x-python",
   "name": "python",
   "nbconvert_exporter": "python",
   "pygments_lexer": "ipython3",
   "version": "3.11.9"
  }
 },
 "nbformat": 4,
 "nbformat_minor": 2
}
