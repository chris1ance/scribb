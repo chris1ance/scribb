{
 "cells": [
  {
   "cell_type": "code",
   "execution_count": null,
   "metadata": {},
   "outputs": [],
   "source": [
    "import pandas as pd\n",
    "import numpy as np\n",
    "\n",
    "pd.set_option(\"mode.copy_on_write\", True)"
   ]
  },
  {
   "cell_type": "markdown",
   "metadata": {},
   "source": [
    "# Missing Values\n",
    "\n",
    "```python\n",
    "\n",
    "# Check if there are any missing values\n",
    "df.isna().any().any() # Returns True if there are any missing values\n",
    "\n",
    "# Check for missing values in a specific column\n",
    "df[\"column_name\"].isna().any() # Returns True if there are any missing values in that column\n",
    "\n",
    "# Check for missing values in a specific row\n",
    "df.iloc[0].isna().any() # Returns True if there are any missing values in that row\n",
    "\n",
    "```"
   ]
  }
 ],
 "metadata": {
  "kernelspec": {
   "display_name": ".venv",
   "language": "python",
   "name": "python3"
  },
  "language_info": {
   "name": "python",
   "version": "3.11.9"
  }
 },
 "nbformat": 4,
 "nbformat_minor": 2
}
