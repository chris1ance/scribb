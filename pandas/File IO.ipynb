{
 "cells": [
  {
   "cell_type": "code",
   "execution_count": null,
   "metadata": {},
   "outputs": [],
   "source": [
    "import pandas as pd"
   ]
  },
  {
   "cell_type": "markdown",
   "metadata": {},
   "source": [
    "# Excel\n",
    "\n",
    "**Get Sheet Names:**\n",
    "\n",
    "```python\n",
    "file_path = 'file_path_to_excel_file.xlsx'\n",
    "xls = pd.ExcelFile(file_path)\n",
    "xls.sheet_names\n",
    "```"
   ]
  }
 ],
 "metadata": {
  "kernelspec": {
   "display_name": ".venv",
   "language": "python",
   "name": "python3"
  },
  "language_info": {
   "name": "python",
   "version": "3.11.11"
  }
 },
 "nbformat": 4,
 "nbformat_minor": 2
}
