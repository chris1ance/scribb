{
 "cells": [
  {
   "cell_type": "code",
   "execution_count": 2,
   "metadata": {},
   "outputs": [],
   "source": [
    "import pandas as pd\n",
    "import numpy as np\n",
    "\n",
    "pd.set_option(\"mode.copy_on_write\", True)"
   ]
  },
  {
   "cell_type": "markdown",
   "metadata": {},
   "source": [
    "# From Series\n",
    "\n",
    "When pandas concatenates the series into a DataFrame:\n",
    "\n",
    "- It uses the union of all indices as the index\n",
    "- If a series doesn't have data for a particular index value, that cell will be filled with NaN"
   ]
  },
  {
   "cell_type": "code",
   "execution_count": 3,
   "metadata": {},
   "outputs": [
    {
     "name": "stdout",
     "output_type": "stream",
     "text": [
      "              A    B\n",
      "2020-01-01  1.0  NaN\n",
      "2020-01-02  2.0  3.0\n",
      "2020-01-03  NaN  4.0\n"
     ]
    }
   ],
   "source": [
    "series1 = pd.Series([1, 2], index=['2020-01-01', '2020-01-02'])\n",
    "series2 = pd.Series([3, 4], index=['2020-01-02', '2020-01-03'])\n",
    "\n",
    "df = pd.DataFrame({\n",
    "    'A': series1,\n",
    "    'B': series2\n",
    "})\n",
    "\n",
    "print(df)"
   ]
  }
 ],
 "metadata": {
  "kernelspec": {
   "display_name": ".venv",
   "language": "python",
   "name": "python3"
  },
  "language_info": {
   "codemirror_mode": {
    "name": "ipython",
    "version": 3
   },
   "file_extension": ".py",
   "mimetype": "text/x-python",
   "name": "python",
   "nbconvert_exporter": "python",
   "pygments_lexer": "ipython3",
   "version": "3.11.11"
  }
 },
 "nbformat": 4,
 "nbformat_minor": 2
}
