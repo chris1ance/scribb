{
 "cells": [
  {
   "cell_type": "code",
   "execution_count": 2,
   "metadata": {},
   "outputs": [],
   "source": [
    "import pandas as pd\n",
    "\n",
    "pd.set_option(\"mode.copy_on_write\", True)"
   ]
  },
  {
   "cell_type": "markdown",
   "metadata": {},
   "source": [
    "# Getting One Row\n",
    "\n",
    "```python\n",
    "\n",
    "# 1. Using `iloc[]` for integer-based indexing:\n",
    "df.iloc[0]  # Gets first row, returns a **Series**\n",
    "df.iloc[[0]]  # Gets first row, returns a **DataFrame**\n",
    "\n",
    "# 2. Using `loc[]` for label-based indexing:\n",
    "df.loc[0]   # Gets row with index label 0, returns a **Series**\n",
    "df.loc[[0]]  # Gets row with index label 0, returns a **DataFrame**\n",
    "\n",
    "# 3. Using boolean indexing:\n",
    "df[df['column_name'] == value]  # Gets rows matching condition\n",
    "\n",
    "# 4. Using `head()` or `tail()`:\n",
    "df.head(1)  # Gets first row\n",
    "df.tail(1)  # Gets last row\n",
    "\n",
    "```\n"
   ]
  },
  {
   "cell_type": "markdown",
   "metadata": {},
   "source": [
    "# Getting One Column\n",
    "\n",
    "```python\n",
    "\n",
    "# 1. Using column name - returns Series:\n",
    "df['column_name']\n",
    "\n",
    "# 2. Using column name - returns DataFrame:\n",
    "df[['column_name']]  # Double brackets preserve DataFrame structure\n",
    "\n",
    "# 3. Using `iloc[]` - returns Series:\n",
    "df.iloc[:, 0]  # Gets first column\n",
    "\n",
    "# 4. Using `iloc[]` - returns DataFrame:\n",
    "df.iloc[:, [0]]  # Gets first column as DataFrame\n",
    "\n",
    "# 5. Using `loc[]` - returns Series:\n",
    "df.loc[:, 'column_name']  # Gets column by label\n",
    "\n",
    "# 6. Using `loc[]` - returns DataFrame:\n",
    "df.loc[:, ['column_name']]  # Gets column by label as DataFrame\n",
    "\n",
    "```\n",
    "\n",
    "The `name` attribute is preserved in all the Series-returning methods. This maintains the column's identity even after extraction."
   ]
  },
  {
   "cell_type": "markdown",
   "metadata": {},
   "source": [
    "# Getting One Element As a Scalar\n",
    "\n",
    "```python\n",
    "\n",
    "# 1. Using `iloc[]` for integer-based indexing:\n",
    "df.iloc[0, 0]  # Gets element at first row, first column\n",
    "\n",
    "# 2. Using `loc[]` for label-based indexing:\n",
    "df.loc['row_label', 'column_label']  # Gets element using row and column labels\n",
    "\n",
    "# 3. Using column name with row index:\n",
    "df['column_name'][0]  # Gets first element in specified column\n",
    "df.column_name[0]     # Alternative dot notation if column name is valid Python identifier\n",
    "\n",
    "# 4. Using `at[]` for label-based access (fastest):\n",
    "df.at['row_label', 'column_label']\n",
    "\n",
    "# 5. Using `iat[]` for integer-based access (fastest):\n",
    "df.iat[0, 0]  # Gets element at first row, first column\n",
    "\n",
    "```\n"
   ]
  },
  {
   "cell_type": "markdown",
   "metadata": {},
   "source": [
    "# Getting One Element As a Series\n",
    "\n",
    "```python\n",
    "\n",
    "# 1. Using `iloc[]` for integer-based indexing:\n",
    "df.iloc[[0], [0]]  # Gets element at first row, first column as Series\n",
    "df.iloc[0:1, 0:1]  # Alternative slice syntax\n",
    "\n",
    "# 2. Using `loc[]` for label-based indexing:\n",
    "df.loc[['row_label'], ['column_label']]  # Gets element using row and column labels as Series\n",
    "\n",
    "# 3. Using column name with row index:\n",
    "df[['column_name']].iloc[[0]]  # Gets first element in specified column as Series\n",
    "df[['column_name']].loc[[0]]   # Alternative using loc if 0 is the index label\n",
    "\n",
    "# Note: `at[]` and `iat[]` always return scalar values and cannot preserve index/column names\n",
    "\n",
    "```"
   ]
  }
 ],
 "metadata": {
  "kernelspec": {
   "display_name": ".venv",
   "language": "python",
   "name": "python3"
  },
  "language_info": {
   "codemirror_mode": {
    "name": "ipython",
    "version": 3
   },
   "file_extension": ".py",
   "mimetype": "text/x-python",
   "name": "python",
   "nbconvert_exporter": "python",
   "pygments_lexer": "ipython3",
   "version": "3.11.9"
  }
 },
 "nbformat": 4,
 "nbformat_minor": 2
}
