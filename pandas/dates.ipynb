{
 "cells": [
  {
   "cell_type": "code",
   "execution_count": 11,
   "metadata": {},
   "outputs": [],
   "source": [
    "import pandas as pd\n",
    "\n",
    "pd.set_option(\"mode.copy_on_write\", True)"
   ]
  },
  {
   "cell_type": "markdown",
   "metadata": {},
   "source": [
    "# Period Aliases\n",
    "\n",
    "See: https://pandas.pydata.org/docs/user_guide/timeseries.html#timeseries-period-aliases"
   ]
  },
  {
   "cell_type": "markdown",
   "metadata": {},
   "source": [
    "# Periods"
   ]
  },
  {
   "cell_type": "markdown",
   "metadata": {},
   "source": [
    "## Create a PeriodIndex"
   ]
  },
  {
   "cell_type": "markdown",
   "metadata": {},
   "source": [
    "```python\n",
    "pd.period_range(start=\"2023-01\", end=\"2023-03\", freq=\"M\")\n",
    "# Output: PeriodIndex(['2023-01', '2023-02', '2023-03'], dtype='period[M]')\n",
    "\n",
    "pd.period_range(start=\"2023-01-01\", end=\"2023-03-01\", freq=\"M\")\n",
    "# Output: PeriodIndex(['2023-01', '2023-02', '2023-03'], dtype='period[M]')\n",
    "\n",
    "pd.period_range(start=\"2023-01\", end=\"2023-12\", freq=\"Q\")\n",
    "# Output: PeriodIndex(['2023Q1', '2023Q2', '2023Q3', '2023Q4'], dtype='period[Q-DEC]')\n",
    "\n",
    "pd.period_range(start=\"2023-01-01\", end=\"2023-12-01\", freq=\"Q\")\n",
    "# Output: PeriodIndex(['2023Q1', '2023Q2', '2023Q3', '2023Q4'], dtype='period[Q-DEC]')\n",
    "\n",
    "pd.period_range(start=\"2023-01\", end=\"2023-12\", freq=\"D\")\n",
    "# Output: PeriodIndex(['2023-01-01', ..., '2023-12-01'], dtype=dtype='period[D]')\n",
    "# Note: The last day in the period index is 2023-12-01, not 2023-12-31\n",
    "\n",
    "pd.period_range(start=\"2023-01-01\", end=\"2023-12-01\", freq=\"D\")\n",
    "# Output: PeriodIndex(['2023-01-01', ..., '2023-12-01'], dtype=dtype='period[D]')\n",
    "```"
   ]
  },
  {
   "cell_type": "markdown",
   "metadata": {},
   "source": [
    "## Get Period freqstr\n",
    "\n",
    "```python\n",
    "### PeriodIndex\n",
    "\n",
    "df.index.freqstr\n",
    "\n",
    "### Period Column\n",
    "\n",
    "# Method 1:\n",
    "df[col].iloc[0].freqstr\n",
    "\n",
    "# Method 2:\n",
    "pd.PeriodIndex(df[col]).freqstr\n",
    "```"
   ]
  },
  {
   "cell_type": "markdown",
   "metadata": {},
   "source": [
    "# Creating a df with a pd.PeriodIndex/pd.DatetimeIndex\n",
    "\n",
    "```python\n",
    "# Example DataFrame with DatetimeIndex\n",
    "df_datetime = pd.DataFrame(\n",
    "    {\"value\": [1, 2, 3]}, \n",
    "    index=pd.date_range(\"2023-01-01\", periods=3)\n",
    ")\n",
    "\n",
    "# Example DataFrame with PeriodIndex\n",
    "df_period = pd.DataFrame(\n",
    "    {\"value\": [4, 5, 6]}, \n",
    "    index=pd.period_range(\"2023-01\", periods=3, freq=\"M\")\n",
    ")\n",
    "```"
   ]
  },
  {
   "cell_type": "markdown",
   "metadata": {},
   "source": [
    "# Creating a df with a period/datetime column\n",
    "\n",
    "```python\n",
    "# Example DataFrame with Datetime column\n",
    "df_datetime = pd.DataFrame({\n",
    "    \"date\": pd.to_datetime([\"2025-01-01\", \"2025-01-02\", \"2025-01-03\"]),\n",
    "    \"value\": [10, 20, 30]\n",
    "})\n",
    "\n",
    "# Example DataFrame with PeriodIndex\n",
    "df_period = pd.DataFrame({\n",
    "    \"date\": pd.period_range(start=\"2023-01\", end=\"2023-03\", freq=\"M\"),\n",
    "    \"value\": [10, 20, 30]\n",
    "})\n",
    "```"
   ]
  },
  {
   "cell_type": "markdown",
   "metadata": {},
   "source": [
    "# Type Checks"
   ]
  },
  {
   "cell_type": "markdown",
   "metadata": {},
   "source": [
    "## Column"
   ]
  },
  {
   "cell_type": "markdown",
   "metadata": {},
   "source": [
    "```python\n",
    "### datetime\n",
    "\n",
    "pd.api.types.is_datetime64_any_dtype(df[col])\n",
    "\n",
    "### Period\n",
    "\n",
    "isinstance(df[col].dtype, pd.PeriodDtype)\n",
    "```"
   ]
  },
  {
   "cell_type": "markdown",
   "metadata": {},
   "source": [
    "## Index"
   ]
  },
  {
   "cell_type": "markdown",
   "metadata": {},
   "source": [
    "```python\n",
    "### datetime\n",
    "\n",
    "# Method 1:\n",
    "isinstance(df.index, pd.DatetimeIndex)\n",
    "\n",
    "# Method 2:\n",
    "pd.api.types.is_datetime64_any_dtype(df.index)\n",
    "\n",
    "### Period\n",
    "\n",
    "# Method 1:\n",
    "isinstance(df.index, pd.PeriodIndex)\n",
    "\n",
    "# Method 2:\n",
    "isinstance(df.index.dtype, pd.PeriodDtype)\n",
    "\n",
    "```"
   ]
  },
  {
   "cell_type": "markdown",
   "metadata": {},
   "source": [
    "# Conversions"
   ]
  },
  {
   "cell_type": "markdown",
   "metadata": {},
   "source": [
    "## Index\n",
    "\n",
    "```python\n",
    "### Datetime --> Period\n",
    "\n",
    "# Method 1: \n",
    "df.index.to_period(freq=\"M\") # More generally: df.index.to_period(freq=<freq_code>)\n",
    "\n",
    "# Method 2:\n",
    "pd.PeriodIndex(df.index, freq=\"M\") \n",
    "\n",
    "```\n",
    "\n",
    "```python\n",
    "### Period --> Datetime\n",
    "\n",
    "df.index.to_timestamp()\n",
    "\n",
    "# NOTE: to_timestamp() converts periods to the start of the period by default\n",
    "#       You can specify 'end' to get end of period: to_timestamp(how='end')\n",
    "df.index.to_timestamp(how='end')\n",
    "\n",
    "```"
   ]
  },
  {
   "cell_type": "markdown",
   "metadata": {},
   "source": [
    "## Column\n",
    "\n",
    "```python\n",
    "\n",
    "### String --> Datetime\n",
    "pd.to_datetime(df[col])  # Assumes string is YYYY-MM-DD format\n",
    "\n",
    "### Datetime --> Period\n",
    "df[col].dt.to_period(freq=\"M\") # More generally: df[col].dt.to_period(freq=<freq_code>)\n",
    "\n",
    "### Period --> Datetime\n",
    "df[col].dt.to_timestamp()\n",
    "\n",
    "### String --> Period\n",
    "pd.to_datetime(df[col]).dt.to_period(freq=\"M\")\n",
    "```"
   ]
  }
 ],
 "metadata": {
  "kernelspec": {
   "display_name": ".venv",
   "language": "python",
   "name": "python3"
  },
  "language_info": {
   "codemirror_mode": {
    "name": "ipython",
    "version": 3
   },
   "file_extension": ".py",
   "mimetype": "text/x-python",
   "name": "python",
   "nbconvert_exporter": "python",
   "pygments_lexer": "ipython3",
   "version": "3.11.11"
  }
 },
 "nbformat": 4,
 "nbformat_minor": 2
}
