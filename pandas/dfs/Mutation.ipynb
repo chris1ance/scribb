{
 "cells": [
  {
   "cell_type": "markdown",
   "metadata": {},
   "source": [
    "# Mutation\n",
    "\n",
    "## Element-wise Operations\n",
    "\n",
    "```python\n",
    "# Assume value is a scalar\n",
    "df + value  # Add value to all elements\n",
    "df - value  # Subtract value from all elements\n",
    "df * value  # Multiply all elements by value\n",
    "df / value  # Divide all elements by value\n",
    "\n",
    "# Ops between two dfs\n",
    "df1 + df2   # Add corresponding elements\n",
    "df1 - df2   # Subtract corresponding elements\n",
    "df1 * df2   # Multiply corresponding elements\n",
    "df1 / df2   # Divide corresponding elements\n",
    "```\n",
    "\n",
    "## DataFrame and Series Operations\n",
    "\n",
    "Operations between DataFrames and Series align on the index by default:\n",
    "\n",
    "```python\n",
    "# DataFrame divided by Series (aligned by index)\n",
    "df / series  # Series index must match DataFrame index\n",
    "\n",
    "# Row-wise operations (using axis)\n",
    "df.add(series, axis=0)       # Add Series to each row\n",
    "df.subtract(series, axis=0)  # Subtract Series from each row\n",
    "\n",
    "# Column-wise operations (default)\n",
    "df.add(series, axis=1)       # Add Series to each column\n",
    "df.subtract(series, axis=1)  # Subtract Series from each column\n",
    "df.divide(series, axis=1)    # Divide each column by Series\n",
    "```\n",
    "\n",
    "## Apply Function\n",
    "\n",
    "`df.apply` \n",
    "- Apply function to each row: `df.apply(func, axis=1)`\n",
    "- Apply function to each column: `df.apply(func, axis=0)`\n",
    "- Objects passed to the function are `pd.Series` whose index is either the DataFrame’s index (`axis=0`) or columns (`axis=1`).\n",
    "\n",
    "```python\n",
    "# Apply function to each column\n",
    "df.apply(func, axis=0) \n",
    "\n",
    "# Apply function to each row\n",
    "df.apply(func, axis=1)\n",
    "\n",
    "# Using a custom function\n",
    "df.apply(lambda col: f(col), axis=0)\n",
    "df.apply(lambda row: f(row), axis=1)\n",
    "```\n",
    "\n",
    "## DataFrame.map()\n",
    "\n",
    "- Apply a function to a Dataframe elementwise\n",
    "- Applies a function that accepts and returns a scalar to every element of a DataFrame.\n",
    "\n",
    "```python\n",
    "df.map(lambda x: func(x))\n",
    "```\n",
    "\n",
    "## Transform Function\n",
    "\n",
    "- Call `func` on self producing a DataFrame with the same axis shape as self.\n",
    "- Functions that mutate the passed object can produce unexpected behavior or errors and are not supported. \n",
    "\n",
    "```python\n",
    "df.transform(func)\n",
    "```\n",
    "\n",
    "## Built-in Statistical Functions\n",
    "\n",
    "### Basic Statistics\n",
    "```python\n",
    "df.mean()        # Mean of values\n",
    "df.median()      # Median of values\n",
    "df.mode()        # Mode of values\n",
    "df.sum()         # Sum of values\n",
    "df.min()         # Minimum\n",
    "df.max()         # Maximum\n",
    "df.count()       # Count of non-NA/null values\n",
    "```\n",
    "\n",
    "### Measures of Spread\n",
    "```python\n",
    "df.std()         # Standard deviation\n",
    "df.var()         # Variance\n",
    "df.sem()         # Standard error of mean\n",
    "df.mad()         # Mean absolute deviation\n",
    "```\n",
    "\n",
    "### Quantiles and Percentiles\n",
    "```python\n",
    "df.quantile(0.5)               # Median (50th percentile)\n",
    "df.quantile([0.25, 0.5, 0.75]) # Return multiple quantiles\n",
    "df.describe()                  # Summary statistics including quantiles\n",
    "```\n",
    "\n",
    "### Axis Parameter\n",
    "- Most statistical functions accept an `axis` parameter\n",
    "- `axis=0`: Apply operation along columns (default)\n",
    "- `axis=1`: Apply operation along rows\n",
    "\n",
    "```python\n",
    "df.mean(axis=0)  # Column means (default)\n",
    "df.mean(axis=1)  # Row means\n",
    "```"
   ]
  },
  {
   "cell_type": "markdown",
   "metadata": {},
   "source": [
    "# Examples"
   ]
  },
  {
   "cell_type": "code",
   "execution_count": 47,
   "metadata": {},
   "outputs": [],
   "source": [
    "import pandas as pd\n",
    "pd.set_option(\"mode.copy_on_write\", True)\n",
    "import numpy as np"
   ]
  },
  {
   "cell_type": "code",
   "execution_count": 48,
   "metadata": {},
   "outputs": [
    {
     "data": {
      "text/html": [
       "<div>\n",
       "<style scoped>\n",
       "    .dataframe tbody tr th:only-of-type {\n",
       "        vertical-align: middle;\n",
       "    }\n",
       "\n",
       "    .dataframe tbody tr th {\n",
       "        vertical-align: top;\n",
       "    }\n",
       "\n",
       "    .dataframe thead th {\n",
       "        text-align: right;\n",
       "    }\n",
       "</style>\n",
       "<table border=\"1\" class=\"dataframe\">\n",
       "  <thead>\n",
       "    <tr style=\"text-align: right;\">\n",
       "      <th></th>\n",
       "      <th>Name</th>\n",
       "      <th>Age</th>\n",
       "      <th>Salary</th>\n",
       "    </tr>\n",
       "  </thead>\n",
       "  <tbody>\n",
       "    <tr>\n",
       "      <th>p1</th>\n",
       "      <td>Alice</td>\n",
       "      <td>25</td>\n",
       "      <td>50000</td>\n",
       "    </tr>\n",
       "    <tr>\n",
       "      <th>p2</th>\n",
       "      <td>Bob</td>\n",
       "      <td>30</td>\n",
       "      <td>60000</td>\n",
       "    </tr>\n",
       "    <tr>\n",
       "      <th>p3</th>\n",
       "      <td>Charlie</td>\n",
       "      <td>35</td>\n",
       "      <td>70000</td>\n",
       "    </tr>\n",
       "    <tr>\n",
       "      <th>p4</th>\n",
       "      <td>David</td>\n",
       "      <td>40</td>\n",
       "      <td>80000</td>\n",
       "    </tr>\n",
       "  </tbody>\n",
       "</table>\n",
       "</div>"
      ],
      "text/plain": [
       "       Name  Age  Salary\n",
       "p1    Alice   25   50000\n",
       "p2      Bob   30   60000\n",
       "p3  Charlie   35   70000\n",
       "p4    David   40   80000"
      ]
     },
     "execution_count": 48,
     "metadata": {},
     "output_type": "execute_result"
    }
   ],
   "source": [
    "# Create a sample DataFrame\n",
    "data = {\n",
    "    'Name': ['Alice', 'Bob', 'Charlie', 'David'],\n",
    "    'Age': [25, 30, 35, 40],\n",
    "    'Salary': [50000, 60000, 70000, 80000]\n",
    "}\n",
    "df = pd.DataFrame(data, index=['p1', 'p2', 'p3', 'p4'])\n",
    "df"
   ]
  },
  {
   "cell_type": "markdown",
   "metadata": {},
   "source": [
    "## Example: Element-wise Operations"
   ]
  },
  {
   "cell_type": "code",
   "execution_count": 49,
   "metadata": {},
   "outputs": [
    {
     "data": {
      "text/html": [
       "<div>\n",
       "<style scoped>\n",
       "    .dataframe tbody tr th:only-of-type {\n",
       "        vertical-align: middle;\n",
       "    }\n",
       "\n",
       "    .dataframe tbody tr th {\n",
       "        vertical-align: top;\n",
       "    }\n",
       "\n",
       "    .dataframe thead th {\n",
       "        text-align: right;\n",
       "    }\n",
       "</style>\n",
       "<table border=\"1\" class=\"dataframe\">\n",
       "  <thead>\n",
       "    <tr style=\"text-align: right;\">\n",
       "      <th></th>\n",
       "      <th>Age</th>\n",
       "      <th>Salary</th>\n",
       "    </tr>\n",
       "  </thead>\n",
       "  <tbody>\n",
       "    <tr>\n",
       "      <th>p1</th>\n",
       "      <td>50</td>\n",
       "      <td>100000</td>\n",
       "    </tr>\n",
       "    <tr>\n",
       "      <th>p2</th>\n",
       "      <td>60</td>\n",
       "      <td>120000</td>\n",
       "    </tr>\n",
       "    <tr>\n",
       "      <th>p3</th>\n",
       "      <td>70</td>\n",
       "      <td>140000</td>\n",
       "    </tr>\n",
       "    <tr>\n",
       "      <th>p4</th>\n",
       "      <td>80</td>\n",
       "      <td>160000</td>\n",
       "    </tr>\n",
       "  </tbody>\n",
       "</table>\n",
       "</div>"
      ],
      "text/plain": [
       "    Age  Salary\n",
       "p1   50  100000\n",
       "p2   60  120000\n",
       "p3   70  140000\n",
       "p4   80  160000"
      ]
     },
     "execution_count": 49,
     "metadata": {},
     "output_type": "execute_result"
    }
   ],
   "source": [
    "df_numeric = df[['Age', 'Salary']]\n",
    "df_numeric * 2"
   ]
  },
  {
   "cell_type": "code",
   "execution_count": 50,
   "metadata": {},
   "outputs": [
    {
     "data": {
      "text/html": [
       "<div>\n",
       "<style scoped>\n",
       "    .dataframe tbody tr th:only-of-type {\n",
       "        vertical-align: middle;\n",
       "    }\n",
       "\n",
       "    .dataframe tbody tr th {\n",
       "        vertical-align: top;\n",
       "    }\n",
       "\n",
       "    .dataframe thead th {\n",
       "        text-align: right;\n",
       "    }\n",
       "</style>\n",
       "<table border=\"1\" class=\"dataframe\">\n",
       "  <thead>\n",
       "    <tr style=\"text-align: right;\">\n",
       "      <th></th>\n",
       "      <th>Age</th>\n",
       "      <th>Salary</th>\n",
       "    </tr>\n",
       "  </thead>\n",
       "  <tbody>\n",
       "    <tr>\n",
       "      <th>p1</th>\n",
       "      <td>26</td>\n",
       "      <td>51000</td>\n",
       "    </tr>\n",
       "    <tr>\n",
       "      <th>p2</th>\n",
       "      <td>32</td>\n",
       "      <td>62000</td>\n",
       "    </tr>\n",
       "    <tr>\n",
       "      <th>p3</th>\n",
       "      <td>38</td>\n",
       "      <td>73000</td>\n",
       "    </tr>\n",
       "    <tr>\n",
       "      <th>p4</th>\n",
       "      <td>44</td>\n",
       "      <td>84000</td>\n",
       "    </tr>\n",
       "  </tbody>\n",
       "</table>\n",
       "</div>"
      ],
      "text/plain": [
       "    Age  Salary\n",
       "p1   26   51000\n",
       "p2   32   62000\n",
       "p3   38   73000\n",
       "p4   44   84000"
      ]
     },
     "execution_count": 50,
     "metadata": {},
     "output_type": "execute_result"
    }
   ],
   "source": [
    "# Operations between DataFrames\n",
    "df2 = pd.DataFrame({\n",
    "    'Age': [1, 2, 3, 4],\n",
    "    'Salary': [1000, 2000, 3000, 4000]\n",
    "}, index=['p1', 'p2', 'p3', 'p4'])\n",
    "\n",
    "# Addition between DataFrames\n",
    "df_numeric + df2"
   ]
  },
  {
   "cell_type": "markdown",
   "metadata": {},
   "source": [
    "## Example: Using apply() on DataFrame"
   ]
  },
  {
   "cell_type": "code",
   "execution_count": 51,
   "metadata": {},
   "outputs": [
    {
     "data": {
      "text/plain": [
       "Age          40\n",
       "Salary    80000\n",
       "dtype: int64"
      ]
     },
     "execution_count": 51,
     "metadata": {},
     "output_type": "execute_result"
    }
   ],
   "source": [
    "# Apply to columns (axis=0)\n",
    "df_numeric.apply(lambda col: col.max())"
   ]
  },
  {
   "cell_type": "code",
   "execution_count": 52,
   "metadata": {},
   "outputs": [
    {
     "data": {
      "text/plain": [
       "p1      Alice is junior with $50,000\n",
       "p2        Bob is junior with $60,000\n",
       "p3    Charlie is senior with $70,000\n",
       "p4      David is senior with $80,000\n",
       "dtype: object"
      ]
     },
     "execution_count": 52,
     "metadata": {},
     "output_type": "execute_result"
    }
   ],
   "source": [
    "# Apply to rows (axis=1)\n",
    "def process_row(row):\n",
    "    if row['Age'] >= 35:\n",
    "        return f\"{row['Name']} is senior with ${row['Salary']:,}\"\n",
    "    else:\n",
    "        return f\"{row['Name']} is junior with ${row['Salary']:,}\"\n",
    "\n",
    "df.apply(process_row, axis=1)"
   ]
  },
  {
   "cell_type": "markdown",
   "metadata": {},
   "source": [
    "## Example: Series Operations"
   ]
  },
  {
   "cell_type": "code",
   "execution_count": 53,
   "metadata": {},
   "outputs": [
    {
     "name": "stdout",
     "output_type": "stream",
     "text": [
      "Original DataFrame:\n",
      "    Age  Salary\n",
      "p1   25   50000\n",
      "p2   30   60000\n",
      "p3   35   70000\n",
      "p4   40   80000\n",
      "\n",
      "Multiplier Series:\n",
      "p1    2\n",
      "p2    3\n",
      "p3    1\n",
      "p4    2\n",
      "dtype: int64\n",
      "\n",
      "DataFrame divided by Series (row-wise):\n",
      "     Age   Salary\n",
      "p1  12.5  25000.0\n",
      "p2  10.0  20000.0\n",
      "p3  35.0  70000.0\n",
      "p4  20.0  40000.0\n"
     ]
    }
   ],
   "source": [
    "# DataFrame and Series operations\n",
    "# Create a Series with the same index as DataFrame\n",
    "multiplier = pd.Series([2, 3, 1, 2], index=['p1', 'p2', 'p3', 'p4'])\n",
    "print(\"Original DataFrame:\")\n",
    "print(df_numeric)\n",
    "\n",
    "print(\"\\nMultiplier Series:\")\n",
    "print(multiplier)\n",
    "\n",
    "print(\"\\nDataFrame divided by Series (row-wise):\")\n",
    "print(df_numeric.divide(multiplier, axis=0))"
   ]
  },
  {
   "cell_type": "code",
   "execution_count": 54,
   "metadata": {},
   "outputs": [
    {
     "name": "stdout",
     "output_type": "stream",
     "text": [
      "Original DataFrame:\n",
      "    Age  Salary\n",
      "p1   25   50000\n",
      "p2   30   60000\n",
      "p3   35   70000\n",
      "p4   40   80000\n",
      "\n",
      "Column adjuster Series:\n",
      "Age         10\n",
      "Salary    1000\n",
      "dtype: int64\n",
      "\n",
      "Add Series to DataFrame columns:\n",
      "    Age  Salary\n",
      "p1   35   51000\n",
      "p2   40   61000\n",
      "p3   45   71000\n",
      "p4   50   81000\n"
     ]
    }
   ],
   "source": [
    "# DataFrame and Series operations\n",
    "# Create a Series with the same index as DataFrame\n",
    "print(\"Original DataFrame:\")\n",
    "print(df_numeric)\n",
    "\n",
    "# Column-wise operation using Series with column labels\n",
    "col_adjuster = pd.Series([10, 1000], index=['Age', 'Salary'])\n",
    "print(\"\\nColumn adjuster Series:\")\n",
    "print(col_adjuster)\n",
    "\n",
    "print(\"\\nAdd Series to DataFrame columns:\")\n",
    "print(df_numeric.add(col_adjuster, axis=1))"
   ]
  },
  {
   "cell_type": "markdown",
   "metadata": {},
   "source": [
    "## Example: Transform Function"
   ]
  },
  {
   "cell_type": "code",
   "execution_count": 55,
   "metadata": {},
   "outputs": [
    {
     "name": "stdout",
     "output_type": "stream",
     "text": [
      "Original DataFrame:\n",
      "       Name  Age  Salary\n",
      "p1    Alice   25   50000\n",
      "p2      Bob   30   60000\n",
      "p3  Charlie   35   70000\n",
      "p4    David   40   80000\n",
      "\n",
      "After z-score standardization (numeric columns only):\n",
      "         Age    Salary\n",
      "p1 -1.161895 -1.161895\n",
      "p2 -0.387298 -0.387298\n",
      "p3  0.387298  0.387298\n",
      "p4  1.161895  1.161895\n"
     ]
    }
   ],
   "source": [
    "# Basic transform\n",
    "# Standardize numeric columns (z-score normalization)\n",
    "print(\"Original DataFrame:\")\n",
    "print(df)\n",
    "print(\"\\nAfter z-score standardization (numeric columns only):\")\n",
    "print(df_numeric.transform(lambda _df: (_df - _df.mean()) / _df.std()))"
   ]
  },
  {
   "cell_type": "markdown",
   "metadata": {},
   "source": [
    "## Example: DataFrame.map() Function"
   ]
  },
  {
   "cell_type": "code",
   "execution_count": 56,
   "metadata": {},
   "outputs": [
    {
     "name": "stdout",
     "output_type": "stream",
     "text": [
      "Original DataFrame:\n",
      "   A  B\n",
      "0  1  5\n",
      "1  2  6\n",
      "2  3  7\n",
      "3  4  8\n",
      "\n",
      "After applying map function:\n",
      "    A   B\n",
      "0   1  25\n",
      "1   2  36\n",
      "2   3  49\n",
      "3  16  64\n"
     ]
    }
   ],
   "source": [
    "# Using map on DataFrame (applies elementwise)\n",
    "\n",
    "# Create a sample numeric DataFrame\n",
    "numeric_df = pd.DataFrame({\n",
    "    'A': [1, 2, 3, 4],\n",
    "    'B': [5, 6, 7, 8]\n",
    "})\n",
    "\n",
    "# Apply elementwise function\n",
    "result = numeric_df.map(lambda x: x**2 if x > 3 else x)\n",
    "print(\"Original DataFrame:\")\n",
    "print(numeric_df)\n",
    "print(\"\\nAfter applying map function:\")\n",
    "print(result)"
   ]
  },
  {
   "cell_type": "markdown",
   "metadata": {},
   "source": [
    "## Example: Built-in Statistical Functions"
   ]
  },
  {
   "cell_type": "code",
   "execution_count": 57,
   "metadata": {},
   "outputs": [
    {
     "data": {
      "text/html": [
       "<div>\n",
       "<style scoped>\n",
       "    .dataframe tbody tr th:only-of-type {\n",
       "        vertical-align: middle;\n",
       "    }\n",
       "\n",
       "    .dataframe tbody tr th {\n",
       "        vertical-align: top;\n",
       "    }\n",
       "\n",
       "    .dataframe thead th {\n",
       "        text-align: right;\n",
       "    }\n",
       "</style>\n",
       "<table border=\"1\" class=\"dataframe\">\n",
       "  <thead>\n",
       "    <tr style=\"text-align: right;\">\n",
       "      <th></th>\n",
       "      <th>Age</th>\n",
       "      <th>Salary</th>\n",
       "    </tr>\n",
       "  </thead>\n",
       "  <tbody>\n",
       "    <tr>\n",
       "      <th>p1</th>\n",
       "      <td>25</td>\n",
       "      <td>50000</td>\n",
       "    </tr>\n",
       "    <tr>\n",
       "      <th>p2</th>\n",
       "      <td>30</td>\n",
       "      <td>60000</td>\n",
       "    </tr>\n",
       "    <tr>\n",
       "      <th>p3</th>\n",
       "      <td>35</td>\n",
       "      <td>70000</td>\n",
       "    </tr>\n",
       "    <tr>\n",
       "      <th>p4</th>\n",
       "      <td>40</td>\n",
       "      <td>80000</td>\n",
       "    </tr>\n",
       "  </tbody>\n",
       "</table>\n",
       "</div>"
      ],
      "text/plain": [
       "    Age  Salary\n",
       "p1   25   50000\n",
       "p2   30   60000\n",
       "p3   35   70000\n",
       "p4   40   80000"
      ]
     },
     "execution_count": 57,
     "metadata": {},
     "output_type": "execute_result"
    }
   ],
   "source": [
    "df_numeric = df[['Age', 'Salary']]\n",
    "df_numeric"
   ]
  },
  {
   "cell_type": "code",
   "execution_count": 58,
   "metadata": {},
   "outputs": [
    {
     "name": "stdout",
     "output_type": "stream",
     "text": [
      "Mean values by column:\n",
      "Age          32.5\n",
      "Salary    65000.0\n",
      "dtype: float64\n",
      "\n",
      "Median values by column:\n",
      "Age          32.5\n",
      "Salary    65000.0\n",
      "dtype: float64\n",
      "\n",
      "Sum values by column:\n",
      "Age          130\n",
      "Salary    260000\n",
      "dtype: int64\n",
      "\n",
      "Min and max values:\n",
      "Min:\n",
      " Age          25\n",
      "Salary    50000\n",
      "dtype: int64\n",
      "Max:\n",
      " Age          40\n",
      "Salary    80000\n",
      "dtype: int64\n",
      "\n",
      "Mean values by row (axis=1):\n",
      "p1    25012.5\n",
      "p2    30015.0\n",
      "p3    35017.5\n",
      "p4    40020.0\n",
      "dtype: float64\n"
     ]
    }
   ],
   "source": [
    "# Demonstrate basic statistical functions\n",
    "print(\"Mean values by column:\")\n",
    "print(df_numeric.mean())\n",
    "\n",
    "print(\"\\nMedian values by column:\")\n",
    "print(df_numeric.median())\n",
    "\n",
    "print(\"\\nSum values by column:\")\n",
    "print(df_numeric.sum())\n",
    "\n",
    "print(\"\\nMin and max values:\")\n",
    "print(\"Min:\\n\", df_numeric.min())\n",
    "print(\"Max:\\n\", df_numeric.max())\n",
    "\n",
    "# Calculate statistics by row instead of column\n",
    "print(\"\\nMean values by row (axis=1):\")\n",
    "print(df_numeric.mean(axis=1))"
   ]
  },
  {
   "cell_type": "code",
   "execution_count": 59,
   "metadata": {},
   "outputs": [
    {
     "name": "stdout",
     "output_type": "stream",
     "text": [
      "Standard deviation:\n",
      "Age           6.454972\n",
      "Salary    12909.944487\n",
      "dtype: float64\n",
      "\n",
      "Variance:\n",
      "Age       4.166667e+01\n",
      "Salary    1.666667e+08\n",
      "dtype: float64\n"
     ]
    }
   ],
   "source": [
    "# Standard deviation and variance\n",
    "print(\"Standard deviation:\")\n",
    "print(df_numeric.std())\n",
    "\n",
    "print(\"\\nVariance:\")\n",
    "print(df_numeric.var())"
   ]
  },
  {
   "cell_type": "code",
   "execution_count": 60,
   "metadata": {},
   "outputs": [
    {
     "name": "stdout",
     "output_type": "stream",
     "text": [
      "25th percentile (Q1):\n",
      "Age          28.75\n",
      "Salary    57500.00\n",
      "Name: 0.25, dtype: float64\n",
      "\n",
      "50th percentile (Median):\n",
      "Age          32.5\n",
      "Salary    65000.0\n",
      "Name: 0.5, dtype: float64\n",
      "\n",
      "75th percentile (Q3):\n",
      "Age          36.25\n",
      "Salary    72500.00\n",
      "Name: 0.75, dtype: float64\n",
      "\n",
      "Multiple quantiles:\n",
      "        Age   Salary\n",
      "0.10  26.50  53000.0\n",
      "0.25  28.75  57500.0\n",
      "0.50  32.50  65000.0\n",
      "0.75  36.25  72500.0\n",
      "0.90  38.50  77000.0\n"
     ]
    }
   ],
   "source": [
    "# Quantiles and percentiles\n",
    "print(\"25th percentile (Q1):\")\n",
    "print(df_numeric.quantile(0.25))\n",
    "\n",
    "print(\"\\n50th percentile (Median):\")\n",
    "print(df_numeric.quantile(0.5))\n",
    "\n",
    "print(\"\\n75th percentile (Q3):\")\n",
    "print(df_numeric.quantile(0.75))\n",
    "\n",
    "# Multiple quantiles at once\n",
    "print(\"\\nMultiple quantiles:\")\n",
    "print(df_numeric.quantile([0.1, 0.25, 0.5, 0.75, 0.9]))"
   ]
  }
 ],
 "metadata": {
  "kernelspec": {
   "display_name": ".venv",
   "language": "python",
   "name": "python3"
  },
  "language_info": {
   "codemirror_mode": {
    "name": "ipython",
    "version": 3
   },
   "file_extension": ".py",
   "mimetype": "text/x-python",
   "name": "python",
   "nbconvert_exporter": "python",
   "pygments_lexer": "ipython3",
   "version": "3.11.11"
  }
 },
 "nbformat": 4,
 "nbformat_minor": 2
}
