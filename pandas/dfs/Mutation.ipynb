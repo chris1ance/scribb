{
 "cells": [
  {
   "cell_type": "code",
   "execution_count": null,
   "metadata": {},
   "outputs": [],
   "source": [
    "import pandas as pd\n",
    "import numpy as np\n",
    "\n",
    "pd.set_option(\"mode.copy_on_write\", True)"
   ]
  },
  {
   "cell_type": "markdown",
   "metadata": {},
   "source": [
    "# `df.assign`\n",
    "\n",
    "- Immutability: `assign()` doesn't modify the original DataFrame; it returns a new one. \n",
    "- Existing columns that are re-assigned will be overwritten.\n",
    "- Where the value is a callable, evaluated on `df`"
   ]
  },
  {
   "cell_type": "markdown",
   "metadata": {},
   "source": [
    "# `df.apply` \n",
    "\n",
    "- Apply function to each row: `df.apply(func, axis=1)`\n",
    "- Apply function to each column: `df.apply(func, axis=0)`\n",
    "- Objects passed to the function are pd.Series whose index is either the DataFrame’s index (`axis=0`) or columns (`axis=1`).\n",
    "\n",
    "## to Each Row\n",
    "\n",
    "```python\n",
    "\n",
    "df = pd.DataFrame({\n",
    "     'A': [1, 2, 3],\n",
    "     'B': [4, 5, 6],\n",
    "     'C': [7, 8, 9]\n",
    "})\n",
    "\n",
    "# Apply a function to each row\n",
    "def row_sum(row):\n",
    "    return row.sum()\n",
    "\n",
    "df['Row_Sum'] = df.apply(row_sum, axis=1)\n",
    "\n",
    "# Or using lambda\n",
    "df['Row_Mean'] = df.apply(lambda row: row.mean(), axis=1)\n",
    "\n",
    "# Multiple operations on each row\n",
    "def complex_calc(row):\n",
    "    return row['A'] * row['B'] + row['C']\n",
    "\n",
    "df['Result'] = df.apply(complex_calc, axis=1)\n",
    "\n",
    "```"
   ]
  }
 ],
 "metadata": {
  "kernelspec": {
   "display_name": ".venv",
   "language": "python",
   "name": "python3"
  },
  "language_info": {
   "name": "python",
   "version": "3.11.9"
  }
 },
 "nbformat": 4,
 "nbformat_minor": 2
}
