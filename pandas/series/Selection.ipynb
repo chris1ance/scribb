{
 "cells": [
  {
   "cell_type": "code",
   "execution_count": null,
   "metadata": {},
   "outputs": [],
   "source": [
    "import pandas as pd\n",
    "pd.set_option(\"mode.copy_on_write\", True)"
   ]
  },
  {
   "cell_type": "markdown",
   "metadata": {},
   "source": [
    "# Getting One Element As a Scalar\n",
    "\n",
    "Notes: \n",
    "- The result is always a scalar when selecting one element (unless using slices/lists)\n",
    "\n",
    "```python\n",
    "\n",
    "# 1. Using integer-based indexing with `iloc`:\n",
    "s.iloc[0]  # Gets first element\n",
    "\n",
    "# 2. Using label-based indexing with `loc`:\n",
    "s.loc['label']  # Gets element by index label\n",
    "\n",
    "# 3. Using direct index:\n",
    "s[0]        # Gets element at position 0\n",
    "s['label']  # Gets element by label\n",
    "\n",
    "# 4. Using `at` for label-based access (fastest):\n",
    "s.at['label']  # Gets element by label\n",
    "\n",
    "# 5. Using `iat` for integer-based access (fastest):\n",
    "s.iat[0]  # Gets first element\n",
    "\n",
    "```"
   ]
  },
  {
   "cell_type": "markdown",
   "metadata": {},
   "source": [
    "# Getting Multiple Elements As a Series\n",
    "\n",
    "Notes:\n",
    "- The `name` attribute is preserved in Series-returning methods\n",
    "\n",
    "```python\n",
    "\n",
    "# 1. Using `iloc` for integer-based indexing:\n",
    "s.iloc[[0, 1]]    # Gets elements at positions 0 and 1\n",
    "s.iloc[0:2]       # Gets first two elements using slice\n",
    "\n",
    "# 2. Using `loc` for label-based indexing:\n",
    "s.loc[['label1', 'label2']]  # Gets elements by their labels\n",
    "s.loc['label1':'label2']     # Gets range of elements (slice is inclusive of both ends)\n",
    "\n",
    "# 3. Using boolean indexing:\n",
    "s[s > 0]       # Gets all elements greater than 0\n",
    "s[s.notna()]   # Gets all non-NA elements\n",
    "s[s.between(0, 10)]  # Gets elements between 0 and 10\n",
    "\n",
    "```"
   ]
  },
  {
   "cell_type": "code",
   "execution_count": null,
   "metadata": {},
   "outputs": [],
   "source": []
  }
 ],
 "metadata": {
  "kernelspec": {
   "display_name": ".venv",
   "language": "python",
   "name": "python3"
  },
  "language_info": {
   "name": "python",
   "version": "3.11.9"
  }
 },
 "nbformat": 4,
 "nbformat_minor": 2
}
