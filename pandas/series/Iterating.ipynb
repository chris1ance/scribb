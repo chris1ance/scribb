{
 "cells": [
  {
   "cell_type": "code",
   "execution_count": 4,
   "metadata": {},
   "outputs": [],
   "source": [
    "import pandas as pd\n",
    "import numpy as np\n",
    "\n",
    "pd.set_option(\"mode.copy_on_write\", True)"
   ]
  },
  {
   "cell_type": "code",
   "execution_count": 5,
   "metadata": {},
   "outputs": [],
   "source": [
    "fruits = pd.Series({\n",
    "    'apple': 5,\n",
    "    'banana': 3,\n",
    "    'cherry': 7,\n",
    "    'date': 2\n",
    "})"
   ]
  },
  {
   "cell_type": "code",
   "execution_count": 6,
   "metadata": {},
   "outputs": [
    {
     "name": "stdout",
     "output_type": "stream",
     "text": [
      "Iterating over values:\n",
      "Count: 5\n",
      "Count: 3\n",
      "Count: 7\n",
      "Count: 2\n"
     ]
    }
   ],
   "source": [
    "# The simplest way to iterate over Series values\n",
    "print(\"Iterating over values:\")\n",
    "for value in fruits:\n",
    "    print(f\"Count: {value}\")"
   ]
  },
  {
   "cell_type": "code",
   "execution_count": 7,
   "metadata": {},
   "outputs": [
    {
     "name": "stdout",
     "output_type": "stream",
     "text": [
      "Count: 5\n",
      "Count: 3\n",
      "Count: 7\n",
      "Count: 2\n"
     ]
    }
   ],
   "source": [
    "# This is equivalent to using .values or .array\n",
    "for value in fruits.values:\n",
    "    print(f\"Count: {value}\")"
   ]
  },
  {
   "cell_type": "code",
   "execution_count": 8,
   "metadata": {},
   "outputs": [
    {
     "name": "stdout",
     "output_type": "stream",
     "text": [
      "We have 5 apples\n",
      "We have 3 bananas\n",
      "We have 7 cherrys\n",
      "We have 2 dates\n"
     ]
    }
   ],
   "source": [
    "# .items() gives you both index and value in each iteration\n",
    "for fruit, count in fruits.items():\n",
    "    print(f\"We have {count} {fruit}s\")"
   ]
  },
  {
   "cell_type": "code",
   "execution_count": 10,
   "metadata": {},
   "outputs": [
    {
     "name": "stdout",
     "output_type": "stream",
     "text": [
      "Item 1: 5 apples\n",
      "Item 2: 3 bananas\n",
      "Item 3: 7 cherrys\n",
      "Item 4: 2 dates\n"
     ]
    }
   ],
   "source": [
    "# Using enumerate() when you need a counter:\n",
    "for i, (fruit, count) in enumerate(fruits.items()):\n",
    "    print(f\"Item {i+1}: {count} {fruit}s\")"
   ]
  },
  {
   "cell_type": "code",
   "execution_count": 11,
   "metadata": {},
   "outputs": [
    {
     "name": "stdout",
     "output_type": "stream",
     "text": [
      "apple total value: $2.50\n",
      "banana total value: $0.90\n",
      "cherry total value: $4.90\n",
      "date total value: $2.00\n"
     ]
    }
   ],
   "source": [
    "# Using zip() to iterate over multiple Series:\n",
    "prices = pd.Series({\n",
    "    'apple': 0.5,\n",
    "    'banana': 0.3,\n",
    "    'cherry': 0.7,\n",
    "    'date': 1.0\n",
    "})\n",
    "\n",
    "# Calculate total value for each fruit\n",
    "for (fruit1, count), (fruit2, price) in zip(fruits.items(), prices.items()):\n",
    "    total = count * price\n",
    "    print(f\"{fruit1} total value: ${total:.2f}\")"
   ]
  }
 ],
 "metadata": {
  "kernelspec": {
   "display_name": ".venv",
   "language": "python",
   "name": "python3"
  },
  "language_info": {
   "codemirror_mode": {
    "name": "ipython",
    "version": 3
   },
   "file_extension": ".py",
   "mimetype": "text/x-python",
   "name": "python",
   "nbconvert_exporter": "python",
   "pygments_lexer": "ipython3",
   "version": "3.11.9"
  }
 },
 "nbformat": 4,
 "nbformat_minor": 2
}
