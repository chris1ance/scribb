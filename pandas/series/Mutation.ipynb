{
 "cells": [
  {
   "cell_type": "code",
   "execution_count": null,
   "metadata": {},
   "outputs": [],
   "source": [
    "import pandas as pd\n",
    "import numpy as np\n",
    "\n",
    "pd.set_option(\"mode.copy_on_write\", True)"
   ]
  },
  {
   "cell_type": "markdown",
   "metadata": {},
   "source": [
    "# Apply a function to Each Series Element\n",
    "\n",
    "- Use `map()` for simple operations (optimized for simple element-wise operations, does not support `**kwargs`)\n",
    "- Use `apply()` for more complex operations (supports `**kwargs`)\n",
    "\n",
    "## `map()`\n",
    "\n",
    "```python\n",
    "\n",
    "# Create a sample Series\n",
    "numbers = pd.Series([1, 2, 3, 4, 5])\n",
    "squared = numbers.map(lambda x: x**2)\n",
    "# Result: [1, 4, 9, 16, 25]\n",
    "\n",
    "# Method 2: Using apply() with a more complex function\n",
    "def complex_operation(x):\n",
    "    if x % 2 == 0:\n",
    "        return x**2\n",
    "    else:\n",
    "        return x**3\n",
    "        \n",
    "result = numbers.apply(complex_operation)\n",
    "# Result: [1, 4, 27, 16, 125]\n",
    "\n",
    "``` \n",
    "\n",
    "## `apply()`\n",
    "\n",
    "```python\n",
    "\n",
    "# Create a sample Series\n",
    "numbers = pd.Series([1, 2, 3, 4, 5])\n",
    "\n",
    "def complex_operation(x):\n",
    "    if x % 2 == 0:\n",
    "        return x**2\n",
    "    else:\n",
    "        return x**3\n",
    "        \n",
    "result = numbers.apply(complex_operation)\n",
    "# Result: [1, 4, 27, 16, 125]\n",
    "\n",
    "``` "
   ]
  }
 ],
 "metadata": {
  "kernelspec": {
   "display_name": ".venv",
   "language": "python",
   "name": "python3"
  },
  "language_info": {
   "name": "python",
   "version": "3.11.9"
  }
 },
 "nbformat": 4,
 "nbformat_minor": 2
}
