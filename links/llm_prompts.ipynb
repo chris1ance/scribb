{
 "cells": [
  {
   "cell_type": "markdown",
   "metadata": {},
   "source": [
    "# For Coding\n",
    "\n",
    "- https://internetworking.dev/my-ultimate-python-prompt/"
   ]
  }
 ],
 "metadata": {
  "language_info": {
   "name": "python"
  }
 },
 "nbformat": 4,
 "nbformat_minor": 2
}
