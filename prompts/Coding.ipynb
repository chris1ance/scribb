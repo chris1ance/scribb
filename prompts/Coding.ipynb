{
 "cells": [
  {
   "cell_type": "markdown",
   "metadata": {},
   "source": [
    "# Docstrings\n",
    "\n",
    "```python\n",
    "\"\"\"\n",
    "docstring guidelines:\n",
    "1. Functions and Methods\n",
    "- One-line summary: A brief description of the function’s purpose.\n",
    "- Extended description (optional): Additional details about the function's behavior.\n",
    "- Args: A section detailing the parameters the function accepts. Include type hints for each parameter.\n",
    "- Returns: A section describing what the function returns. Include type hints.\n",
    "- Raises (optional): A section listing any exceptions the function might raise.\n",
    "- Examples (optional): Example usage of the function.\n",
    "\n",
    "2. Classes\n",
    "- One-line Summary: A brief statement about the class's purpose.\n",
    "- Extended Description (optional): Additional details about how the class is used or its behavior.\n",
    "- Attributes (optional): A list of instance variables (or class variables) that are significant. Include type hints for each.\n",
    "- Methods (optional): You can also include a brief summary of important methods if desired.\n",
    "\"\"\"\n",
    "```"
   ]
  }
 ],
 "metadata": {
  "kernelspec": {
   "display_name": ".venv",
   "language": "python",
   "name": "python3"
  },
  "language_info": {
   "name": "python",
   "version": "3.11.11"
  }
 },
 "nbformat": 4,
 "nbformat_minor": 2
}
