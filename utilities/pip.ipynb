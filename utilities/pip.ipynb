{
 "cells": [
  {
   "cell_type": "markdown",
   "metadata": {},
   "source": [
    "# pip\n",
    "\n",
    "## Update a package\n",
    "\n",
    "```bash\n",
    "pip install --upgrade --no-cache-dir <package_name>\n",
    "```\n",
    "\n",
    "**Explanation of the Flags:**\n",
    "\n",
    "`--upgrade`: This flag tells pip to upgrade the package to its latest version.\n",
    "\n",
    "`--no-cache-dir`: Ensure that pip downloads the package fresh from the repository and does not use a cached version."
   ]
  }
 ],
 "metadata": {
  "language_info": {
   "name": "python"
  }
 },
 "nbformat": 4,
 "nbformat_minor": 2
}
