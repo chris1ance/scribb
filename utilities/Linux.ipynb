{
 "cells": [
  {
   "cell_type": "markdown",
   "metadata": {},
   "source": [
    "# Linux"
   ]
  },
  {
   "cell_type": "markdown",
   "metadata": {},
   "source": [
    "# Update system packages\n",
    "\n",
    "Command: `sudo apt update && sudo apt upgrade -y`\n",
    "\n",
    "Explanation: \n",
    "- The `&&` operator connects two commands, telling Linux to run the second command only if the first one succeeds. This is a safety feature if the update check fails, we don't want to proceed with upgrading packages.\n",
    "- `sudo` is needed because both operations require administrative privileges\n",
    "- `apt` is Ubuntu's package management tool (Advanced Package Tool)\n",
    "- `sudo apt update`: This command refreshes your system's package index. It doesn't install anything, but it checks what new versions of software are available. The package index is like a directory that tells your system what software is available and what versions exist. When you run this command, your system connects to Ubuntu's software repositories and downloads the latest information about available packages.\n",
    "- `sudo apt upgrade -y`: After knowing what updates are available, this command actually performs the upgrades. It downloads and installs newer versions of the software you already have installed. The `-y` flag automatically answers \"yes\" to the prompt that would normally ask if you want to proceed with the installation. Without `-y`, the system would pause and ask for your confirmation before making changes.\n",
    "- This command only upgrades existing packages; it won't install new ones"
   ]
  }
 ],
 "metadata": {
  "language_info": {
   "name": "python"
  }
 },
 "nbformat": 4,
 "nbformat_minor": 2
}
