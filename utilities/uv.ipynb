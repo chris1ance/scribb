{
 "cells": [
  {
   "cell_type": "markdown",
   "metadata": {},
   "source": [
    "# uv"
   ]
  },
  {
   "cell_type": "markdown",
   "metadata": {},
   "source": [
    "## Builds"
   ]
  },
  {
   "cell_type": "markdown",
   "metadata": {},
   "source": [
    "- Projects may declare and configure a build system in the `[build-system]` table of the `pyproject.toml`. uv uses the presence of a build system to determine if a project contains a package that should be installed in the project virtual environment. \n",
    "- If a build system is not defined, uv will not attempt to build or install the project itself, just its dependencies. If a build system is defined, uv will build and install the project into the project environment.\n",
    "- By default, the project will be installed in editable mode\n",
    "- Build systems are used to power the following features:\n",
    "\n",
    "    - Including or excluding files from distributions\n",
    "    - Editable install behavior\n",
    "    - Dynamic project metadata\n",
    "    - Compilation of native code\n",
    "    - Vendoring shared libraries\n",
    "\n",
    "    To configure these features, refer to the documentation of your chosen build system.\n",
    "\n",
    "Sources:\n",
    "- https://docs.astral.sh/uv/concepts/projects/config/#configuring-projects\n"
   ]
  },
  {
   "cell_type": "markdown",
   "metadata": {},
   "source": [
    "To check which files are included in your Python package:\n",
    "\n",
    "```bash\n",
    "# Build the wheel\n",
    "uv build\n",
    "\n",
    "# Extract and inspect the .whl file\n",
    "unzip -l dist/*.whl\n",
    "```"
   ]
  },
  {
   "cell_type": "markdown",
   "metadata": {},
   "source": [
    "### hatch\n",
    "\n",
    "__Default File Inclusion Rules__\n",
    "\n",
    "- __Sdist__: https://hatch.pypa.io/latest/plugins/builder/sdist/#default-file-selection\n",
    "- __Wheel__: https://hatch.pypa.io/latest/plugins/builder/wheel/#default-file-selection\n",
    "- __Editable Installs__: By default for dev mode environment installations or editable installs, the wheel target will determine which directories should be added to Python's search path based on the selected files."
   ]
  },
  {
   "cell_type": "markdown",
   "metadata": {},
   "source": [
    "# uv Commands\n",
    "\n",
    "See: https://docs.astral.sh/uv/reference/cli/"
   ]
  },
  {
   "cell_type": "markdown",
   "metadata": {},
   "source": [
    "# Update all packages\n",
    "\n",
    "```bash\n",
    "uv lock --upgrade\n",
    "uv sync\n",
    "```\n",
    "\n",
    "Reference: https://github.com/astral-sh/uv/issues/1419"
   ]
  },
  {
   "cell_type": "markdown",
   "metadata": {},
   "source": [
    "# Init a Simple Package Project\n",
    "\n",
    "```bash\n",
    "uv init --package <name of package>\n",
    "uv venv --python <python version>\n",
    "source .venv/Scripts/activate\n",
    "uv add requests pandas openpyxl seaborn altair vegafusion vegafusion-python-embed vl-convert-python statsmodels scikit-learn scikit-learn-intelex python-dotenv\n",
    "uv add --group dev uv ruff pre-commit jupyterlab pytest\n",
    "```"
   ]
  }
 ],
 "metadata": {
  "kernelspec": {
   "display_name": ".venv",
   "language": "python",
   "name": "python3"
  },
  "language_info": {
   "name": "python",
   "version": "3.11.9"
  }
 },
 "nbformat": 4,
 "nbformat_minor": 2
}
