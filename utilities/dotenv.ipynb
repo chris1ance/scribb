{
 "cells": [
  {
   "cell_type": "markdown",
   "metadata": {},
   "source": [
    "# Installation\n",
    "\n",
    "```\n",
    "pip install python-dotenv\n",
    "```\n",
    "\n",
    "To configure the development environment, add a .env in the root directory of your project:\n",
    "\n",
    "```\n",
    ".\n",
    "├── .env\n",
    "```\n",
    "\n",
    "# Reading \n",
    "\n",
    "Suppose your `.env` file looks like this:\n",
    "\n",
    "```\n",
    "APIKEY=\"123456ABC\n",
    "```\n",
    "\n",
    "You can load it as follows:\n",
    "\n",
    "```python\n",
    "from dotenv import load_dotenv\n",
    "import os\n",
    "load_dotenv()\n",
    "APIKEY = os.getenv('APIKEY')\n",
    "```"
   ]
  }
 ],
 "metadata": {
  "language_info": {
   "name": "python"
  }
 },
 "nbformat": 4,
 "nbformat_minor": 2
}
