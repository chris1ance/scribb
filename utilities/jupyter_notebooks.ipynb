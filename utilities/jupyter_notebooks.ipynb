{
 "cells": [
  {
   "cell_type": "markdown",
   "metadata": {},
   "source": [
    "# Reload local package installed in editable mode\n",
    "\n",
    "```\n",
    "%load_ext autoreload\n",
    "%autoreload 2\n",
    "```"
   ]
  }
 ],
 "metadata": {
  "language_info": {
   "name": "python"
  }
 },
 "nbformat": 4,
 "nbformat_minor": 2
}
