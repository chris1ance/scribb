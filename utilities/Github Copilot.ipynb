{
 "cells": [
  {
   "cell_type": "markdown",
   "metadata": {},
   "source": [
    "# Pre-requisites\n",
    "\n",
    "- Install the \"GitHub Copilot\" extension in VS Code\n",
    "- Install the \"GitHub Copilot Chat\" extension in VS Code"
   ]
  },
  {
   "cell_type": "markdown",
   "metadata": {},
   "source": [
    "# Automatic suggestions\n",
    "\n",
    "- As you type, Copilot will display \"ghost text\" with suggestions (e.g., methods like add and subtract).\n",
    "- Accept a suggestion by pressing the Tab key.\n",
    "- For additional suggestions hover over the ghost text or use keyboard shortcuts (Alt + [ or Alt + ]) to cycle through alternatives."
   ]
  },
  {
   "cell_type": "markdown",
   "metadata": {},
   "source": [
    "# Inline Chat\n",
    "\n",
    "- Use Inline Chat to submit prompts and get code suggestions directly from within the editor, without leaving the context of your work.\n",
    "- To bring up Editor Inline Chat, in any file, use the `Ctrl+I` keyboard shortcut. \n",
    "    - Alternatively, open a file and then select Editor Inline Chat from the Copilot menu in the title bar.\n",
    "- Copilot shows the code suggestions in-place with your code in the editor. You can accept (`Ctrl+Enter` or click the `Accept` option) or discard (`Escape`).\n",
    "- If you have a block of code selected in the editor, Copilot scopes your question to that selection.\n",
    "    - You can additionally attach context to your Inline Chat prompt to include relevant files, code symbols, or other context. "
   ]
  },
  {
   "cell_type": "markdown",
   "metadata": {},
   "source": [
    "# Copilot Chat (Chat View)\n",
    "\n",
    "Have an AI assistant on the side to help with your questions and to provide code suggestions (shortcut: `Ctrl+Alt+I`)\n"
   ]
  },
  {
   "cell_type": "markdown",
   "metadata": {},
   "source": [
    "# Quick Chat\n",
    "\n",
    "Ask a quick question and get back into what you're doing (shortcut: `Ctrl+Shift+Alt+L`)\n"
   ]
  },
  {
   "cell_type": "markdown",
   "metadata": {},
   "source": [
    "# Chat Context\n",
    "\n",
    "Copilot tries to determine the intent and scope of your question based on your natural language chat prompt. In the chat response, select the `Used n resources` dropdown to see which resources Copilot used to generate the response.\n",
    "\n",
    "To help Copilot give you the best and most relevant answers, add context to your chat prompt. There are several ways to add context to your chat prompt:\n",
    "- VS Code automatically adds the currently active editor as context. If you selected a code block in the editor, only that selection is added as context. You can disable adding the active editor by selecting the disable (eye) icon next to the context item.\n",
    "- Use the Attach icon (or `Ctrl+/`) and then select a type of context from the Quick Pick.\n",
    "- Drag and drop editor tabs, or files or folders from the Explorer view, Search view, or editor breadcrumb onto the Chat view.\n",
    "- Use chat variables by typing the `#` character and you'll see a list of available chat variables. For example, you can use `#selection` to add the current editor selection to your chat prompt, `#file` to add a specific file from the workspace, or `#sym` to add a symbol from the workspace."
   ]
  },
  {
   "cell_type": "markdown",
   "metadata": {},
   "source": [
    "# Copilot Edits\n",
    "\n",
    "1. Overview:\n",
    "    - Copilot Edits lets you iterate quickly on code changes across multiple files using natural language prompts.\n",
    "\n",
    "2. Starting a Copilot Edits Session:\n",
    "    - Access the Copilot Edits view via:\n",
    "        - Keyboard shortcut: Ctrl+Shift+I (Windows/Linux)\n",
    "        - The Copilot menu in the VS Code title bar (select \"Open Copilot Edits\")\n",
    "        - The Command Palette using commands like \"View: Toggle Copilot Edits\"\n",
    "    - An edit session may consist of multiple iterative requests to refine your code changes.\n",
    "\n",
    "3. Using Edit Mode:\n",
    "    - Steps to use Edit Mode:\n",
    "        1. Open the Copilot Edits view using the keyboard shortcut or menu.\n",
    "        2. Select \"Edit\" from the mode dropdown.\n",
    "        3. Add files to the working set by clicking \"Add Files\" or using the Attach icon.\n",
    "        4. Enter a clear and specific natural language prompt.\n",
    "            - Optionally, include `#codebase` in your prompt to let Copilot automatically locate relevant files.\n",
    "        5. Copilot Edits will stream code edits directly into the editor; files that are modified appear in bold.\n",
    "        6. Review the suggested changes and use the in-editor controls to Accept or Discard each edit.\n",
    "        7. Iterate with follow-up prompts if additional modifications are needed.\n",
    "\n",
    "4. Managing the Working Set:\n",
    "    - The working set is the collection of files that Copilot Edits can modify.\n",
    "    - You can add files by:\n",
    "        - Clicking \"Add Files\" or using the Attach icon (Ctrl+/ on Windows/Linux)\n",
    "        - Dragging and dropping editor tabs, files, or folders from the Explorer view\n",
    "        - Right-clicking a file in the Explorer and selecting \"Add File to Copilot Edits\"\n",
    "    - The working set is limited to 10 files. Files added to the working set will be highlighted when edits are applied.\n",
    "\n",
    "5. Accepting, Discarding, and Undoing Edits:\n",
    "    - Copilot Edits provides an in-editor review workflow:\n",
    "        - Use the Accept or Discard controls (either individually or via the working set’s \"Accept All\" or \"Discard All\" buttons)\n",
    "        - Editor overlay controls allow you to navigate between suggested changes.\n",
    "        - The \"Undo Last Edit\" control lets you revert recent changes, and you can redo them if needed.\n",
    "        - Pending edits are saved across VS Code sessions so you can review them later.\n",
    "\n",
    "6. Transferring Chat Requests to Copilot Edits:\n",
    "    - From the Copilot Chat view, you can transfer a chat request to Copilot Edits by clicking the \"Edit with Copilot\" button.\n",
    "    - This moves the conversation to the Edits view, where the suggested code changes can be applied across multiple files.\n",
    "\n",
    "Sources:\n",
    "- https://code.visualstudio.com/docs/copilot/copilot-edits"
   ]
  },
  {
   "cell_type": "markdown",
   "metadata": {},
   "source": [
    "# GitHub Copilot Chat cheat sheet\n",
    "\n",
    "## Slash commands\n",
    "\n",
    "Use slash commands to avoid writing complex prompts for common scenarios. To use a slash command, type `/` in the chat prompt box, followed by the command name.\n",
    "\n",
    "Available slash commands may vary, depending on your environment and the context of your chat. To view a list of currently available slash commands, type `/` in the chat prompt box of your current environment. Below is a list of some of the most common slash commands for using Copilot Chat.\n",
    "\n",
    "| Command           | Description                                          |\n",
    "|-------------------|------------------------------------------------------|\n",
    "| /help             | Quick reference and basics of using GitHub Copilot.  |\n",
    "| /tests            | Generate unit tests for the selected code.           |\n",
    "| /fix              | Propose a fix for problems in the selected code.     |\n",
    "| /explain          | Explain how the code in your active editor works.    |\n",
    "| /fixTestFailure   | Find and fix a failing test.                         |\n",
    "| /new              | Create a new project.                                |\n",
    "| /clear            | Start a new chat session.                            |"
   ]
  },
  {
   "cell_type": "markdown",
   "metadata": {},
   "source": [
    "## Chat variables\n",
    "\n",
    "Use chat variables to include specific context in your prompt. To use a chat variable, type `#` in the chat prompt box, followed by a chat variable.\n",
    "\n",
    "| Variable   | Description                                          |\n",
    "|------------|------------------------------------------------------|\n",
    "| #file      | Includes the current file's content in the prompt.   |\n",
    "| #selection | Includes the currently selected text in the prompt.  |\n",
    "| #line      | Includes the current line of code in the prompt.     |\n",
    "| #project   | Includes the project context in the prompt.          |\n",
    "| #path      | Includes the file path in the prompt.                |\n",
    "| #function  | Includes the current function or method in the prompt.|\n",
    "| #class     | Includes the current class in the prompt.            |\n",
    "| #comment   | Includes the current comment in the prompt.          |\n",
    "| #block     | Includes the current block of code in the prompt.    |\n",
    "| #sym       | Includes the current symbol in the prompt.           |\n",
    "| #web       | Invoke a web search you with the #web variable in your question. |"
   ]
  },
  {
   "cell_type": "markdown",
   "metadata": {},
   "source": [
    "## Chat participants\n",
    "\n",
    "Chat participants are like domain experts who have a specialty that they can help you with. You can specify a chat participant by typing `@` in the chat prompt box, followed by a chat participant name. \n",
    "\n",
    "To see all available chat participants, type `@` in the chat prompt box.\n",
    "\n",
    "| Participant | Description                                                                                                      |\n",
    "|-------------|------------------------------------------------------------------------------------------------------------------|\n",
    "| @workspace  | Has context about the code in your workspace.                                                                    |\n",
    "| @vscode     | Has context about VS Code commands and features. Use for help with VS Code.                                      |\n",
    "| @terminal   | Has context about the VS Code terminal shell and its contents. Use for help creating or debugging terminal commands. |\n",
    "| @github     | Allows you to use GitHub-specific Copilot skills.                                                                |\n",
    "\n",
    "### `@github`\n",
    "\n",
    "Copilot's GitHub-specific skills expand the type of information Copilot can provide. To access these skills in Copilot Chat, include `@github` in your question.\n",
    "\n",
    "When you add `@github` to a question, Copilot dynamically selects an appropriate skill, based on the content of your question. You can also explicitly ask Copilot Chat to use a particular skill. You can do this in two ways:\n",
    "\n",
    "- Use natural language to ask Copilot Chat to use a skill. For example, `@github Search the web to find the latest GPT4 model from OpenAI`.\n",
    "- To specifically invoke a web search you can include the `#web` variable in your question. For example, `@github #web What is the latest LTS of Node.js?`\n",
    "\n",
    "You can generate a list of currently available skills by asking Copilot: `@github What skills are available?`\n",
    "\n",
    "`@github` knows about and has skills for GitHub repositories issues, PRs, and more. Can also perform web searches using the Bing API."
   ]
  },
  {
   "cell_type": "markdown",
   "metadata": {},
   "source": [
    "# Agent Mode\n",
    "\n",
    "Agent mode is currently in preview and available only in VS Code Insiders."
   ]
  }
 ],
 "metadata": {
  "kernelspec": {
   "display_name": ".venv",
   "language": "python",
   "name": "python3"
  },
  "language_info": {
   "name": "python",
   "version": "3.11.11"
  }
 },
 "nbformat": 4,
 "nbformat_minor": 2
}
