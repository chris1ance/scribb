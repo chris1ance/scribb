{
 "cells": [
  {
   "cell_type": "code",
   "execution_count": 41,
   "metadata": {},
   "outputs": [],
   "source": [
    "from pydantic import BaseModel, Field\n",
    "from typing import List, Optional, Dict, Union\n",
    "from datetime import datetime"
   ]
  },
  {
   "cell_type": "markdown",
   "metadata": {},
   "source": [
    "# pydantic\n",
    "\n",
    "Pydantic is a data validation library that uses Python type annotations. Its main purpose is to enforce type hints at runtime and provide data validation."
   ]
  },
  {
   "cell_type": "code",
   "execution_count": 42,
   "metadata": {},
   "outputs": [],
   "source": [
    "# Example\n",
    "\n",
    "class User(BaseModel):\n",
    "    name: str\n",
    "    age: int\n",
    "    email: str\n",
    "    interests: List[str] = []  # Default value\n",
    "    bio: Optional[str] = None  # Optional field\n",
    "    metrics: Dict[str, float]\n",
    "    zipcode: Union[str, int]   # Can be any of these types\n",
    "\n",
    "\n",
    "# Creating an instance\n",
    "user = User(\n",
    "    name=\"Alice\",\n",
    "    age=30,\n",
    "    email=\"alice@example.com\",\n",
    "    interests=[\"python\", \"data science\"],\n",
    "    metrics = {\"age\": 30},\n",
    "    zipcode=\"12345\"\n",
    ")"
   ]
  },
  {
   "cell_type": "markdown",
   "metadata": {},
   "source": [
    "## `Field()`\n",
    "\n",
    "The `Field()` function is used to provide additional validation and metadata for model fields."
   ]
  },
  {
   "cell_type": "markdown",
   "metadata": {},
   "source": [
    "### Making a `Field()` Required\n",
    "\n",
    "Here are all the ways to make a field required in Pydantic:"
   ]
  },
  {
   "cell_type": "code",
   "execution_count": 43,
   "metadata": {},
   "outputs": [],
   "source": [
    "class Example(BaseModel):\n",
    "    # Required - explicit with ...\n",
    "    name: str = Field(...)\n",
    "\n",
    "    # Required - no default specified\n",
    "    email: str = Field()\n",
    "\n",
    "    # Required - just type annotation\n",
    "    age: int\n",
    "\n",
    "    # All these fields are required and must be provided\n",
    "    timestamp: datetime\n",
    "    user_id: str = Field()\n",
    "    status: str = Field(...)"
   ]
  },
  {
   "cell_type": "markdown",
   "metadata": {},
   "source": [
    "### Making a `Field()` Optional \n",
    "\n",
    "* `default=` means optional with a default value. If not provided, it uses the default.\n",
    "* `default_factory=` is similar to `default=` but calls a function to generate the default value\n",
    "* To make a field truly OPTIONAL (can be `None`), use `Optional[]` from typing:\n",
    "* Use `Optional[]` with `Field(default=None)` to add additional validation or metadata even though the field can be `None`.\n",
    "\n",
    "If you don't specify a default value (either through `default=`, `default_factory=`, or `Optional[]`), then the field is required."
   ]
  },
  {
   "cell_type": "code",
   "execution_count": 44,
   "metadata": {},
   "outputs": [],
   "source": [
    "class User(BaseModel):\n",
    "    # Optional with default value\n",
    "    name: str = Field(default=\"Anonymous\")\n",
    "\n",
    "    # Default factory (calls function to generate default)\n",
    "    # i.e. Optional with dynamic default value\n",
    "    created_at: datetime = Field(default_factory=datetime.now)\n",
    "\n",
    "    # Optional that can be None, simple version\n",
    "    bio: Optional[str] = None\n",
    "\n",
    "    # Optional that can be None, with additional validation\n",
    "    age: Optional[int] = Field(\n",
    "        default=None,\n",
    "        ge=0,   # If age is provided, must be >= 0\n",
    "        le=120, # If age is provided, must be < 120\n",
    "        description=\"User's age (optional)\"\n",
    "    )\n",
    "\n",
    "# All these are valid:\n",
    "user1 = User()  # Uses all defaults\n",
    "user2 = User(name=\"Alice\", bio=\"Hello!\", age=25)  # Provides values\n",
    "user3 = User(bio=None, age=None)  # Explicitly sets to None"
   ]
  },
  {
   "cell_type": "markdown",
   "metadata": {},
   "source": [
    "### Metadata and Documentation"
   ]
  },
  {
   "cell_type": "code",
   "execution_count": 51,
   "metadata": {},
   "outputs": [],
   "source": [
    "class Example(BaseModel):\n",
    "\n",
    "    description: str = Field(\n",
    "        default=\"\",\n",
    "        title=\"Item Description\",           # used in JSON schema\n",
    "        description=\"Detailed description\", # documentation\n",
    "        examples=[\"Example text\"]           # example values\n",
    "    )"
   ]
  },
  {
   "cell_type": "markdown",
   "metadata": {},
   "source": [
    "### Constraints"
   ]
  },
  {
   "cell_type": "code",
   "execution_count": 46,
   "metadata": {},
   "outputs": [],
   "source": [
    "class Example(BaseModel):\n",
    "    \n",
    "    # Constraints for Numbers\n",
    "    score: float = Field(\n",
    "        gt=0,           # greater than\n",
    "        lt=100,         # less than\n",
    "        ge=0,           # greater than or equal\n",
    "        le=100,         # less than or equal\n",
    "        multiple_of=0.5 # must be multiple of this number\n",
    "    )\n",
    "    \n",
    "    # String Constraints\n",
    "    username: str = Field(\n",
    "        min_length=3,    # minimum length\n",
    "        max_length=50,   # maximum length\n",
    "        pattern=\"^[a-zA-Z0-9_]*$\"  # must match this pattern\n",
    "    )\n",
    "    \n",
    "    # Sequence Constraints (Lists, Sets, etc)\n",
    "    tags: List[str] = Field(\n",
    "        min_items=1,     # minimum number of items\n",
    "        max_items=10,    # maximum number of items\n",
    "    )\n",
    "    \n",
    "    # Constrained Values\n",
    "    status: str = Field(\n",
    "        default=\"active\",\n",
    "        choices=[\"active\", \"inactive\", \"pending\"]  # allowed values\n",
    "    )"
   ]
  },
  {
   "cell_type": "markdown",
   "metadata": {},
   "source": [
    "## Type Validation"
   ]
  },
  {
   "cell_type": "code",
   "execution_count": 47,
   "metadata": {},
   "outputs": [
    {
     "name": "stdout",
     "output_type": "stream",
     "text": [
      "Validation error: 1 validation error for User\n",
      "age\n",
      "  Input should be a valid integer, unable to parse string as an integer [type=int_parsing, input_value='not a number', input_type=str]\n",
      "    For further information visit https://errors.pydantic.dev/2.10/v/int_parsing\n"
     ]
    }
   ],
   "source": [
    "# This will raise a validation error\n",
    "try:\n",
    "    user = User(name=\"Bob\", age=\"not a number\", email=\"bob@example.com\")\n",
    "except ValueError as e:\n",
    "    print(f\"Validation error: {e}\")"
   ]
  },
  {
   "cell_type": "markdown",
   "metadata": {},
   "source": [
    "## Data Coercion"
   ]
  },
  {
   "cell_type": "code",
   "execution_count": 48,
   "metadata": {},
   "outputs": [
    {
     "name": "stdout",
     "output_type": "stream",
     "text": [
      "2024-01-13 10:30:00\n"
     ]
    }
   ],
   "source": [
    "class Event(BaseModel):\n",
    "    timestamp: datetime\n",
    "    \n",
    "# Pydantic will automatically convert string to datetime\n",
    "event = Event(timestamp=\"2024-01-13T10:30:00\")\n",
    "print(event.timestamp)  # Returns datetime object"
   ]
  },
  {
   "cell_type": "markdown",
   "metadata": {},
   "source": [
    "## Nested Models"
   ]
  },
  {
   "cell_type": "code",
   "execution_count": 49,
   "metadata": {},
   "outputs": [],
   "source": [
    "class Address(BaseModel):\n",
    "    street: str\n",
    "    city: str\n",
    "    country: str\n",
    "\n",
    "class Customer(BaseModel):\n",
    "    name: str\n",
    "    address: Address\n",
    "    \n",
    "# Using nested models\n",
    "customer = Customer(\n",
    "    name=\"Alice\",\n",
    "    address={\n",
    "        \"street\": \"123 Main St\",\n",
    "        \"city\": \"Boston\",\n",
    "        \"country\": \"USA\"\n",
    "    }\n",
    ")"
   ]
  },
  {
   "cell_type": "markdown",
   "metadata": {},
   "source": [
    "## Data Export"
   ]
  },
  {
   "cell_type": "code",
   "execution_count": 53,
   "metadata": {},
   "outputs": [
    {
     "data": {
      "text/plain": [
       "{'name': 'Alice',\n",
       " 'age': 30,\n",
       " 'email': 'alice@example.com',\n",
       " 'interests': ['python', 'data science'],\n",
       " 'bio': None,\n",
       " 'metrics': {'age': 30.0},\n",
       " 'zipcode': '12345'}"
      ]
     },
     "execution_count": 53,
     "metadata": {},
     "output_type": "execute_result"
    }
   ],
   "source": [
    "# Convert to dictionary\n",
    "user_dict = user.model_dump()\n",
    "user_dict"
   ]
  },
  {
   "cell_type": "code",
   "execution_count": 54,
   "metadata": {},
   "outputs": [
    {
     "data": {
      "text/plain": [
       "'{\"name\":\"Alice\",\"age\":30,\"email\":\"alice@example.com\",\"interests\":[\"python\",\"data science\"],\"bio\":null,\"metrics\":{\"age\":30.0},\"zipcode\":\"12345\"}'"
      ]
     },
     "execution_count": 54,
     "metadata": {},
     "output_type": "execute_result"
    }
   ],
   "source": [
    "# Convert to JSON\n",
    "user_json = user.model_dump_json()\n",
    "user_json"
   ]
  },
  {
   "cell_type": "code",
   "execution_count": 55,
   "metadata": {},
   "outputs": [
    {
     "data": {
      "text/plain": [
       "{'name': 'Alice',\n",
       " 'age': 30,\n",
       " 'email': 'alice@example.com',\n",
       " 'interests': ['python', 'data science'],\n",
       " 'bio': None,\n",
       " 'metrics': {'age': 30.0},\n",
       " 'zipcode': '12345'}"
      ]
     },
     "execution_count": 55,
     "metadata": {},
     "output_type": "execute_result"
    }
   ],
   "source": [
    "# Exclude certain fields\n",
    "user_dict = user.model_dump(exclude={'password'})\n",
    "user_dict"
   ]
  },
  {
   "cell_type": "markdown",
   "metadata": {},
   "source": [
    "# Enum\n",
    "\n",
    "This code defines an enumeration (Enum) class called `Weapon` that inherits from both `str` and `Enum`. \n",
    "\n",
    "In the context of Pydantic, this is commonly used to define a set of valid string values that a field can accept.\n",
    "1. The class inherits from `str` to make the enum values behave like strings\n",
    "2. It also inherits from `Enum` to create an enumeration where each value is a constant\n",
    "3. Each class attribute defines a valid enum member where:\n",
    "- The name on the left (e.g., `sword`) is the enum member name\n",
    "- The string on the right (e.g., \"sword\") is the value associated with that member"
   ]
  },
  {
   "cell_type": "code",
   "execution_count": null,
   "metadata": {},
   "outputs": [],
   "source": [
    "from enum import Enum\n",
    "\n",
    "class Weapon(str, Enum):\n",
    "    sword = \"sword\"\n",
    "    axe = \"axe\"\n",
    "    mace = \"mace\"\n",
    "    spear = \"spear\"\n",
    "    bow = \"bow\"\n",
    "    crossbow = \"crossbow\"\n",
    "\n",
    "class Character(BaseModel):\n",
    "    name: str\n",
    "    weapon: Weapon\n",
    "\n",
    "# This works fine because \"sword\" is a valid weapon\n",
    "character = Character(name=\"Aragorn\", weapon=\"sword\")\n",
    "\n",
    "# This would raise a validation error because \"hammer\" isn't defined\n",
    "# character = Character(name=\"Thor\", weapon=\"hammer\")"
   ]
  },
  {
   "cell_type": "markdown",
   "metadata": {},
   "source": [
    "## Dyanmic Model Creation\n",
    "\n",
    "There are some occasions where it is desirable to create a model using runtime information to specify the fields. For this Pydantic provides the `create_model` function to allow models to be created on the fly:"
   ]
  },
  {
   "cell_type": "code",
   "execution_count": null,
   "metadata": {},
   "outputs": [],
   "source": [
    "from pydantic import BaseModel, create_model\n",
    "\n",
    "DynamicFoobarModel = create_model(\n",
    "    'DynamicFoobarModel', foo=(str, ...), bar=(int, 123)\n",
    ")\n",
    "\n",
    "\n",
    "class StaticFoobarModel(BaseModel):\n",
    "    foo: str\n",
    "    bar: int = 123"
   ]
  },
  {
   "cell_type": "markdown",
   "metadata": {},
   "source": [
    "Here `StaticFoobarModel` and `DynamicFoobarModel` are identical.\n",
    "\n",
    "Fields are defined by one of the following tuple forms:\n",
    "\n",
    "- `(<type>, <default value>)`\n",
    "- `(<type>, Field(...))`\n",
    "- `typing.Annotated[<type>, Field(...)]`\n",
    "\n",
    "Using a `Field(...)` call as the second argument in the tuple (the default value) allows for more advanced field configuration. Thus, the following are analogous:"
   ]
  },
  {
   "cell_type": "code",
   "execution_count": null,
   "metadata": {},
   "outputs": [],
   "source": [
    "from pydantic import BaseModel, Field, create_model\n",
    "\n",
    "DynamicModel = create_model(\n",
    "    'DynamicModel',\n",
    "    foo=(str, Field(description='foo description', alias='FOO')),\n",
    ")\n",
    "\n",
    "\n",
    "class StaticModel(BaseModel):\n",
    "    foo: str = Field(description='foo description', alias='FOO')"
   ]
  }
 ],
 "metadata": {
  "kernelspec": {
   "display_name": ".venv",
   "language": "python",
   "name": "python3"
  },
  "language_info": {
   "codemirror_mode": {
    "name": "ipython",
    "version": 3
   },
   "file_extension": ".py",
   "mimetype": "text/x-python",
   "name": "python",
   "nbconvert_exporter": "python",
   "pygments_lexer": "ipython3",
   "version": "3.11.11"
  }
 },
 "nbformat": 4,
 "nbformat_minor": 2
}
